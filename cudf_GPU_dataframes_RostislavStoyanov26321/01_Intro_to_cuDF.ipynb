{
  "nbformat": 4,
  "nbformat_minor": 0,
  "metadata": {
    "anaconda-cloud": {},
    "kernelspec": {
      "display_name": "Python 3",
      "language": "python",
      "name": "python3"
    },
    "language_info": {
      "codemirror_mode": {
        "name": "ipython",
        "version": 3
      },
      "file_extension": ".py",
      "mimetype": "text/x-python",
      "name": "python",
      "nbconvert_exporter": "python",
      "pygments_lexer": "ipython3",
      "version": "3.7.8"
    },
    "colab": {
      "name": "01-Intro_to_cuDF.ipynb",
      "provenance": [],
      "collapsed_sections": [
        "gvyxGe8-XMbX",
        "xQV4Yv9tXMba",
        "OUn8tpWOXMbe",
        "XGHsDCYrXMbe",
        "SaAknqywXMbf",
        "AISQ0aObXMbg",
        "aDj5T1IGXMbh",
        "BaIqOpO0XMbh",
        "BQ5011KkXMbh",
        "grVwX_iEXMbj",
        "3_9j_L5mXMbj",
        "Vjspa7lvXMbl",
        "E4mAx7H1XMbn",
        "vKTfHq09XMbn",
        "FG6ChZNfXMbq"
      ],
      "include_colab_link": true
    },
    "accelerator": "GPU"
  },
  "cells": [
    {
      "cell_type": "markdown",
      "metadata": {
        "id": "view-in-github",
        "colab_type": "text"
      },
      "source": [
        "<a href=\"https://colab.research.google.com/github/RostislavStoyanov/fmi-irkd-kdd-2021/blob/main/cudf_GPU_dataframes_RostislavStoyanov26321/01_Intro_to_cuDF.ipynb\" target=\"_parent\"><img src=\"https://colab.research.google.com/assets/colab-badge.svg\" alt=\"Open In Colab\"/></a>"
      ]
    },
    {
      "cell_type": "markdown",
      "metadata": {
        "id": "M1xlNaNUXMbD"
      },
      "source": [
        "Intro to cuDF\n",
        "=======================\n",
        "\n",
        "Welcome to first cuDF tutorial notebook! This is a short introduction to cuDF, partly modeled after 10 Minutes to Pandas, geared primarily for new users. cuDF is a Python GPU DataFrame library (built on the Apache Arrow columnar memory format) for loading, joining, aggregating, filtering, and otherwise manipulating data. While we'll only cover some of the cuDF functionality, but at the end of this tutorial we hope you'll feel confident creating and analyzing GPU DataFrames.\n",
        "\n",
        "We'll start by introducing the pandas library, and quickly move on cuDF."
      ]
    },
    {
      "cell_type": "code",
      "metadata": {
        "colab": {
          "base_uri": "https://localhost:8080/"
        },
        "id": "GaawUGtBXMbJ",
        "outputId": "99d84a47-47bd-4c45-f8d9-30db9e80b5b7"
      },
      "source": [
        "import os\n",
        "import numpy as np\n",
        "import math\n",
        "np.random.seed(12)\n",
        "\n",
        "# Install RAPIDS\n",
        "!git clone https://github.com/rapidsai/rapidsai-csp-utils.git\n",
        "!bash rapidsai-csp-utils/colab/rapids-colab.sh stable\n",
        "\n",
        "import sys, os, shutil\n",
        "\n",
        "sys.path.append('/usr/local/lib/python3.7/site-packages/')\n",
        "os.environ['NUMBAPRO_NVVM'] = '/usr/local/cuda/nvvm/lib64/libnvvm.so'\n",
        "os.environ['NUMBAPRO_LIBDEVICE'] = '/usr/local/cuda/nvvm/libdevice/'\n",
        "os.environ[\"CONDA_PREFIX\"] = \"/usr/local\"\n",
        "for so in ['cudf']:\n",
        "  fn = 'lib'+so+'.so'\n",
        "  source_fn = '/usr/local/lib/'+fn\n",
        "  dest_fn = '/usr/lib/'+fn\n",
        "  if os.path.exists(source_fn):\n",
        "    print(f'Copying {source_fn} to {dest_fn}')\n",
        "    shutil.copyfile(source_fn, dest_fn)\n",
        "# fix for BlazingSQL import issue\n",
        "# ImportError: /usr/lib/x86_64-linux-gnu/libstdc++.so.6: version `GLIBCXX_3.4.26' not found (required by /usr/local/lib/python3.7/site-packages/../../libblazingsql-engine.so)\n",
        "if not os.path.exists('/usr/lib64'):\n",
        "    os.makedirs('/usr/lib64')\n",
        "for so_file in os.listdir('/usr/local/lib'):\n",
        "  if 'libstdc' in so_file:\n",
        "    shutil.copyfile('/usr/local/lib/'+so_file, '/usr/lib64/'+so_file)\n",
        "    shutil.copyfile('/usr/local/lib/'+so_file, '/usr/lib/x86_64-linux-gnu/'+so_file)\n",
        "\n",
        "import sys, os\n",
        "\n",
        "dist_package_index = sys.path.index('/usr/local/lib/python3.7/dist-packages')\n",
        "sys.path = sys.path[:dist_package_index] + ['/usr/local/lib/python3.7/site-packages'] + sys.path[dist_package_index:]\n",
        "sys.path\n",
        "exec(open('rapidsai-csp-utils/colab/update_modules.py').read(), globals())"
      ],
      "execution_count": null,
      "outputs": [
        {
          "output_type": "stream",
          "text": [
            "Cloning into 'rapidsai-csp-utils'...\n",
            "remote: Enumerating objects: 238, done.\u001b[K\n",
            "remote: Counting objects: 100% (67/67), done.\u001b[K\n",
            "remote: Compressing objects: 100% (62/62), done.\u001b[K\n",
            "remote: Total 238 (delta 36), reused 11 (delta 5), pack-reused 171\u001b[K\n",
            "Receiving objects: 100% (238/238), 73.89 KiB | 14.78 MiB/s, done.\n",
            "Resolving deltas: 100% (98/98), done.\n",
            "PLEASE READ\n",
            "********************************************************************************************************\n",
            "Changes:\n",
            "1. IMPORTANT SCRIPT CHANGES: Colab has updated to Python 3.7, and now runs our STABLE and NIGHTLY versions (0.19 and 0.20)!  PLEASE update your older install script code as follows:\n",
            "\t!bash rapidsai-csp-utils/colab/rapids-colab.sh 0.19\n",
            "\n",
            "\timport sys, os, shutil\n",
            "\n",
            "\tsys.path.append('/usr/local/lib/python3.7/site-packages/')\n",
            "\tos.environ['NUMBAPRO_NVVM'] = '/usr/local/cuda/nvvm/lib64/libnvvm.so'\n",
            "\tos.environ['NUMBAPRO_LIBDEVICE'] = '/usr/local/cuda/nvvm/libdevice/'\n",
            "\tos.environ['CONDA_PREFIX'] = '/usr/local'\n",
            "\tfor so in ['cudf', 'rmm', 'nccl', 'cuml', 'cugraph', 'xgboost', 'cuspatial']:\n",
            "\t  fn = 'lib'+so+'.so'\n",
            "\t  source_fn = '/usr/local/lib/'+fn\n",
            "\t  dest_fn = '/usr/lib/'+fn\n",
            "\t  if os.path.exists(source_fn):\n",
            "\t    print(f'Copying {source_fn} to {dest_fn}')\n",
            "\t    shutil.copyfile(source_fn, dest_fn)\n",
            "\tif not os.path.exists('/usr/lib64'):\n",
            "\t    os.makedirs('/usr/lib64')\n",
            "\tfor so_file in os.listdir('/usr/local/lib'):\n",
            "\t  if 'libstdc' in so_file:\n",
            "\t    shutil.copyfile('/usr/local/lib/'+so_file, '/usr/lib64/'+so_file)\n",
            "\t    shutil.copyfile('/usr/local/lib/'+so_file, '/usr/lib/x86_64-linux-gnu/'+so_file)\n",
            "\n",
            "2. IMPORTANT NOTICE: If you need CuGraph, please use RAPIDS 0.18 for now. \n",
            "3. IMPORTANT NOTICE: CuGraph's Louvain requires a Volta+ GPU (T4, V100).  If you get a P4 or P100 and intend to use Louvain, please FACTORY RESET your instance and try to get a compatible GPU\n",
            "4. Default stable version is now 0.19.  Nightly is now 0.20.\n",
            "5. You can declare your RAPIDSAI version as a CLI option and skip the user prompts (ex: '0.19' or '0.20', between 0.18 to 0.20, without the quotes): \n",
            "        \"!bash rapidsai-csp-utils/colab/rapids-colab.sh <version/label>\"\n",
            "        Examples: '!bash rapidsai-csp-utils/colab/rapids-colab.sh 0.19', or '!bash rapidsai-csp-utils/colab/rapids-colab.sh stable', or '!bash rapidsai-csp-utils/colab/rapids-colab.sh s'\n",
            "                  '!bash rapidsai-csp-utils/colab/rapids-colab.sh 0.20, or '!bash rapidsai-csp-utils/colab/rapids-colab.sh nightly', or '!bash rapidsai-csp-utils/colab/rapids-colab.sh n'\n",
            "Enjoy using RAPIDS!  If you have any issues with or suggestions for RAPIDSAI on Colab, please create a bug request on https://github.com/rapidsai/rapidsai-csp-utils/issues/new.\n",
            "For a near instant entry into a RAPIDS Library experience, or if we haven't fixed a fatal issue yet, please use https://app.blazingsql.com/.  Thanks!\n",
            "cupy install is 8.6.0\n",
            "Starting to prep Colab for install RAPIDS Version 0.19 stable\n",
            "Checking for GPU type:\n",
            "***********************************************************************\n",
            "Woo! Your instance has the right kind of GPU, a Tesla T4!\n",
            "***********************************************************************\n",
            "\n",
            "Collecting cupy-cuda110==8.6.0\n",
            "\u001b[?25l  Downloading https://files.pythonhosted.org/packages/40/cc/6886c38a071138dd2bc52ddfe09a90b1fa0f8a3ee17522958e7074504d74/cupy_cuda110-8.6.0-cp37-cp37m-manylinux1_x86_64.whl (165.3MB)\n",
            "\u001b[K     |████████████████████████████████| 165.3MB 86kB/s \n",
            "\u001b[?25hRequirement already satisfied: fastrlock>=0.3 in /usr/local/lib/python3.7/dist-packages (from cupy-cuda110==8.6.0) (0.6)\n",
            "Requirement already satisfied: numpy>=1.15 in /usr/local/lib/python3.7/dist-packages (from cupy-cuda110==8.6.0) (1.19.5)\n",
            "Installing collected packages: cupy-cuda110\n",
            "Successfully installed cupy-cuda110-8.6.0\n",
            "Removing conflicting packages, will replace with RAPIDS compatible versions\n",
            "Uninstalling dask-2.12.0:\n",
            "  Successfully uninstalled dask-2.12.0\n",
            "Uninstalling distributed-1.25.3:\n",
            "  Successfully uninstalled distributed-1.25.3\n",
            "Uninstalling xgboost-0.90:\n",
            "  Successfully uninstalled xgboost-0.90\n",
            "Uninstalling pyarrow-3.0.0:\n",
            "  Successfully uninstalled pyarrow-3.0.0\n",
            "Uninstalling numba-0.51.2:\n",
            "  Successfully uninstalled numba-0.51.2\n",
            "Uninstalling llvmlite-0.34.0:\n",
            "  Successfully uninstalled llvmlite-0.34.0\n",
            "Uninstalling PySocks-1.7.1:\n",
            "  Successfully uninstalled PySocks-1.7.1\n",
            "Uninstalling requests-2.23.0:\n",
            "  Successfully uninstalled requests-2.23.0\n",
            "Uninstalling six-1.15.0:\n",
            "  Successfully uninstalled six-1.15.0\n",
            "Uninstalling urllib3-1.24.3:\n",
            "  Successfully uninstalled urllib3-1.24.3\n",
            "Uninstalling cffi-1.14.5:\n",
            "  Successfully uninstalled cffi-1.14.5\n",
            "Installing conda\n",
            "--2021-05-08 15:02:28--  https://repo.anaconda.com/miniconda/Miniconda3-py37_4.9.2-Linux-x86_64.sh\n",
            "Resolving repo.anaconda.com (repo.anaconda.com)... 104.16.130.3, 104.16.131.3, 2606:4700::6810:8303, ...\n",
            "Connecting to repo.anaconda.com (repo.anaconda.com)|104.16.130.3|:443... connected.\n",
            "HTTP request sent, awaiting response... 200 OK\n",
            "Length: 90040905 (86M) [application/x-sh]\n",
            "Saving to: ‘Miniconda3-py37_4.9.2-Linux-x86_64.sh’\n",
            "\n",
            "Miniconda3-py37_4.9 100%[===================>]  85.87M   249MB/s    in 0.3s    \n",
            "\n",
            "2021-05-08 15:02:29 (249 MB/s) - ‘Miniconda3-py37_4.9.2-Linux-x86_64.sh’ saved [90040905/90040905]\n",
            "\n",
            "PREFIX=/usr/local\n",
            "Unpacking payload ...\n",
            "Collecting package metadata (current_repodata.json): - \b\b\\ \b\b| \b\bdone\n",
            "Solving environment: - \b\b\\ \b\bdone\n",
            "\n",
            "## Package Plan ##\n",
            "\n",
            "  environment location: /usr/local\n",
            "\n",
            "  added / updated specs:\n",
            "    - _libgcc_mutex==0.1=main\n",
            "    - brotlipy==0.7.0=py37h27cfd23_1003\n",
            "    - ca-certificates==2020.10.14=0\n",
            "    - certifi==2020.6.20=pyhd3eb1b0_3\n",
            "    - cffi==1.14.3=py37h261ae71_2\n",
            "    - chardet==3.0.4=py37h06a4308_1003\n",
            "    - conda-package-handling==1.7.2=py37h03888b9_0\n",
            "    - conda==4.9.2=py37h06a4308_0\n",
            "    - cryptography==3.2.1=py37h3c74f83_1\n",
            "    - idna==2.10=py_0\n",
            "    - ld_impl_linux-64==2.33.1=h53a641e_7\n",
            "    - libedit==3.1.20191231=h14c3975_1\n",
            "    - libffi==3.3=he6710b0_2\n",
            "    - libgcc-ng==9.1.0=hdf63c60_0\n",
            "    - libstdcxx-ng==9.1.0=hdf63c60_0\n",
            "    - ncurses==6.2=he6710b0_1\n",
            "    - openssl==1.1.1h=h7b6447c_0\n",
            "    - pip==20.2.4=py37h06a4308_0\n",
            "    - pycosat==0.6.3=py37h27cfd23_0\n",
            "    - pycparser==2.20=py_2\n",
            "    - pyopenssl==19.1.0=pyhd3eb1b0_1\n",
            "    - pysocks==1.7.1=py37_1\n",
            "    - python==3.7.9=h7579374_0\n",
            "    - readline==8.0=h7b6447c_0\n",
            "    - requests==2.24.0=py_0\n",
            "    - ruamel_yaml==0.15.87=py37h7b6447c_1\n",
            "    - setuptools==50.3.1=py37h06a4308_1\n",
            "    - six==1.15.0=py37h06a4308_0\n",
            "    - sqlite==3.33.0=h62c20be_0\n",
            "    - tk==8.6.10=hbc83047_0\n",
            "    - tqdm==4.51.0=pyhd3eb1b0_0\n",
            "    - urllib3==1.25.11=py_0\n",
            "    - wheel==0.35.1=pyhd3eb1b0_0\n",
            "    - xz==5.2.5=h7b6447c_0\n",
            "    - yaml==0.2.5=h7b6447c_0\n",
            "    - zlib==1.2.11=h7b6447c_3\n",
            "\n",
            "\n",
            "The following NEW packages will be INSTALLED:\n",
            "\n",
            "  _libgcc_mutex      pkgs/main/linux-64::_libgcc_mutex-0.1-main\n",
            "  brotlipy           pkgs/main/linux-64::brotlipy-0.7.0-py37h27cfd23_1003\n",
            "  ca-certificates    pkgs/main/linux-64::ca-certificates-2020.10.14-0\n",
            "  certifi            pkgs/main/noarch::certifi-2020.6.20-pyhd3eb1b0_3\n",
            "  cffi               pkgs/main/linux-64::cffi-1.14.3-py37h261ae71_2\n",
            "  chardet            pkgs/main/linux-64::chardet-3.0.4-py37h06a4308_1003\n",
            "  conda              pkgs/main/linux-64::conda-4.9.2-py37h06a4308_0\n",
            "  conda-package-han~ pkgs/main/linux-64::conda-package-handling-1.7.2-py37h03888b9_0\n",
            "  cryptography       pkgs/main/linux-64::cryptography-3.2.1-py37h3c74f83_1\n",
            "  idna               pkgs/main/noarch::idna-2.10-py_0\n",
            "  ld_impl_linux-64   pkgs/main/linux-64::ld_impl_linux-64-2.33.1-h53a641e_7\n",
            "  libedit            pkgs/main/linux-64::libedit-3.1.20191231-h14c3975_1\n",
            "  libffi             pkgs/main/linux-64::libffi-3.3-he6710b0_2\n",
            "  libgcc-ng          pkgs/main/linux-64::libgcc-ng-9.1.0-hdf63c60_0\n",
            "  libstdcxx-ng       pkgs/main/linux-64::libstdcxx-ng-9.1.0-hdf63c60_0\n",
            "  ncurses            pkgs/main/linux-64::ncurses-6.2-he6710b0_1\n",
            "  openssl            pkgs/main/linux-64::openssl-1.1.1h-h7b6447c_0\n",
            "  pip                pkgs/main/linux-64::pip-20.2.4-py37h06a4308_0\n",
            "  pycosat            pkgs/main/linux-64::pycosat-0.6.3-py37h27cfd23_0\n",
            "  pycparser          pkgs/main/noarch::pycparser-2.20-py_2\n",
            "  pyopenssl          pkgs/main/noarch::pyopenssl-19.1.0-pyhd3eb1b0_1\n",
            "  pysocks            pkgs/main/linux-64::pysocks-1.7.1-py37_1\n",
            "  python             pkgs/main/linux-64::python-3.7.9-h7579374_0\n",
            "  readline           pkgs/main/linux-64::readline-8.0-h7b6447c_0\n",
            "  requests           pkgs/main/noarch::requests-2.24.0-py_0\n",
            "  ruamel_yaml        pkgs/main/linux-64::ruamel_yaml-0.15.87-py37h7b6447c_1\n",
            "  setuptools         pkgs/main/linux-64::setuptools-50.3.1-py37h06a4308_1\n",
            "  six                pkgs/main/linux-64::six-1.15.0-py37h06a4308_0\n",
            "  sqlite             pkgs/main/linux-64::sqlite-3.33.0-h62c20be_0\n",
            "  tk                 pkgs/main/linux-64::tk-8.6.10-hbc83047_0\n",
            "  tqdm               pkgs/main/noarch::tqdm-4.51.0-pyhd3eb1b0_0\n",
            "  urllib3            pkgs/main/noarch::urllib3-1.25.11-py_0\n",
            "  wheel              pkgs/main/noarch::wheel-0.35.1-pyhd3eb1b0_0\n",
            "  xz                 pkgs/main/linux-64::xz-5.2.5-h7b6447c_0\n",
            "  yaml               pkgs/main/linux-64::yaml-0.2.5-h7b6447c_0\n",
            "  zlib               pkgs/main/linux-64::zlib-1.2.11-h7b6447c_3\n",
            "\n",
            "\n",
            "Preparing transaction: / \b\b- \b\b\\ \b\bdone\n",
            "Executing transaction: / \b\b- \b\b\\ \b\b| \b\b/ \b\b- \b\b\\ \b\b| \b\b/ \b\b- \b\b\\ \b\b| \b\b/ \b\bdone\n",
            "installation finished.\n",
            "WARNING:\n",
            "    You currently have a PYTHONPATH environment variable set. This may cause\n",
            "    unexpected behavior when running the Python interpreter in Miniconda3.\n",
            "    For best results, please verify that your PYTHONPATH only points to\n",
            "    directories of packages that are compatible with the Python interpreter\n",
            "    in Miniconda3: /usr/local\n",
            "Installing RAPIDS 0.19 packages from the stable release channel\n",
            "Please standby, this will take a few minutes...\n",
            "Collecting package metadata (current_repodata.json): - \b\b\\ \b\b| \b\b/ \b\b- \b\b\\ \b\b| \b\b/ \b\b- \b\b\\ \b\b| \b\b/ \b\b- \b\b\\ \b\b| \b\b/ \b\b- \b\b\\ \b\b| \b\b/ \b\b- \b\b\\ \b\b| \b\b/ \b\b- \b\b\\ \b\b| \b\b/ \b\b- \b\b\\ \b\b| \b\b/ \b\b- \b\b\\ \b\b| \b\b/ \b\b- \b\b\\ \b\b| \b\b/ \b\b- \b\b\\ \b\b| \b\b/ \b\b- \b\b\\ \b\b| \b\b/ \b\b- \b\b\\ \b\b| \b\b/ \b\b- \b\b\\ \b\b| \b\b/ \b\b- \b\b\\ \b\b| \b\b/ \b\b- \b\b\\ \b\b| \b\b/ \b\b- \b\b\\ \b\b| \b\b/ \b\b- \b\b\\ \b\b| \b\b/ \b\b- \b\b\\ \b\b| \b\b/ \b\b- \b\b\\ \b\b| \b\b/ \b\b- \b\b\\ \b\b| \b\b/ \b\b- \b\b\\ \b\b| \b\b/ \b\b- \b\b\\ \b\b| \b\b/ \b\b- \b\b\\ \b\bdone\n",
            "Solving environment: / \b\b- \b\b\\ \b\b| \b\b/ \b\b- \b\b\\ \b\b| \b\b/ \b\b- \b\b\\ \b\b| \b\b/ \b\b- \b\b\\ \b\b| \b\b/ \b\b- \b\b\\ \b\b| \b\b/ \b\b- \b\b\\ \b\b| \b\b/ \b\b- \b\b\\ \b\b| \b\b/ \b\b- \b\b\\ \b\b| \b\b/ \b\b- \b\b\\ \b\b| \b\b/ \b\b- \b\b\\ \b\b| \b\b/ \b\b- \b\b\\ \b\b| \b\b/ \b\b- \b\b\\ \b\b| \b\b/ \b\b- \b\b\\ \b\b| \b\b/ \b\b- \b\b\\ \b\b| \b\b/ \b\b- \b\b\\ \b\b| \b\b/ \b\b- \b\b\\ \b\b| \b\b/ \b\b- \b\b\\ \b\b| \b\b/ \b\b- \b\b\\ \b\b| \b\b/ \b\b- \b\b\\ \b\b| \b\b/ \b\b- \b\b\\ \b\b| \b\b/ \b\b- \b\b\\ \b\b| \b\b/ \b\b- \b\b\\ \b\b| \b\b/ \b\b- \b\b\\ \b\b| \b\b/ \b\b- \b\b\\ \b\b| \b\b/ \b\b- \b\b\\ \b\b| \b\b/ \b\b- \b\b\\ \b\b| \b\b/ \b\b- \b\b\\ \b\b| \b\b/ \b\b- \b\b\\ \b\b| \b\b/ \b\b- \b\b\\ \b\b| \b\b/ \b\b- \b\b\\ \b\b| \b\b/ \b\b- \b\b\\ \b\b| \b\b/ \b\b- \b\b\\ \b\b| \b\b/ \b\b- \b\b\\ \b\b| \b\b/ \b\b- \b\b\\ \b\b| \b\b/ \b\b- \b\b\\ \b\b| \b\b/ \b\b- \b\b\\ \b\b| \b\b/ \b\b- \b\b\\ \b\b| \b\b/ \b\b- \b\b\\ \b\b| \b\b/ \b\b- \b\b\\ \b\b| \b\b/ \b\b- \b\b\\ \b\b| \b\b/ \b\b- \b\b\\ \b\b| \b\b/ \b\b- \b\b\\ \b\b| \b\b/ \b\b- \b\b\\ \b\b| \b\b/ \b\b- \b\b\\ \b\b| \b\b/ \b\b- \b\b\\ \b\b| \b\b/ \b\b- \b\b\\ \b\b| \b\bfailed with initial frozen solve. Retrying with flexible solve.\n",
            "Solving environment: - \b\b\\ \b\b| \b\b/ \b\b- \b\b\\ \b\b| \b\b/ \b\b- \b\b\\ \b\b| \b\b/ \b\b- \b\b\\ \b\b| \b\b/ \b\b- \b\b\\ \b\b| \b\b/ \b\b- \b\b\\ \b\b| \b\b/ \b\b- \b\b\\ \b\b| \b\b/ \b\b- \b\b\\ \b\b| \b\b/ \b\b- \b\b\\ \b\b| \b\b/ \b\b- \b\b\\ \b\b| \b\b/ \b\b- \b\b\\ \b\b| \b\b/ \b\b- \b\b\\ \b\b| \b\b/ \b\b- \b\b\\ \b\b| \b\b/ \b\b- \b\b\\ \b\b| \b\b/ \b\b- \b\b\\ \b\b| \b\b/ \b\b- \b\b\\ \b\b| \b\b/ \b\b- \b\b\\ \b\b| \b\b/ \b\b- \b\b\\ \b\b| \b\b/ \b\b- \b\b\\ \b\b| \b\b/ \b\b- \b\b\\ \b\b| \b\b/ \b\b- \b\b\\ \b\b| \b\b/ \b\b- \b\b\\ \b\b| \b\b/ \b\b- \b\b\\ \b\b| \b\b/ \b\b- \b\b\\ \b\b| \b\b/ \b\b- \b\b\\ \b\b| \b\b/ \b\b- \b\b\\ \b\b| \b\b/ \b\b- \b\b\\ \b\b| \b\b/ \b\b- \b\b\\ \b\b| \b\b/ \b\b- \b\b\\ \b\b| \b\b/ \b\b- \b\b\\ \b\b| \b\b/ \b\b- \b\b\\ \b\b| \b\b/ \b\b- \b\b\\ \b\b| \b\b/ \b\b- \b\b\\ \b\b| \b\b/ \b\b- \b\b\\ \b\b| \b\b/ \b\b- \b\b\\ \b\b| \b\b/ \b\b- \b\b\\ \b\b| \b\b/ \b\b- \b\b\\ \b\b| \b\b/ \b\b- \b\b\\ \b\b| \b\b/ \b\b- \b\b\\ \b\b| \b\b/ \b\b- \b\b\\ \b\b| \b\b/ \b\b- \b\b\\ \b\b| \b\b/ \b\b- \b\b\\ \b\b| \b\b/ \b\b- \b\b\\ \b\b| \b\b/ \b\b- \b\b\\ \b\b| \b\b/ \b\b- \b\b\\ \b\b| \b\b/ \b\b- \b\b\\ \b\b| \b\b/ \b\b- \b\b\\ \b\b| \b\b/ \b\b- \b\b\\ \b\b| \b\b/ \b\b- \b\b\\ \b\b| \b\b/ \b\b- \b\b\\ \b\b| \b\b/ \b\b- \b\b\\ \b\b| \b\b/ \b\b- \b\b\\ \b\b| \b\b/ \b\b- \b\b\\ \b\b| \b\b/ \b\b- \b\b\\ \b\b| \b\b/ \b\b- \b\b\\ \b\b| \b\b/ \b\b- \b\b\\ \b\b| \b\b/ \b\b- \b\b\\ \b\b| \b\b/ \b\b- \b\b\\ \b\b| \b\b/ \b\b- \b\b\\ \b\b| \b\b/ \b\b- \b\b\\ \b\b| \b\b/ \b\b- \b\b\\ \b\b| \b\b/ \b\b- \b\b\\ \b\b| \b\b/ \b\b- \b\b\\ \b\b| \b\b/ \b\b- \b\b\\ \b\b| \b\b/ \b\b- \b\b\\ \b\b| \b\b/ \b\b- \b\b\\ \b\b| \b\b/ \b\b- \b\b\\ \b\b| \b\b/ \b\b- \b\b\\ \b\b| \b\b/ \b\b- \b\b\\ \b\bfailed with repodata from current_repodata.json, will retry with next repodata source.\n",
            "Collecting package metadata (repodata.json): / \b\b- \b\b\\ \b\b| \b\b/ \b\b- \b\b\\ \b\b| \b\b/ \b\b- \b\b\\ \b\b| \b\b/ \b\b- \b\b\\ \b\b| \b\b/ \b\b- \b\b\\ \b\b| \b\b/ \b\b- \b\b\\ \b\b| \b\b/ \b\b- \b\b\\ \b\b| \b\b/ \b\b- \b\b\\ \b\b| \b\b/ \b\b- \b\b\\ \b\b| \b\b/ \b\b- \b\b\\ \b\b| \b\b/ \b\b- \b\b\\ \b\b| \b\b/ \b\b- \b\b\\ \b\b| \b\b/ \b\b- \b\b\\ \b\b| \b\b/ \b\b- \b\b\\ \b\b| \b\b/ \b\b- \b\b\\ \b\b| \b\b/ \b\b- \b\b\\ \b\b| \b\b/ \b\b- \b\b\\ \b\b| \b\b/ \b\b- \b\b\\ \b\b| \b\b/ \b\b- \b\b\\ \b\b| \b\b/ \b\b- \b\b\\ \b\b| \b\b/ \b\b- \b\b\\ \b\b| \b\b/ \b\b- \b\b\\ \b\b| \b\b/ \b\b- \b\b\\ \b\b| \b\b/ \b\b- \b\b\\ \b\b| \b\b/ \b\b- \b\b\\ \b\b| \b\b/ \b\b- \b\b\\ \b\b| \b\b/ \b\b- \b\b\\ \b\b| \b\b/ \b\b- \b\b\\ \b\b| \b\b/ \b\b- \b\b\\ \b\b| \b\b/ \b\b- \b\b\\ \b\b| \b\b/ \b\b- \b\b\\ \b\b| \b\b/ \b\b- \b\b\\ \b\b| \b\b/ \b\b- \b\b\\ \b\b| \b\b/ \b\b- \b\b\\ \b\b| \b\b/ \b\b- \b\b\\ \b\b| \b\b/ \b\b- \b\b\\ \b\b| \b\b/ \b\b- \b\b\\ \b\b| \b\b/ \b\b- \b\b\\ \b\b| \b\b/ \b\b- \b\b\\ \b\b| \b\b/ \b\b- \b\b\\ \b\b| \b\b/ \b\b- \b\b\\ \b\b| \b\b/ \b\b- \b\b\\ \b\b| \b\b/ \b\b- \b\b\\ \b\b| \b\b/ \b\b- \b\b\\ \b\b| \b\b/ \b\b- \b\b\\ \b\b| \b\b/ \b\b- \b\b\\ \b\b| \b\b/ \b\b- \b\b\\ \b\b| \b\b/ \b\b- \b\b\\ \b\b| \b\b/ \b\b- \b\b\\ \b\b| \b\b/ \b\b- \b\b\\ \b\b| \b\b/ \b\b- \b\b\\ \b\b| \b\b/ \b\b- \b\b\\ \b\b| \b\b/ \b\b- \b\b\\ \b\b| \b\b/ \b\b- \b\b\\ \b\b| \b\b/ \b\b- \b\b\\ \b\b| \b\b/ \b\b- \b\b\\ \b\b| \b\b/ \b\b- \b\b\\ \b\b| \b\b/ \b\b- \b\b\\ \b\b| \b\b/ \b\b- \b\b\\ \b\b| \b\b/ \b\b- \b\b\\ \b\b| \b\b/ \b\b- \b\b\\ \b\b| \b\b/ \b\b- \b\b\\ \b\b| \b\b/ \b\b- \b\b\\ \b\b| \b\b/ \b\b- \b\b\\ \b\b| \b\b/ \b\b- \b\b\\ \b\b| \b\b/ \b\b- \b\b\\ \b\b| \b\b/ \b\b- \b\b\\ \b\b| \b\b/ \b\b- \b\b\\ \b\b| \b\b/ \b\b- \b\b\\ \b\b| \b\b/ \b\b- \b\b\\ \b\b| \b\b/ \b\b- \b\bdone\n",
            "Solving environment: | \b\b/ \b\b- \b\b\\ \b\b| \b\b/ \b\b- \b\b\\ \b\b| \b\b/ \b\b- \b\b\\ \b\b| \b\b/ \b\b- \b\b\\ \b\b| \b\b/ \b\b- \b\b\\ \b\b| \b\b/ \b\b- \b\b\\ \b\b| \b\b/ \b\b- \b\b\\ \b\b| \b\b/ \b\b- \b\b\\ \b\b| \b\b/ \b\b- \b\b\\ \b\b| \b\b/ \b\b- \b\b\\ \b\b| \b\b/ \b\b- \b\b\\ \b\b| \b\b/ \b\b- \b\b\\ \b\b| \b\b/ \b\b- \b\b\\ \b\b| \b\b/ \b\b- \b\b\\ \b\b| \b\b/ \b\b- \b\b\\ \b\b| \b\b/ \b\b- \b\b\\ \b\b| \b\b/ \b\b- \b\b\\ \b\b| \b\b/ \b\b- \b\b\\ \b\b| \b\b/ \b\b- \b\b\\ \b\b| \b\b/ \b\b- \b\b\\ \b\b| \b\b/ \b\b- \b\b\\ \b\b| \b\b/ \b\b- \b\b\\ \b\b| \b\b/ \b\b- \b\b\\ \b\b| \b\b/ \b\b- \b\b\\ \b\b| \b\b/ \b\b- \b\b\\ \b\b| \b\b/ \b\b- \b\b\\ \b\b| \b\b/ \b\b- \b\b\\ \b\b| \b\b/ \b\b- \b\b\\ \b\b| \b\b/ \b\b- \b\b\\ \b\b| \b\b/ \b\b- \b\b\\ \b\b| \b\b/ \b\b- \b\b\\ \b\b| \b\b/ \b\b- \b\b\\ \b\b| \b\b/ \b\b- \b\b\\ \b\b| \b\b/ \b\b- \b\b\\ \b\b| \b\b/ \b\b- \b\b\\ \b\b| \b\b/ \b\b- \b\b\\ \b\b| \b\b/ \b\b- \b\b\\ \b\b| \b\b/ \b\b- \b\b\\ \b\b| \b\b/ \b\b- \b\b\\ \b\b| \b\b/ \b\b- \b\b\\ \b\b| \b\b/ \b\b- \b\b\\ \b\b| \b\b/ \b\b- \b\b\\ \b\b| \b\b/ \b\b- \b\b\\ \b\b| \b\b/ \b\b- \b\b\\ \b\b| \b\b/ \b\b- \b\b\\ \b\b| \b\b/ \b\b- \b\b\\ \b\b| \b\b/ \b\b- \b\b\\ \b\b| \b\b/ \b\b- \b\b\\ \b\b| \b\b/ \b\b- \b\b\\ \b\b| \b\b/ \b\b- \b\b\\ \b\b| \b\b/ \b\b- \b\b\\ \b\b| \b\b/ \b\b- \b\b\\ \b\b| \b\b/ \b\b- \b\b\\ \b\b| \b\b/ \b\b- \b\b\\ \b\b| \b\b/ \b\b- \b\b\\ \b\b| \b\b/ \b\b- \b\b\\ \b\b| \b\b/ \b\b- \b\b\\ \b\b| \b\b/ \b\b- \b\b\\ \b\b| \b\b/ \b\b- \b\b\\ \b\b| \b\b/ \b\b- \b\b\\ \b\b| \b\b/ \b\b- \b\b\\ \b\b| \b\b/ \b\b- \b\b\\ \b\b| \b\b/ \b\b- \b\b\\ \b\b| \b\b/ \b\b- \b\b\\ \b\b| \b\b/ \b\b- \b\b\\ \b\b| \b\b/ \b\b- \b\b\\ \b\b| \b\b/ \b\b- \b\b\\ \b\b| \b\b/ \b\b- \b\b\\ \b\b| \b\b/ \b\b- \b\b\\ \b\b| \b\b/ \b\b- \b\b\\ \b\b| \b\b/ \b\b- \b\b\\ \b\b| \b\b/ \b\b- \b\b\\ \b\b| \b\b/ \b\b- \b\b\\ \b\b| \b\b/ \b\b- \b\b\\ \b\b| \b\b/ \b\b- \b\b\\ \b\b| \b\b/ \b\b- \b\b\\ \b\b| \b\b/ \b\b- \b\b\\ \b\b| \b\b/ \b\b- \b\b\\ \b\b| \b\b/ \b\b- \b\b\\ \b\b| \b\b/ \b\b- \b\b\\ \b\b| \b\b/ \b\b- \b\b\\ \b\b| \b\b/ \b\b- \b\b\\ \b\b| \b\b/ \b\b- \b\b\\ \b\b| \b\b/ \b\b- \b\b\\ \b\b| \b\b/ \b\b- \b\b\\ \b\b| \b\b/ \b\b- \b\b\\ \b\b| \b\b/ \b\b- \b\b\\ \b\b| \b\b/ \b\b- \b\b\\ \b\b| \b\b/ \b\b- \b\b\\ \b\b| \b\b/ \b\b- \b\b\\ \b\b| \b\b/ \b\b- \b\b\\ \b\b| \b\b/ \b\b- \b\b\\ \b\b| \b\b/ \b\b- \b\b\\ \b\b| \b\b/ \b\b- \b\b\\ \b\b| \b\b/ \b\b- \b\b\\ \b\b| \b\b/ \b\b- \b\b\\ \b\b| \b\b/ \b\b- \b\b\\ \b\b| \b\b/ \b\b- \b\b\\ \b\b| \b\b/ \b\b- \b\b\\ \b\b| \b\b/ \b\b- \b\b\\ \b\b| \b\b/ \b\b- \b\b\\ \b\b| \b\b/ \b\b- \b\b\\ \b\b| \b\b/ \b\b- \b\b\\ \b\b| \b\b/ \b\b- \b\b\\ \b\b| \b\b/ \b\b- \b\b\\ \b\b| \b\b/ \b\b- \b\b\\ \b\b| \b\b/ \b\b- \b\b\\ \b\b| \b\b/ \b\b- \b\b\\ \b\b| \b\b/ \b\b- \b\b\\ \b\b| \b\b/ \b\b- \b\b\\ \b\b| \b\b/ \b\b- \b\b\\ \b\b| \b\b/ \b\b- \b\b\\ \b\b| \b\b/ \b\b- \b\b\\ \b\b| \b\b/ \b\b- \b\b\\ \b\b| \b\b/ \b\b- \b\b\\ \b\b| \b\b/ \b\b- \b\b\\ \b\b| \b\b/ \b\b- \b\b\\ \b\b| \b\b/ \b\b- \b\b\\ \b\b| \b\b/ \b\b- \b\b\\ \b\b| \b\b/ \b\b- \b\b\\ \b\b| \b\b/ \b\b- \b\b\\ \b\b| \b\b/ \b\b- \b\b\\ \b\b| \b\b/ \b\b- \b\b\\ \b\b| \b\b/ \b\b- \b\b\\ \b\b| \b\b/ \b\b- \b\b\\ \b\b| \b\b/ \b\b- \b\b\\ \b\b| \b\b/ \b\b- \b\b\\ \b\b| \b\b/ \b\b- \b\b\\ \b\b| \b\b/ \b\b- \b\b\\ \b\b| \b\b/ \b\b- \b\b\\ \b\b| \b\b/ \b\b- \b\b\\ \b\b| \b\b/ \b\b- \b\b\\ \b\b| \b\b/ \b\b- \b\b\\ \b\b| \b\b/ \b\b- \b\b\\ \b\b| \b\b/ \b\b- \b\b\\ \b\b| \b\b/ \b\b- \b\b\\ \b\b| \b\b/ \b\b- \b\b\\ \b\b| \b\b/ \b\b- \b\b\\ \b\b| \b\b/ \b\b- \b\b\\ \b\b| \b\b/ \b\b- \b\b\\ \b\b| \b\b/ \b\b- \b\b\\ \b\b| \b\b/ \b\b- \b\b\\ \b\b| \b\b/ \b\b- \b\b\\ \b\b| \b\b/ \b\b- \b\b\\ \b\b| \b\b/ \b\b- \b\b\\ \b\b| \b\b/ \b\b- \b\b\\ \b\b| \b\b/ \b\b- \b\b\\ \b\b| \b\b/ \b\b- \b\b\\ \b\b| \b\b/ \b\b- \b\b\\ \b\b| \b\b/ \b\b- \b\b\\ \b\b| \b\b/ \b\b- \b\b\\ \b\b| \b\b/ \b\b- \b\b\\ \b\b| \b\b/ \b\b- \b\b\\ \b\b| \b\b/ \b\b- \b\b\\ \b\b| \b\b/ \b\b- \b\b\\ \b\b| \b\b/ \b\b- \b\b\\ \b\b| \b\b/ \b\b- \b\b\\ \b\b| \b\b/ \b\b- \b\b\\ \b\b| \b\b/ \b\b- \b\b\\ \b\b| \b\b/ \b\b- \b\b\\ \b\b| \b\b/ \b\b- \b\b\\ \b\b| \b\b/ \b\b- \b\b\\ \b\b| \b\b/ \b\b- \b\b\\ \b\b| \b\b/ \b\b- \b\b\\ \b\b| \b\b/ \b\b- \b\b\\ \b\b| \b\b/ \b\b- \b\b\\ \b\b| \b\b/ \b\b- \b\b\\ \b\b| \b\b/ \b\b- \b\b\\ \b\b| \b\b/ \b\b- \b\b\\ \b\b| \b\b/ \b\b- \b\b\\ \b\b| \b\b/ \b\b- \b\b\\ \b\b| \b\b/ \b\b- \b\b\\ \b\b| \b\b/ \b\b- \b\b\\ \b\b| \b\b/ \b\b- \b\b\\ \b\b| \b\b/ \b\b- \b\b\\ \b\b| \b\b/ \b\b- \b\b\\ \b\b| \b\b/ \b\b- \b\b\\ \b\b| \b\b/ \b\b- \b\b\\ \b\b| \b\b/ \b\b- \b\b\\ \b\b| \b\b/ \b\b- \b\b\\ \b\b| \b\b/ \b\b- \b\b\\ \b\b| \b\b/ \b\b- \b\b\\ \b\b| \b\b/ \b\b- \b\b\\ \b\b| \b\b/ \b\b- \b\b\\ \b\b| \b\b/ \b\b- \b\b\\ \b\b| \b\b/ \b\b- \b\b\\ \b\b| \b\b/ \b\b- \b\b\\ \b\b| \b\b/ \b\b- \b\b\\ \b\b| \b\b/ \b\b- \b\b\\ \b\b| \b\b/ \b\b- \b\b\\ \b\b| \b\b/ \b\b- \b\b\\ \b\b| \b\b/ \b\b- \b\b\\ \b\b| \b\b/ \b\b- \b\b\\ \b\b| \b\b/ \b\b- \b\b\\ \b\b| \b\b/ \b\b- \b\b\\ \b\b| \b\b/ \b\b- \b\b\\ \b\b| \b\b/ \b\b- \b\b\\ \b\b| \b\b/ \b\b- \b\b\\ \b\b| \b\b/ \b\b- \b\b\\ \b\b| \b\b/ \b\b- \b\b\\ \b\b| \b\b/ \b\b- \b\b\\ \b\b| \b\b/ \b\b- \b\b\\ \b\b| \b\b/ \b\b- \b\b\\ \b\b| \b\b/ \b\b- \b\b\\ \b\b| \b\b/ \b\b- \b\b\\ \b\b| \b\b/ \b\b- \b\b\\ \b\b| \b\b/ \b\b- \b\b\\ \b\b| \b\b/ \b\b- \b\b\\ \b\b| \b\b/ \b\b- \b\b\\ \b\b| \b\b/ \b\b- \b\b\\ \b\b| \b\b/ \b\b- \b\b\\ \b\b| \b\b/ \b\b- \b\b\\ \b\b| \b\b/ \b\b- \b\b\\ \b\b| \b\b/ \b\b- \b\b\\ \b\b| \b\b/ \b\b- \b\b\\ \b\b| \b\b/ \b\b- \b\b\\ \b\b| \b\b/ \b\b- \b\b\\ \b\b| \b\b/ \b\b- \b\b\\ \b\b| \b\b/ \b\b- \b\b\\ \b\b| \b\b/ \b\b- \b\b\\ \b\b| \b\b/ \b\b- \b\b\\ \b\b| \b\b/ \b\b- \b\b\\ \b\b| \b\b/ \b\b- \b\b\\ \b\b| \b\b/ \b\b- \b\b\\ \b\b| \b\b/ \b\b- \b\b\\ \b\b| \b\b/ \b\b- \b\b\\ \b\b| \b\b/ \b\b- \b\b\\ \b\b| \b\b/ \b\b- \b\b\\ \b\b| \b\b/ \b\b- \b\b\\ \b\b| \b\b/ \b\b- \b\b\\ \b\b| \b\b/ \b\b- \b\b\\ \b\b| \b\b/ \b\b- \b\b\\ \b\b| \b\b/ \b\b- \b\b\\ \b\b| \b\b/ \b\b- \b\b\\ \b\b| \b\b/ \b\b- \b\b\\ \b\b| \b\b/ \b\b- \b\b\\ \b\b| \b\b/ \b\b- \b\b\\ \b\b| \b\b/ \b\b- \b\b\\ \b\b| \b\b/ \b\b- \b\b\\ \b\b| \b\b/ \b\b- \b\b\\ \b\b| \b\b/ \b\b- \b\b\\ \b\b| \b\b/ \b\b- \b\b\\ \b\b| \b\b/ \b\b- \b\b\\ \b\b| \b\b/ \b\b- \b\b\\ \b\b| \b\b/ \b\b- \b\b\\ \b\b| \b\b/ \b\b- \b\b\\ \b\b| \b\b/ \b\b- \b\b\\ \b\b| \b\b/ \b\b- \b\b\\ \b\b| \b\b/ \b\b- \b\b\\ \b\b| \b\b/ \b\b- \b\b\\ \b\b| \b\b/ \b\b- \b\b\\ \b\b| \b\b/ \b\b- \b\b\\ \b\b| \b\b/ \b\b- \b\b\\ \b\b| \b\b/ \b\b- \b\b\\ \b\b| \b\b/ \b\b- \b\b\\ \b\b| \b\b/ \b\b- \b\b\\ \b\b| \b\b/ \b\b- \b\b\\ \b\b| \b\b/ \b\b- \b\b\\ \b\b| \b\b/ \b\b- \b\b\\ \b\b| \b\b/ \b\b- \b\b\\ \b\b| \b\b/ \b\b- \b\b\\ \b\b| \b\b/ \b\b- \b\b\\ \b\b| \b\b/ \b\b- \b\b\\ \b\b| \b\b/ \b\b- \b\b\\ \b\b| \b\b/ \b\b- \b\b\\ \b\b| \b\b/ \b\b- \b\b\\ \b\b| \b\b/ \b\b- \b\b\\ \b\b| \b\b/ \b\b- \b\b\\ \b\b| \b\b/ \b\b- \b\b\\ \b\b| \b\b/ \b\b- \b\b\\ \b\b| \b\b/ \b\b- \b\b\\ \b\b| \b\b/ \b\b- \b\b\\ \b\b| \b\b/ \b\b- \b\b\\ \b\b| \b\b/ \b\b- \b\b\\ \b\b| \b\b/ \b\b- \b\b\\ \b\b| \b\b/ \b\b- \b\b\\ \b\b| \b\b/ \b\b- \b\b\\ \b\b| \b\b/ \b\b- \b\b\\ \b\b| \b\b/ \b\b- \b\b\\ \b\b| \b\b/ \b\b- \b\b\\ \b\b| \b\b/ \b\b- \b\b\\ \b\b| \b\b/ \b\b- \b\b\\ \b\b| \b\b/ \b\b- \b\b\\ \b\b| \b\b/ \b\b- \b\b\\ \b\b| \b\b/ \b\b- \b\b\\ \b\b| \b\b/ \b\b- \b\b\\ \b\b| \b\b/ \b\b- \b\b\\ \b\b| \b\b/ \b\b- \b\b\\ \b\b| \b\b/ \b\b- \b\b\\ \b\b| \b\b/ \b\b- \b\b\\ \b\b| \b\b/ \b\b- \b\b\\ \b\b| \b\b/ \b\b- \b\b\\ \b\b| \b\b/ \b\b- \b\b\\ \b\b| \b\b/ \b\b- \b\b\\ \b\b| \b\b/ \b\b- \b\b\\ \b\b| \b\b/ \b\b- \b\b\\ \b\b| \b\b/ \b\b- \b\b\\ \b\b| \b\b/ \b\b- \b\b\\ \b\b| \b\b/ \b\b- \b\b\\ \b\b| \b\b/ \b\b- \b\b\\ \b\b| \b\b/ \b\b- \b\b\\ \b\b| \b\b/ \b\b- \b\b\\ \b\b| \b\b/ \b\b- \b\b\\ \b\b| \b\b/ \b\b- \b\b\\ \b\b| \b\b/ \b\b- \b\b\\ \b\b| \b\b/ \b\b- \b\b\\ \b\b| \b\b/ \b\b- \b\b\\ \b\b| \b\b/ \b\b- \b\b\\ \b\b| \b\b/ \b\b- \b\b\\ \b\b| \b\b/ \b\b- \b\b\\ \b\b| \b\b/ \b\b- \b\b\\ \b\b| \b\b/ \b\b- \b\b\\ \b\b| \b\b/ \b\b- \b\b\\ \b\b| \b\b/ \b\b- \b\b\\ \b\b| \b\b/ \b\b- \b\b\\ \b\b| \b\b/ \b\b- \b\b\\ \b\b| \b\b/ \b\b- \b\b\\ \b\b| \b\b/ \b\b- \b\b\\ \b\b| \b\b/ \b\b- \b\b\\ \b\b| \b\b/ \b\b- \b\b\\ \b\b| \b\b/ \b\b- \b\b\\ \b\b| \b\b/ \b\b- \b\b\\ \b\b| \b\b/ \b\b- \b\b\\ \b\b| \b\b/ \b\b- \b\b\\ \b\b| \b\b/ \b\b- \b\b\\ \b\b| \b\b/ \b\b- \b\b\\ \b\b| \b\b/ \b\b- \b\b\\ \b\b| \b\b/ \b\b- \b\b\\ \b\b| \b\b/ \b\b- \b\b\\ \b\b| \b\b/ \b\b- \b\b\\ \b\b| \b\b/ \b\b- \b\b\\ \b\b| \b\b/ \b\b- \b\b\\ \b\b| \b\b/ \b\b- \b\b\\ \b\b| \b\b/ \b\b- \b\b\\ \b\b| \b\b/ \b\b- \b\b\\ \b\b| \b\b/ \b\b- \b\b\\ \b\b| \b\b/ \b\b- \b\b\\ \b\b| \b\b/ \b\b- \b\b\\ \b\b| \b\b/ \b\b- \b\b\\ \b\b| \b\b/ \b\b- \b\b\\ \b\b| \b\b/ \b\b- \b\b\\ \b\b| \b\b/ \b\b- \b\b\\ \b\b| \b\b/ \b\b- \b\b\\ \b\b| \b\b/ \b\b- \b\b\\ \b\b| \b\b/ \b\b- \b\b\\ \b\b| \b\b/ \b\b- \b\b\\ \b\b| \b\b/ \b\b- \b\b\\ \b\b| \b\b/ \b\b- \b\b\\ \b\b| \b\b/ \b\b- \b\b\\ \b\b| \b\b/ \b\b- \b\b\\ \b\b| \b\b/ \b\b- \b\b\\ \b\b| \b\b/ \b\b- \b\b\\ \b\b| \b\b/ \b\b- \b\b\\ \b\b| \b\b/ \b\b- \b\b\\ \b\b| \b\b/ \b\b- \b\b\\ \b\b| \b\b/ \b\b- \b\b\\ \b\b| \b\b/ \b\b- \b\b\\ \b\b| \b\b/ \b\b- \b\b\\ \b\b| \b\b/ \b\b- \b\b\\ \b\b| \b\b/ \b\b- \b\b\\ \b\b| \b\b/ \b\b- \b\b\\ \b\b| \b\b/ \b\b- \b\b\\ \b\b| \b\b/ \b\b- \b\b\\ \b\b| \b\b/ \b\b- \b\b\\ \b\b| \b\b/ \b\b- \b\b\\ \b\b| \b\b/ \b\b- \b\b\\ \b\b| \b\b/ \b\b- \b\b\\ \b\b| \b\b/ \b\b- \b\b\\ \b\b| \b\b/ \b\b- \b\b\\ \b\b| \b\b/ \b\b- \b\b\\ \b\b| \b\b/ \b\b- \b\b\\ \b\b| \b\b/ \b\b- \b\b\\ \b\b| \b\b/ \b\b- \b\b\\ \b\b| \b\b/ \b\b- \b\b\\ \b\b| \b\b/ \b\b- \b\b\\ \b\b| \b\b/ \b\b- \b\b\\ \b\b| \b\b/ \b\b- \b\b\\ \b\b| \b\b/ \b\b- \b\b\\ \b\b| \b\b/ \b\b- \b\b\\ \b\b| \b\b/ \b\b- \n",
            "Warning: 2 possible package resolutions (only showing differing packages):\n",
            "  - conda-forge/linux-64::yarl-1.5.1-py37h8f50634_0, conda-forge/noarch::google-cloud-bigquery-storage-core-2.2.1-pyh44b312d_0\n",
            "  - conda-forge/linux-64::yarl-1.6.3-py37h5e8e339_1, conda-forge/noarch::google-cloud-bigquery-storage-core-2.0.0-pyh9f0ad1d_1\b\b\\ \b\b| \b\b/ \b\bdone\n",
            "\n",
            "\n",
            "==> WARNING: A newer version of conda exists. <==\n",
            "  current version: 4.9.2\n",
            "  latest version: 4.10.1\n",
            "\n",
            "Please update conda by running\n",
            "\n",
            "    $ conda update -n base -c defaults conda\n",
            "\n",
            "\n",
            "\n",
            "## Package Plan ##\n",
            "\n",
            "  environment location: /usr/local\n",
            "\n",
            "  added / updated specs:\n",
            "    - cudatoolkit=11.0\n",
            "    - cudf=0.19\n",
            "    - cugraph[version='0.19.*,0.19.*']\n",
            "    - cuml=0.19\n",
            "    - cusignal=0.19\n",
            "    - cuspatial=0.19\n",
            "    - dask-cudf=0.19\n",
            "    - gcsfs\n",
            "    - llvmlite\n",
            "    - openssl\n",
            "    - pandas-gbq\n",
            "    - python=3.7\n",
            "    - ujson\n",
            "    - xgboost\n",
            "\n",
            "\n",
            "The following packages will be downloaded:\n",
            "\n",
            "    package                    |            build\n",
            "    ---------------------------|-----------------\n",
            "    _libgcc_mutex-0.1          |      conda_forge           3 KB  conda-forge\n",
            "    _openmp_mutex-4.5          |           1_llvm           5 KB  conda-forge\n",
            "    abseil-cpp-20200225.2      |       he1b5a44_2         915 KB  conda-forge\n",
            "    aiohttp-3.7.4              |   py37h5e8e339_0         632 KB  conda-forge\n",
            "    arrow-cpp-1.0.1            |py37h9631afc_16_cuda        20.4 MB  conda-forge\n",
            "    arrow-cpp-proc-3.0.0       |             cuda          24 KB  conda-forge\n",
            "    async-timeout-3.0.1        |          py_1000          11 KB  conda-forge\n",
            "    attrs-21.2.0               |     pyhd8ed1ab_0          44 KB  conda-forge\n",
            "    aws-c-common-0.4.59        |       h36c2ea0_1         160 KB  conda-forge\n",
            "    aws-c-event-stream-0.1.6   |       had2084c_6          25 KB  conda-forge\n",
            "    aws-checksums-0.1.10       |       h4e93380_0          50 KB  conda-forge\n",
            "    aws-sdk-cpp-1.8.70         |       h57dc084_1         2.2 MB  conda-forge\n",
            "    backcall-0.2.0             |     pyh9f0ad1d_0          13 KB  conda-forge\n",
            "    backports-1.0              |             py_2           4 KB  conda-forge\n",
            "    backports.functools_lru_cache-1.6.4|     pyhd8ed1ab_0           9 KB  conda-forge\n",
            "    blas-2.17                  |         openblas          11 KB  conda-forge\n",
            "    blinker-1.4                |             py_1          13 KB  conda-forge\n",
            "    bokeh-2.3.1                |   py37h89c1867_0         8.2 MB  conda-forge\n",
            "    boost-1.72.0               |   py37h48f8a5e_1         339 KB  conda-forge\n",
            "    boost-cpp-1.72.0           |       h9359b55_3        16.3 MB  conda-forge\n",
            "    brotli-1.0.9               |       he1b5a44_3         395 KB  conda-forge\n",
            "    bzip2-1.0.8                |       h7f98852_4         484 KB  conda-forge\n",
            "    c-ares-1.17.1              |       h7f98852_1         109 KB  conda-forge\n",
            "    ca-certificates-2020.12.5  |       ha878542_0         137 KB  conda-forge\n",
            "    cachetools-4.2.2           |     pyhd8ed1ab_0          12 KB  conda-forge\n",
            "    cairo-1.16.0               |    h3fc0475_1005         1.5 MB  conda-forge\n",
            "    certifi-2020.12.5          |   py37h89c1867_1         143 KB  conda-forge\n",
            "    cfitsio-3.470              |       h2e3daa1_7         1.3 MB  conda-forge\n",
            "    click-7.1.2                |     pyh9f0ad1d_0          64 KB  conda-forge\n",
            "    cloudpickle-1.6.0          |             py_0          22 KB  conda-forge\n",
            "    conda-4.10.1               |   py37h89c1867_0         3.1 MB  conda-forge\n",
            "    cudatoolkit-11.0.221       |       h6bb024c_0       953.0 MB  nvidia\n",
            "    cudf-0.19.2                |cuda_11.0_py37_gab3b3f653a_0        93.2 MB  rapidsai\n",
            "    cudnn-8.1.0.77             |       h90431f1_0       634.8 MB  conda-forge\n",
            "    cugraph-0.19.0             | py37_gd72b90b0_0        51.7 MB  rapidsai\n",
            "    cuml-0.19.0                |cuda11.0_py37_g4cb78ff1a_0        70.5 MB  rapidsai\n",
            "    cupy-8.6.0                 |   py37h4fdb0f7_0        47.7 MB  conda-forge\n",
            "    curl-7.71.1                |       he644dc0_3         140 KB  conda-forge\n",
            "    cusignal-0.19.0            |  py38_g347b95a_0         893 KB  rapidsai\n",
            "    cuspatial-0.19.0           |  py37_gdf1d93c_0        13.8 MB  rapidsai\n",
            "    cutensor-1.2.2.5           |       h96e36e3_3        88.7 MB  conda-forge\n",
            "    cytoolz-0.11.0             |   py37h5e8e339_3         403 KB  conda-forge\n",
            "    dask-2021.4.0              |     pyhd8ed1ab_0           4 KB  conda-forge\n",
            "    dask-core-2021.4.0         |     pyhd8ed1ab_0         718 KB  conda-forge\n",
            "    dask-cuda-0.19.0           |           py37_0         110 KB  rapidsai\n",
            "    dask-cudf-0.19.2           |py37_gab3b3f653a_0          97 KB  rapidsai\n",
            "    decorator-5.0.7            |     pyhd8ed1ab_0          11 KB  conda-forge\n",
            "    distributed-2021.4.0       |   py37h89c1867_0         1.1 MB  conda-forge\n",
            "    dlpack-0.3                 |       he1b5a44_1          13 KB  conda-forge\n",
            "    expat-2.2.9                |       he1b5a44_2         191 KB  conda-forge\n",
            "    faiss-proc-1.0.0           |             cuda          24 KB  rapidsai\n",
            "    fastavro-1.4.0             |   py37h5e8e339_0         499 KB  conda-forge\n",
            "    fastrlock-0.5              |   py37h3340039_1          31 KB  conda-forge\n",
            "    fontconfig-2.13.1          |    hba837de_1005         357 KB  conda-forge\n",
            "    freetype-2.10.4            |       h0708190_1         890 KB  conda-forge\n",
            "    freexl-1.0.6               |       h7f98852_0          48 KB  conda-forge\n",
            "    fsspec-2021.4.0            |     pyhd8ed1ab_0          75 KB  conda-forge\n",
            "    gcsfs-2021.4.0             |     pyhd8ed1ab_0          24 KB  conda-forge\n",
            "    gdal-3.2.0                 |   py37h6bca1a1_0         1.3 MB  conda-forge\n",
            "    geos-3.8.1                 |       he1b5a44_0         1.0 MB  conda-forge\n",
            "    geotiff-1.6.0              |       h5d11630_3         278 KB  conda-forge\n",
            "    gflags-2.2.2               |    he1b5a44_1004         114 KB  conda-forge\n",
            "    giflib-5.2.1               |       h36c2ea0_2          77 KB  conda-forge\n",
            "    glib-2.68.1                |       h36276a3_0         3.0 MB\n",
            "    glog-0.4.0                 |       h49b9bf7_3         104 KB  conda-forge\n",
            "    google-api-core-1.26.3     |     pyhd8ed1ab_0          59 KB  conda-forge\n",
            "    google-api-core-grpc-1.26.3|       hd8ed1ab_0           4 KB  conda-forge\n",
            "    google-auth-1.25.0         |     pyh44b312d_0          63 KB  conda-forge\n",
            "    google-auth-oauthlib-0.4.4 |     pyhd8ed1ab_0          19 KB  conda-forge\n",
            "    google-cloud-bigquery-2.11.0|     pyhd3deb0d_0          10 KB  conda-forge\n",
            "    google-cloud-bigquery-core-2.11.0|     pyhd3deb0d_0         139 KB  conda-forge\n",
            "    google-cloud-bigquery-storage-core-2.2.1|     pyh44b312d_0          55 KB  conda-forge\n",
            "    google-cloud-core-1.5.0    |     pyhd3deb0d_0          26 KB  conda-forge\n",
            "    google-crc32c-1.1.2        |   py37hab72019_0          24 KB  conda-forge\n",
            "    google-resumable-media-1.2.0|     pyhd3deb0d_0          40 KB  conda-forge\n",
            "    googleapis-common-protos-1.53.0|   py37h89c1867_0         124 KB  conda-forge\n",
            "    grpc-cpp-1.33.2            |       h1870a98_1         3.2 MB  conda-forge\n",
            "    grpcio-1.33.2              |   py37haffed2e_2         1.8 MB  conda-forge\n",
            "    hdf4-4.2.13                |    hf30be14_1003         964 KB  conda-forge\n",
            "    hdf5-1.10.6                |nompi_h7c3c948_1111         3.1 MB  conda-forge\n",
            "    heapdict-1.0.1             |             py_0           7 KB  conda-forge\n",
            "    icu-67.1                   |       he1b5a44_0        12.9 MB  conda-forge\n",
            "    ipython-7.23.1             |   py37h085eea5_0         1.1 MB  conda-forge\n",
            "    ipython_genutils-0.2.0     |             py_1          21 KB  conda-forge\n",
            "    jedi-0.18.0                |   py37h89c1867_2         923 KB  conda-forge\n",
            "    jinja2-2.11.3              |     pyh44b312d_0          93 KB  conda-forge\n",
            "    joblib-1.0.1               |     pyhd8ed1ab_0         206 KB  conda-forge\n",
            "    jpeg-9d                    |       h36c2ea0_0         264 KB  conda-forge\n",
            "    json-c-0.13.1              |    hbfbb72e_1002          76 KB  conda-forge\n",
            "    kealib-1.4.13              |       h33137a7_1         172 KB  conda-forge\n",
            "    krb5-1.17.2                |       h926e7f8_0         1.4 MB  conda-forge\n",
            "    lcms2-2.11                 |       hcbb858e_1         434 KB  conda-forge\n",
            "    libblas-3.8.0              |      17_openblas          11 KB  conda-forge\n",
            "    libcblas-3.8.0             |      17_openblas          11 KB  conda-forge\n",
            "    libcrc32c-1.1.1            |       he1b5a44_2          20 KB  conda-forge\n",
            "    libcst-0.3.18              |   py37h89c1867_0         721 KB  conda-forge\n",
            "    libcudf-0.19.2             |cuda11.0_gab3b3f653a_0       181.5 MB  rapidsai\n",
            "    libcugraph-0.19.0          |cuda11.0_gd72b90b0_0       163.9 MB  rapidsai\n",
            "    libcuml-0.19.0             |cuda11.0_g4cb78ff1a_0        98.1 MB  rapidsai\n",
            "    libcumlprims-0.19.0        |cuda11.0_ga2abf9f_0         1.1 MB  nvidia\n",
            "    libcurl-7.71.1             |       hcdd3856_3         302 KB  conda-forge\n",
            "    libcuspatial-0.19.0        |cuda11.0_gdf1d93c_0         7.7 MB  rapidsai\n",
            "    libdap4-3.20.6             |       h1d1bd15_1         7.9 MB  conda-forge\n",
            "    libevent-2.1.10            |       hcdb4288_3         1.1 MB  conda-forge\n",
            "    libfaiss-1.7.0             |cuda110h8045045_8_cuda        67.0 MB  conda-forge\n",
            "    libgcc-ng-9.3.0            |      h2828fa1_19         7.8 MB  conda-forge\n",
            "    libgdal-3.2.0              |       h24f7f85_0        12.0 MB  conda-forge\n",
            "    libgfortran-ng-7.5.0       |      h14aa051_19          22 KB  conda-forge\n",
            "    libgfortran4-7.5.0         |      h14aa051_19         1.3 MB  conda-forge\n",
            "    libhwloc-2.3.0             |       h5e5b7d1_1         2.7 MB  conda-forge\n",
            "    libiconv-1.16              |       h516909a_0         1.4 MB  conda-forge\n",
            "    libkml-1.3.0               |    hd79254b_1012         640 KB  conda-forge\n",
            "    liblapack-3.8.0            |      17_openblas          11 KB  conda-forge\n",
            "    liblapacke-3.8.0           |      17_openblas          11 KB  conda-forge\n",
            "    libllvm10-10.0.1           |       he513fc3_3        26.4 MB  conda-forge\n",
            "    libnetcdf-4.7.4            |nompi_h56d31a8_107         1.3 MB  conda-forge\n",
            "    libopenblas-0.3.10         |pthreads_hb3c22a3_5         7.8 MB  conda-forge\n",
            "    libpng-1.6.37              |       h21135ba_2         306 KB  conda-forge\n",
            "    libpq-12.3                 |       h255efa7_3         2.6 MB  conda-forge\n",
            "    libprotobuf-3.13.0.1       |       h8b12597_0         2.3 MB  conda-forge\n",
            "    librmm-0.19.0              |cuda11.0_g7065af3_0          55 KB  rapidsai\n",
            "    libspatialite-5.0.0        |       h4dde289_0         3.9 MB  conda-forge\n",
            "    libssh2-1.9.0              |       ha56f1ee_6         226 KB  conda-forge\n",
            "    libthrift-0.13.0           |       h5aa387f_6         3.3 MB  conda-forge\n",
            "    libtiff-4.1.0              |       h4f3a223_6         618 KB  conda-forge\n",
            "    libutf8proc-2.6.1          |       h7f98852_0          95 KB  conda-forge\n",
            "    libuuid-2.32.1             |    h7f98852_1000          28 KB  conda-forge\n",
            "    libwebp-base-1.2.0         |       h7f98852_2         815 KB  conda-forge\n",
            "    libxcb-1.13                |    h7f98852_1003         395 KB  conda-forge\n",
            "    libxgboost-1.4.0dev.rapidsai0.19|       cuda11.0_0       115.3 MB  rapidsai\n",
            "    libxml2-2.9.10             |       h68273f3_2         1.3 MB  conda-forge\n",
            "    llvm-openmp-11.1.0         |       h4bd325d_1         4.7 MB  conda-forge\n",
            "    llvmlite-0.34.0            |   py37h5202443_2         322 KB  conda-forge\n",
            "    locket-0.2.0               |             py_2           6 KB  conda-forge\n",
            "    lz4-c-1.9.2                |       he1b5a44_3         203 KB  conda-forge\n",
            "    markupsafe-1.1.1           |   py37h5e8e339_3          27 KB  conda-forge\n",
            "    matplotlib-inline-0.1.2    |     pyhd8ed1ab_2          11 KB  conda-forge\n",
            "    msgpack-python-1.0.0       |   py37hc928c03_2          91 KB  conda-forge\n",
            "    multidict-5.1.0            |   py37h5e8e339_1          67 KB  conda-forge\n",
            "    mypy_extensions-0.4.3      |   py37h89c1867_3          10 KB  conda-forge\n",
            "    nccl-2.9.6.1               |       h96e36e3_0        82.4 MB  conda-forge\n",
            "    numba-0.51.2               |   py37h9fdb41a_0         3.6 MB  conda-forge\n",
            "    numpy-1.19.5               |   py37haa41c4c_1         5.3 MB  conda-forge\n",
            "    nvtx-0.2.3                 |   py37h5e8e339_0          55 KB  conda-forge\n",
            "    oauthlib-3.0.1             |             py_0          82 KB  conda-forge\n",
            "    olefile-0.46               |     pyh9f0ad1d_1          32 KB  conda-forge\n",
            "    openjpeg-2.3.1             |       h981e76c_3         475 KB  conda-forge\n",
            "    openssl-1.1.1k             |       h7f98852_0         2.1 MB  conda-forge\n",
            "    orc-1.6.5                  |       hd3605a7_0         731 KB  conda-forge\n",
            "    packaging-20.9             |     pyh44b312d_0          35 KB  conda-forge\n",
            "    pandas-1.1.4               |   py37h10a2094_0        10.5 MB  conda-forge\n",
            "    pandas-gbq-0.15.0          |     pyh44b312d_0          23 KB  conda-forge\n",
            "    parquet-cpp-1.5.1          |                2           3 KB  conda-forge\n",
            "    parso-0.8.2                |     pyhd8ed1ab_0          68 KB  conda-forge\n",
            "    partd-1.2.0                |     pyhd8ed1ab_0          18 KB  conda-forge\n",
            "    pcre-8.44                  |       he1b5a44_0         261 KB  conda-forge\n",
            "    pexpect-4.8.0              |     pyh9f0ad1d_2          47 KB  conda-forge\n",
            "    pickleshare-0.7.5          |          py_1003           9 KB  conda-forge\n",
            "    pillow-8.1.0               |   py37he6b4880_1         676 KB  conda-forge\n",
            "    pixman-0.38.0              |    h516909a_1003         594 KB  conda-forge\n",
            "    poppler-0.89.0             |       h669c267_1        13.4 MB  conda-forge\n",
            "    poppler-data-0.4.10        |                0         3.8 MB  conda-forge\n",
            "    postgresql-12.3            |       hc2f5b80_3         5.0 MB  conda-forge\n",
            "    proj-7.1.1                 |       h966b41f_3         2.5 MB  conda-forge\n",
            "    prompt-toolkit-3.0.18      |     pyha770c72_0         244 KB  conda-forge\n",
            "    proto-plus-1.18.1          |     pyhd8ed1ab_0          32 KB  conda-forge\n",
            "    protobuf-3.13.0.1          |   py37h745909e_1         704 KB  conda-forge\n",
            "    psutil-5.8.0               |   py37h5e8e339_1         342 KB  conda-forge\n",
            "    pthread-stubs-0.4          |    h36c2ea0_1001           5 KB  conda-forge\n",
            "    ptyprocess-0.7.0           |     pyhd3deb0d_0          16 KB  conda-forge\n",
            "    py-xgboost-1.4.0dev.rapidsai0.19|   cuda11.0py37_0         150 KB  rapidsai\n",
            "    pyarrow-1.0.1              |py37hbeecfa9_16_cuda         2.2 MB  conda-forge\n",
            "    pyasn1-0.4.8               |             py_0          53 KB  conda-forge\n",
            "    pyasn1-modules-0.2.7       |             py_0          60 KB  conda-forge\n",
            "    pydata-google-auth-1.2.0   |     pyhd8ed1ab_0          14 KB  conda-forge\n",
            "    pygments-2.9.0             |     pyhd8ed1ab_0         754 KB  conda-forge\n",
            "    pyjwt-2.0.1                |     pyhd8ed1ab_0          17 KB  conda-forge\n",
            "    pynvml-8.0.4               |             py_1          31 KB  conda-forge\n",
            "    pyparsing-2.4.7            |     pyh9f0ad1d_0          60 KB  conda-forge\n",
            "    python-3.7.10              |       hdb3f193_0        45.2 MB\n",
            "    python-dateutil-2.8.1      |             py_0         220 KB  conda-forge\n",
            "    python_abi-3.7             |          1_cp37m           4 KB  conda-forge\n",
            "    pytz-2021.1                |     pyhd8ed1ab_0         239 KB  conda-forge\n",
            "    pyyaml-5.4.1               |   py37h5e8e339_0         189 KB  conda-forge\n",
            "    re2-2020.11.01             |       h58526e2_0         226 KB  conda-forge\n",
            "    requests-oauthlib-1.3.0    |     pyh9f0ad1d_0          21 KB  conda-forge\n",
            "    rmm-0.19.0                 |cuda_11.0_py37_g7065af3_0         6.4 MB  rapidsai\n",
            "    rsa-4.7.2                  |     pyh44b312d_0          28 KB  conda-forge\n",
            "    scikit-learn-0.23.2        |   py37hddcf8d6_3         6.8 MB  conda-forge\n",
            "    scipy-1.6.2                |   py37hf56f3a7_1        15.4 MB\n",
            "    snappy-1.1.8               |       he1b5a44_3          32 KB  conda-forge\n",
            "    sortedcontainers-2.3.0     |     pyhd8ed1ab_0          26 KB  conda-forge\n",
            "    spdlog-1.7.0               |       hc9558a2_2         410 KB  conda-forge\n",
            "    tblib-1.7.0                |     pyhd8ed1ab_0          15 KB  conda-forge\n",
            "    threadpoolctl-2.1.0        |     pyh5ca1d4c_0          15 KB  conda-forge\n",
            "    tiledb-2.1.5               |       h17508cd_0         2.2 MB  conda-forge\n",
            "    toolz-0.11.1               |             py_0          46 KB  conda-forge\n",
            "    tornado-6.1                |   py37h5e8e339_1         646 KB  conda-forge\n",
            "    traitlets-5.0.5            |             py_0          81 KB  conda-forge\n",
            "    treelite-1.1.0             |   py37hfdac9b6_0         2.5 MB  conda-forge\n",
            "    typing-extensions-3.7.4.3  |                0           8 KB  conda-forge\n",
            "    typing_extensions-3.7.4.3  |             py_0          25 KB  conda-forge\n",
            "    typing_inspect-0.6.0       |     pyh9f0ad1d_0          11 KB  conda-forge\n",
            "    tzcode-2021a               |       h7f98852_1          68 KB  conda-forge\n",
            "    ucx-1.9.0+gcd9efd3         |       cuda11.0_0         8.2 MB  rapidsai\n",
            "    ucx-proc-1.0.0             |              gpu           9 KB  rapidsai\n",
            "    ucx-py-0.19.0              |  py37_gcd9efd3_0         260 KB  rapidsai\n",
            "    ujson-4.0.1                |   py37h3340039_1          47 KB  conda-forge\n",
            "    wcwidth-0.2.5              |     pyh9f0ad1d_2          33 KB  conda-forge\n",
            "    xerces-c-3.2.3             |       hfe33f54_1         1.7 MB  conda-forge\n",
            "    xgboost-1.4.0dev.rapidsai0.19|   cuda11.0py37_0          17 KB  rapidsai\n",
            "    xorg-kbproto-1.0.7         |    h7f98852_1002          27 KB  conda-forge\n",
            "    xorg-libice-1.0.10         |       h7f98852_0          58 KB  conda-forge\n",
            "    xorg-libsm-1.2.3           |    hd9c2040_1000          26 KB  conda-forge\n",
            "    xorg-libx11-1.7.0          |       h7f98852_0         923 KB  conda-forge\n",
            "    xorg-libxau-1.0.9          |       h7f98852_0          13 KB  conda-forge\n",
            "    xorg-libxdmcp-1.1.3        |       h7f98852_0          19 KB  conda-forge\n",
            "    xorg-libxext-1.3.4         |       h7f98852_1          54 KB  conda-forge\n",
            "    xorg-libxrender-0.9.10     |    h7f98852_1003          32 KB  conda-forge\n",
            "    xorg-renderproto-0.11.1    |    h7f98852_1002           9 KB  conda-forge\n",
            "    xorg-xextproto-7.3.0       |    h7f98852_1002          28 KB  conda-forge\n",
            "    xorg-xproto-7.0.31         |    h7f98852_1007          73 KB  conda-forge\n",
            "    yarl-1.5.1                 |   py37h8f50634_0         138 KB  conda-forge\n",
            "    zict-2.0.0                 |             py_0          10 KB  conda-forge\n",
            "    zstd-1.4.5                 |       h6597ccf_2         712 KB  conda-forge\n",
            "    ------------------------------------------------------------\n",
            "                                           Total:        2.93 GB\n",
            "\n",
            "The following NEW packages will be INSTALLED:\n",
            "\n",
            "  _openmp_mutex      conda-forge/linux-64::_openmp_mutex-4.5-1_llvm\n",
            "  abseil-cpp         conda-forge/linux-64::abseil-cpp-20200225.2-he1b5a44_2\n",
            "  aiohttp            conda-forge/linux-64::aiohttp-3.7.4-py37h5e8e339_0\n",
            "  arrow-cpp          conda-forge/linux-64::arrow-cpp-1.0.1-py37h9631afc_16_cuda\n",
            "  arrow-cpp-proc     conda-forge/linux-64::arrow-cpp-proc-3.0.0-cuda\n",
            "  async-timeout      conda-forge/noarch::async-timeout-3.0.1-py_1000\n",
            "  attrs              conda-forge/noarch::attrs-21.2.0-pyhd8ed1ab_0\n",
            "  aws-c-common       conda-forge/linux-64::aws-c-common-0.4.59-h36c2ea0_1\n",
            "  aws-c-event-stream conda-forge/linux-64::aws-c-event-stream-0.1.6-had2084c_6\n",
            "  aws-checksums      conda-forge/linux-64::aws-checksums-0.1.10-h4e93380_0\n",
            "  aws-sdk-cpp        conda-forge/linux-64::aws-sdk-cpp-1.8.70-h57dc084_1\n",
            "  backcall           conda-forge/noarch::backcall-0.2.0-pyh9f0ad1d_0\n",
            "  backports          conda-forge/noarch::backports-1.0-py_2\n",
            "  backports.functoo~ conda-forge/noarch::backports.functools_lru_cache-1.6.4-pyhd8ed1ab_0\n",
            "  blas               conda-forge/linux-64::blas-2.17-openblas\n",
            "  blinker            conda-forge/noarch::blinker-1.4-py_1\n",
            "  bokeh              conda-forge/linux-64::bokeh-2.3.1-py37h89c1867_0\n",
            "  boost              conda-forge/linux-64::boost-1.72.0-py37h48f8a5e_1\n",
            "  boost-cpp          conda-forge/linux-64::boost-cpp-1.72.0-h9359b55_3\n",
            "  brotli             conda-forge/linux-64::brotli-1.0.9-he1b5a44_3\n",
            "  bzip2              conda-forge/linux-64::bzip2-1.0.8-h7f98852_4\n",
            "  c-ares             conda-forge/linux-64::c-ares-1.17.1-h7f98852_1\n",
            "  cachetools         conda-forge/noarch::cachetools-4.2.2-pyhd8ed1ab_0\n",
            "  cairo              conda-forge/linux-64::cairo-1.16.0-h3fc0475_1005\n",
            "  cfitsio            conda-forge/linux-64::cfitsio-3.470-h2e3daa1_7\n",
            "  click              conda-forge/noarch::click-7.1.2-pyh9f0ad1d_0\n",
            "  cloudpickle        conda-forge/noarch::cloudpickle-1.6.0-py_0\n",
            "  cudatoolkit        nvidia/linux-64::cudatoolkit-11.0.221-h6bb024c_0\n",
            "  cudf               rapidsai/linux-64::cudf-0.19.2-cuda_11.0_py37_gab3b3f653a_0\n",
            "  cudnn              conda-forge/linux-64::cudnn-8.1.0.77-h90431f1_0\n",
            "  cugraph            rapidsai/linux-64::cugraph-0.19.0-py37_gd72b90b0_0\n",
            "  cuml               rapidsai/linux-64::cuml-0.19.0-cuda11.0_py37_g4cb78ff1a_0\n",
            "  cupy               conda-forge/linux-64::cupy-8.6.0-py37h4fdb0f7_0\n",
            "  curl               conda-forge/linux-64::curl-7.71.1-he644dc0_3\n",
            "  cusignal           rapidsai/noarch::cusignal-0.19.0-py38_g347b95a_0\n",
            "  cuspatial          rapidsai/linux-64::cuspatial-0.19.0-py37_gdf1d93c_0\n",
            "  cutensor           conda-forge/linux-64::cutensor-1.2.2.5-h96e36e3_3\n",
            "  cytoolz            conda-forge/linux-64::cytoolz-0.11.0-py37h5e8e339_3\n",
            "  dask               conda-forge/noarch::dask-2021.4.0-pyhd8ed1ab_0\n",
            "  dask-core          conda-forge/noarch::dask-core-2021.4.0-pyhd8ed1ab_0\n",
            "  dask-cuda          rapidsai/linux-64::dask-cuda-0.19.0-py37_0\n",
            "  dask-cudf          rapidsai/linux-64::dask-cudf-0.19.2-py37_gab3b3f653a_0\n",
            "  decorator          conda-forge/noarch::decorator-5.0.7-pyhd8ed1ab_0\n",
            "  distributed        conda-forge/linux-64::distributed-2021.4.0-py37h89c1867_0\n",
            "  dlpack             conda-forge/linux-64::dlpack-0.3-he1b5a44_1\n",
            "  expat              conda-forge/linux-64::expat-2.2.9-he1b5a44_2\n",
            "  faiss-proc         rapidsai/linux-64::faiss-proc-1.0.0-cuda\n",
            "  fastavro           conda-forge/linux-64::fastavro-1.4.0-py37h5e8e339_0\n",
            "  fastrlock          conda-forge/linux-64::fastrlock-0.5-py37h3340039_1\n",
            "  fontconfig         conda-forge/linux-64::fontconfig-2.13.1-hba837de_1005\n",
            "  freetype           conda-forge/linux-64::freetype-2.10.4-h0708190_1\n",
            "  freexl             conda-forge/linux-64::freexl-1.0.6-h7f98852_0\n",
            "  fsspec             conda-forge/noarch::fsspec-2021.4.0-pyhd8ed1ab_0\n",
            "  gcsfs              conda-forge/noarch::gcsfs-2021.4.0-pyhd8ed1ab_0\n",
            "  gdal               conda-forge/linux-64::gdal-3.2.0-py37h6bca1a1_0\n",
            "  geos               conda-forge/linux-64::geos-3.8.1-he1b5a44_0\n",
            "  geotiff            conda-forge/linux-64::geotiff-1.6.0-h5d11630_3\n",
            "  gflags             conda-forge/linux-64::gflags-2.2.2-he1b5a44_1004\n",
            "  giflib             conda-forge/linux-64::giflib-5.2.1-h36c2ea0_2\n",
            "  glib               pkgs/main/linux-64::glib-2.68.1-h36276a3_0\n",
            "  glog               conda-forge/linux-64::glog-0.4.0-h49b9bf7_3\n",
            "  google-api-core    conda-forge/noarch::google-api-core-1.26.3-pyhd8ed1ab_0\n",
            "  google-api-core-g~ conda-forge/noarch::google-api-core-grpc-1.26.3-hd8ed1ab_0\n",
            "  google-auth        conda-forge/noarch::google-auth-1.25.0-pyh44b312d_0\n",
            "  google-auth-oauth~ conda-forge/noarch::google-auth-oauthlib-0.4.4-pyhd8ed1ab_0\n",
            "  google-cloud-bigq~ conda-forge/noarch::google-cloud-bigquery-2.11.0-pyhd3deb0d_0\n",
            "  google-cloud-bigq~ conda-forge/noarch::google-cloud-bigquery-core-2.11.0-pyhd3deb0d_0\n",
            "  google-cloud-bigq~ conda-forge/noarch::google-cloud-bigquery-storage-core-2.2.1-pyh44b312d_0\n",
            "  google-cloud-core  conda-forge/noarch::google-cloud-core-1.5.0-pyhd3deb0d_0\n",
            "  google-crc32c      conda-forge/linux-64::google-crc32c-1.1.2-py37hab72019_0\n",
            "  google-resumable-~ conda-forge/noarch::google-resumable-media-1.2.0-pyhd3deb0d_0\n",
            "  googleapis-common~ conda-forge/linux-64::googleapis-common-protos-1.53.0-py37h89c1867_0\n",
            "  grpc-cpp           conda-forge/linux-64::grpc-cpp-1.33.2-h1870a98_1\n",
            "  grpcio             conda-forge/linux-64::grpcio-1.33.2-py37haffed2e_2\n",
            "  hdf4               conda-forge/linux-64::hdf4-4.2.13-hf30be14_1003\n",
            "  hdf5               conda-forge/linux-64::hdf5-1.10.6-nompi_h7c3c948_1111\n",
            "  heapdict           conda-forge/noarch::heapdict-1.0.1-py_0\n",
            "  icu                conda-forge/linux-64::icu-67.1-he1b5a44_0\n",
            "  ipython            conda-forge/linux-64::ipython-7.23.1-py37h085eea5_0\n",
            "  ipython_genutils   conda-forge/noarch::ipython_genutils-0.2.0-py_1\n",
            "  jedi               conda-forge/linux-64::jedi-0.18.0-py37h89c1867_2\n",
            "  jinja2             conda-forge/noarch::jinja2-2.11.3-pyh44b312d_0\n",
            "  joblib             conda-forge/noarch::joblib-1.0.1-pyhd8ed1ab_0\n",
            "  jpeg               conda-forge/linux-64::jpeg-9d-h36c2ea0_0\n",
            "  json-c             conda-forge/linux-64::json-c-0.13.1-hbfbb72e_1002\n",
            "  kealib             conda-forge/linux-64::kealib-1.4.13-h33137a7_1\n",
            "  krb5               conda-forge/linux-64::krb5-1.17.2-h926e7f8_0\n",
            "  lcms2              conda-forge/linux-64::lcms2-2.11-hcbb858e_1\n",
            "  libblas            conda-forge/linux-64::libblas-3.8.0-17_openblas\n",
            "  libcblas           conda-forge/linux-64::libcblas-3.8.0-17_openblas\n",
            "  libcrc32c          conda-forge/linux-64::libcrc32c-1.1.1-he1b5a44_2\n",
            "  libcst             conda-forge/linux-64::libcst-0.3.18-py37h89c1867_0\n",
            "  libcudf            rapidsai/linux-64::libcudf-0.19.2-cuda11.0_gab3b3f653a_0\n",
            "  libcugraph         rapidsai/linux-64::libcugraph-0.19.0-cuda11.0_gd72b90b0_0\n",
            "  libcuml            rapidsai/linux-64::libcuml-0.19.0-cuda11.0_g4cb78ff1a_0\n",
            "  libcumlprims       nvidia/linux-64::libcumlprims-0.19.0-cuda11.0_ga2abf9f_0\n",
            "  libcurl            conda-forge/linux-64::libcurl-7.71.1-hcdd3856_3\n",
            "  libcuspatial       rapidsai/linux-64::libcuspatial-0.19.0-cuda11.0_gdf1d93c_0\n",
            "  libdap4            conda-forge/linux-64::libdap4-3.20.6-h1d1bd15_1\n",
            "  libevent           conda-forge/linux-64::libevent-2.1.10-hcdb4288_3\n",
            "  libfaiss           conda-forge/linux-64::libfaiss-1.7.0-cuda110h8045045_8_cuda\n",
            "  libgdal            conda-forge/linux-64::libgdal-3.2.0-h24f7f85_0\n",
            "  libgfortran-ng     conda-forge/linux-64::libgfortran-ng-7.5.0-h14aa051_19\n",
            "  libgfortran4       conda-forge/linux-64::libgfortran4-7.5.0-h14aa051_19\n",
            "  libhwloc           conda-forge/linux-64::libhwloc-2.3.0-h5e5b7d1_1\n",
            "  libiconv           conda-forge/linux-64::libiconv-1.16-h516909a_0\n",
            "  libkml             conda-forge/linux-64::libkml-1.3.0-hd79254b_1012\n",
            "  liblapack          conda-forge/linux-64::liblapack-3.8.0-17_openblas\n",
            "  liblapacke         conda-forge/linux-64::liblapacke-3.8.0-17_openblas\n",
            "  libllvm10          conda-forge/linux-64::libllvm10-10.0.1-he513fc3_3\n",
            "  libnetcdf          conda-forge/linux-64::libnetcdf-4.7.4-nompi_h56d31a8_107\n",
            "  libopenblas        conda-forge/linux-64::libopenblas-0.3.10-pthreads_hb3c22a3_5\n",
            "  libpng             conda-forge/linux-64::libpng-1.6.37-h21135ba_2\n",
            "  libpq              conda-forge/linux-64::libpq-12.3-h255efa7_3\n",
            "  libprotobuf        conda-forge/linux-64::libprotobuf-3.13.0.1-h8b12597_0\n",
            "  librmm             rapidsai/linux-64::librmm-0.19.0-cuda11.0_g7065af3_0\n",
            "  libspatialite      conda-forge/linux-64::libspatialite-5.0.0-h4dde289_0\n",
            "  libssh2            conda-forge/linux-64::libssh2-1.9.0-ha56f1ee_6\n",
            "  libthrift          conda-forge/linux-64::libthrift-0.13.0-h5aa387f_6\n",
            "  libtiff            conda-forge/linux-64::libtiff-4.1.0-h4f3a223_6\n",
            "  libutf8proc        conda-forge/linux-64::libutf8proc-2.6.1-h7f98852_0\n",
            "  libuuid            conda-forge/linux-64::libuuid-2.32.1-h7f98852_1000\n",
            "  libwebp-base       conda-forge/linux-64::libwebp-base-1.2.0-h7f98852_2\n",
            "  libxcb             conda-forge/linux-64::libxcb-1.13-h7f98852_1003\n",
            "  libxgboost         rapidsai/linux-64::libxgboost-1.4.0dev.rapidsai0.19-cuda11.0_0\n",
            "  libxml2            conda-forge/linux-64::libxml2-2.9.10-h68273f3_2\n",
            "  llvm-openmp        conda-forge/linux-64::llvm-openmp-11.1.0-h4bd325d_1\n",
            "  llvmlite           conda-forge/linux-64::llvmlite-0.34.0-py37h5202443_2\n",
            "  locket             conda-forge/noarch::locket-0.2.0-py_2\n",
            "  lz4-c              conda-forge/linux-64::lz4-c-1.9.2-he1b5a44_3\n",
            "  markupsafe         conda-forge/linux-64::markupsafe-1.1.1-py37h5e8e339_3\n",
            "  matplotlib-inline  conda-forge/noarch::matplotlib-inline-0.1.2-pyhd8ed1ab_2\n",
            "  msgpack-python     conda-forge/linux-64::msgpack-python-1.0.0-py37hc928c03_2\n",
            "  multidict          conda-forge/linux-64::multidict-5.1.0-py37h5e8e339_1\n",
            "  mypy_extensions    conda-forge/linux-64::mypy_extensions-0.4.3-py37h89c1867_3\n",
            "  nccl               conda-forge/linux-64::nccl-2.9.6.1-h96e36e3_0\n",
            "  numba              conda-forge/linux-64::numba-0.51.2-py37h9fdb41a_0\n",
            "  numpy              conda-forge/linux-64::numpy-1.19.5-py37haa41c4c_1\n",
            "  nvtx               conda-forge/linux-64::nvtx-0.2.3-py37h5e8e339_0\n",
            "  oauthlib           conda-forge/noarch::oauthlib-3.0.1-py_0\n",
            "  olefile            conda-forge/noarch::olefile-0.46-pyh9f0ad1d_1\n",
            "  openjpeg           conda-forge/linux-64::openjpeg-2.3.1-h981e76c_3\n",
            "  orc                conda-forge/linux-64::orc-1.6.5-hd3605a7_0\n",
            "  packaging          conda-forge/noarch::packaging-20.9-pyh44b312d_0\n",
            "  pandas             conda-forge/linux-64::pandas-1.1.4-py37h10a2094_0\n",
            "  pandas-gbq         conda-forge/noarch::pandas-gbq-0.15.0-pyh44b312d_0\n",
            "  parquet-cpp        conda-forge/noarch::parquet-cpp-1.5.1-2\n",
            "  parso              conda-forge/noarch::parso-0.8.2-pyhd8ed1ab_0\n",
            "  partd              conda-forge/noarch::partd-1.2.0-pyhd8ed1ab_0\n",
            "  pcre               conda-forge/linux-64::pcre-8.44-he1b5a44_0\n",
            "  pexpect            conda-forge/noarch::pexpect-4.8.0-pyh9f0ad1d_2\n",
            "  pickleshare        conda-forge/noarch::pickleshare-0.7.5-py_1003\n",
            "  pillow             conda-forge/linux-64::pillow-8.1.0-py37he6b4880_1\n",
            "  pixman             conda-forge/linux-64::pixman-0.38.0-h516909a_1003\n",
            "  poppler            conda-forge/linux-64::poppler-0.89.0-h669c267_1\n",
            "  poppler-data       conda-forge/noarch::poppler-data-0.4.10-0\n",
            "  postgresql         conda-forge/linux-64::postgresql-12.3-hc2f5b80_3\n",
            "  proj               conda-forge/linux-64::proj-7.1.1-h966b41f_3\n",
            "  prompt-toolkit     conda-forge/noarch::prompt-toolkit-3.0.18-pyha770c72_0\n",
            "  proto-plus         conda-forge/noarch::proto-plus-1.18.1-pyhd8ed1ab_0\n",
            "  protobuf           conda-forge/linux-64::protobuf-3.13.0.1-py37h745909e_1\n",
            "  psutil             conda-forge/linux-64::psutil-5.8.0-py37h5e8e339_1\n",
            "  pthread-stubs      conda-forge/linux-64::pthread-stubs-0.4-h36c2ea0_1001\n",
            "  ptyprocess         conda-forge/noarch::ptyprocess-0.7.0-pyhd3deb0d_0\n",
            "  py-xgboost         rapidsai/linux-64::py-xgboost-1.4.0dev.rapidsai0.19-cuda11.0py37_0\n",
            "  pyarrow            conda-forge/linux-64::pyarrow-1.0.1-py37hbeecfa9_16_cuda\n",
            "  pyasn1             conda-forge/noarch::pyasn1-0.4.8-py_0\n",
            "  pyasn1-modules     conda-forge/noarch::pyasn1-modules-0.2.7-py_0\n",
            "  pydata-google-auth conda-forge/noarch::pydata-google-auth-1.2.0-pyhd8ed1ab_0\n",
            "  pygments           conda-forge/noarch::pygments-2.9.0-pyhd8ed1ab_0\n",
            "  pyjwt              conda-forge/noarch::pyjwt-2.0.1-pyhd8ed1ab_0\n",
            "  pynvml             conda-forge/noarch::pynvml-8.0.4-py_1\n",
            "  pyparsing          conda-forge/noarch::pyparsing-2.4.7-pyh9f0ad1d_0\n",
            "  python-dateutil    conda-forge/noarch::python-dateutil-2.8.1-py_0\n",
            "  python_abi         conda-forge/linux-64::python_abi-3.7-1_cp37m\n",
            "  pytz               conda-forge/noarch::pytz-2021.1-pyhd8ed1ab_0\n",
            "  pyyaml             conda-forge/linux-64::pyyaml-5.4.1-py37h5e8e339_0\n",
            "  re2                conda-forge/linux-64::re2-2020.11.01-h58526e2_0\n",
            "  requests-oauthlib  conda-forge/noarch::requests-oauthlib-1.3.0-pyh9f0ad1d_0\n",
            "  rmm                rapidsai/linux-64::rmm-0.19.0-cuda_11.0_py37_g7065af3_0\n",
            "  rsa                conda-forge/noarch::rsa-4.7.2-pyh44b312d_0\n",
            "  scikit-learn       conda-forge/linux-64::scikit-learn-0.23.2-py37hddcf8d6_3\n",
            "  scipy              pkgs/main/linux-64::scipy-1.6.2-py37hf56f3a7_1\n",
            "  snappy             conda-forge/linux-64::snappy-1.1.8-he1b5a44_3\n",
            "  sortedcontainers   conda-forge/noarch::sortedcontainers-2.3.0-pyhd8ed1ab_0\n",
            "  spdlog             conda-forge/linux-64::spdlog-1.7.0-hc9558a2_2\n",
            "  tblib              conda-forge/noarch::tblib-1.7.0-pyhd8ed1ab_0\n",
            "  threadpoolctl      conda-forge/noarch::threadpoolctl-2.1.0-pyh5ca1d4c_0\n",
            "  tiledb             conda-forge/linux-64::tiledb-2.1.5-h17508cd_0\n",
            "  toolz              conda-forge/noarch::toolz-0.11.1-py_0\n",
            "  tornado            conda-forge/linux-64::tornado-6.1-py37h5e8e339_1\n",
            "  traitlets          conda-forge/noarch::traitlets-5.0.5-py_0\n",
            "  treelite           conda-forge/linux-64::treelite-1.1.0-py37hfdac9b6_0\n",
            "  typing-extensions  conda-forge/noarch::typing-extensions-3.7.4.3-0\n",
            "  typing_extensions  conda-forge/noarch::typing_extensions-3.7.4.3-py_0\n",
            "  typing_inspect     conda-forge/noarch::typing_inspect-0.6.0-pyh9f0ad1d_0\n",
            "  tzcode             conda-forge/linux-64::tzcode-2021a-h7f98852_1\n",
            "  ucx                rapidsai/linux-64::ucx-1.9.0+gcd9efd3-cuda11.0_0\n",
            "  ucx-proc           rapidsai/linux-64::ucx-proc-1.0.0-gpu\n",
            "  ucx-py             rapidsai/linux-64::ucx-py-0.19.0-py37_gcd9efd3_0\n",
            "  ujson              conda-forge/linux-64::ujson-4.0.1-py37h3340039_1\n",
            "  wcwidth            conda-forge/noarch::wcwidth-0.2.5-pyh9f0ad1d_2\n",
            "  xerces-c           conda-forge/linux-64::xerces-c-3.2.3-hfe33f54_1\n",
            "  xgboost            rapidsai/linux-64::xgboost-1.4.0dev.rapidsai0.19-cuda11.0py37_0\n",
            "  xorg-kbproto       conda-forge/linux-64::xorg-kbproto-1.0.7-h7f98852_1002\n",
            "  xorg-libice        conda-forge/linux-64::xorg-libice-1.0.10-h7f98852_0\n",
            "  xorg-libsm         conda-forge/linux-64::xorg-libsm-1.2.3-hd9c2040_1000\n",
            "  xorg-libx11        conda-forge/linux-64::xorg-libx11-1.7.0-h7f98852_0\n",
            "  xorg-libxau        conda-forge/linux-64::xorg-libxau-1.0.9-h7f98852_0\n",
            "  xorg-libxdmcp      conda-forge/linux-64::xorg-libxdmcp-1.1.3-h7f98852_0\n",
            "  xorg-libxext       conda-forge/linux-64::xorg-libxext-1.3.4-h7f98852_1\n",
            "  xorg-libxrender    conda-forge/linux-64::xorg-libxrender-0.9.10-h7f98852_1003\n",
            "  xorg-renderproto   conda-forge/linux-64::xorg-renderproto-0.11.1-h7f98852_1002\n",
            "  xorg-xextproto     conda-forge/linux-64::xorg-xextproto-7.3.0-h7f98852_1002\n",
            "  xorg-xproto        conda-forge/linux-64::xorg-xproto-7.0.31-h7f98852_1007\n",
            "  yarl               conda-forge/linux-64::yarl-1.5.1-py37h8f50634_0\n",
            "  zict               conda-forge/noarch::zict-2.0.0-py_0\n",
            "  zstd               conda-forge/linux-64::zstd-1.4.5-h6597ccf_2\n",
            "\n",
            "The following packages will be UPDATED:\n",
            "\n",
            "  ca-certificates    pkgs/main::ca-certificates-2020.10.14~ --> conda-forge::ca-certificates-2020.12.5-ha878542_0\n",
            "  certifi            pkgs/main/noarch::certifi-2020.6.20-p~ --> conda-forge/linux-64::certifi-2020.12.5-py37h89c1867_1\n",
            "  conda               pkgs/main::conda-4.9.2-py37h06a4308_0 --> conda-forge::conda-4.10.1-py37h89c1867_0\n",
            "  libgcc-ng           pkgs/main::libgcc-ng-9.1.0-hdf63c60_0 --> conda-forge::libgcc-ng-9.3.0-h2828fa1_19\n",
            "  openssl              pkgs/main::openssl-1.1.1h-h7b6447c_0 --> conda-forge::openssl-1.1.1k-h7f98852_0\n",
            "  python                                   3.7.9-h7579374_0 --> 3.7.10-hdb3f193_0\n",
            "\n",
            "The following packages will be SUPERSEDED by a higher-priority channel:\n",
            "\n",
            "  _libgcc_mutex           pkgs/main::_libgcc_mutex-0.1-main --> conda-forge::_libgcc_mutex-0.1-conda_forge\n",
            "\n",
            "\n",
            "\n",
            "Downloading and Extracting Packages\n",
            "dask-core-2021.4.0   | 718 KB    | : 100% 1.0/1 [00:00<00:00,  4.24it/s]\n",
            "dask-cudf-0.19.2     | 97 KB     | : 100% 1.0/1 [00:00<00:00,  5.33it/s]                \n",
            "liblapack-3.8.0      | 11 KB     | : 100% 1.0/1 [00:00<00:00, 31.64it/s]\n",
            "giflib-5.2.1         | 77 KB     | : 100% 1.0/1 [00:00<00:00, 21.35it/s]\n",
            "cytoolz-0.11.0       | 403 KB    | : 100% 1.0/1 [00:00<00:00,  9.14it/s]\n",
            "cudnn-8.1.0.77       | 634.8 MB  | : 100% 1.0/1 [01:24<00:00, 84.12s/it]               \n",
            "certifi-2020.12.5    | 143 KB    | : 100% 1.0/1 [00:00<00:00, 18.41it/s]\n",
            "parquet-cpp-1.5.1    | 3 KB      | : 100% 1.0/1 [00:00<00:00, 26.54it/s]\n",
            "xorg-xproto-7.0.31   | 73 KB     | : 100% 1.0/1 [00:00<00:00, 24.57it/s]\n",
            "orc-1.6.5            | 731 KB    | : 100% 1.0/1 [00:00<00:00,  7.33it/s]\n",
            "joblib-1.0.1         | 206 KB    | : 100% 1.0/1 [00:00<00:00, 13.58it/s]\n",
            "cfitsio-3.470        | 1.3 MB    | : 100% 1.0/1 [00:00<00:00,  4.15it/s]\n",
            "icu-67.1             | 12.9 MB   | : 100% 1.0/1 [00:01<00:00,  1.83s/it]\n",
            "nccl-2.9.6.1         | 82.4 MB   | : 100% 1.0/1 [00:10<00:00, 10.03s/it]               \n",
            "lz4-c-1.9.2          | 203 KB    | : 100% 1.0/1 [00:00<00:00, 15.89it/s]\n",
            "attrs-21.2.0         | 44 KB     | : 100% 1.0/1 [00:00<00:00, 26.23it/s]\n",
            "libhwloc-2.3.0       | 2.7 MB    | : 100% 1.0/1 [00:00<00:00,  2.97it/s]\n",
            "gdal-3.2.0           | 1.3 MB    | : 100% 1.0/1 [00:00<00:00,  3.81it/s]\n",
            "dask-2021.4.0        | 4 KB      | : 100% 1.0/1 [00:00<00:00, 18.91it/s]\n",
            "cutensor-1.2.2.5     | 88.7 MB   | : 100% 1.0/1 [00:12<00:00, 12.03s/it]\n",
            "grpc-cpp-1.33.2      | 3.2 MB    | : 100% 1.0/1 [00:00<00:00,  1.77it/s]\n",
            "pygments-2.9.0       | 754 KB    | : 100% 1.0/1 [00:00<00:00,  5.69it/s]\n",
            "cugraph-0.19.0       | 51.7 MB   | : 100% 1.0/1 [00:09<00:00,  9.16s/it] \n",
            "libkml-1.3.0         | 640 KB    | : 100% 1.0/1 [00:00<00:00,  6.13it/s]\n",
            "distributed-2021.4.0 | 1.1 MB    | : 100% 1.0/1 [00:00<00:00,  3.48it/s]\n",
            "cudatoolkit-11.0.221 | 953.0 MB  | : 100% 1.0/1 [01:56<00:00, 116.58s/it]\n",
            "zict-2.0.0           | 10 KB     | : 100% 1.0/1 [00:00<00:00, 27.89it/s]\n",
            "spdlog-1.7.0         | 410 KB    | : 100% 1.0/1 [00:00<00:00,  4.90it/s]               \n",
            "libthrift-0.13.0     | 3.3 MB    | : 100% 1.0/1 [00:00<00:00,  1.88it/s]\n",
            "conda-4.10.1         | 3.1 MB    | : 100% 1.0/1 [00:00<00:00,  1.82it/s]\n",
            "xorg-libice-1.0.10   | 58 KB     | : 100% 1.0/1 [00:00<00:00, 33.74it/s]\n",
            "tzcode-2021a         | 68 KB     | : 100% 1.0/1 [00:00<00:00, 25.64it/s]\n",
            "xorg-libxext-1.3.4   | 54 KB     | : 100% 1.0/1 [00:00<00:00, 26.96it/s]\n",
            "snappy-1.1.8         | 32 KB     | : 100% 1.0/1 [00:00<00:00, 31.47it/s]\n",
            "typing_extensions-3. | 25 KB     | : 100% 1.0/1 [00:00<00:00, 36.31it/s]\n",
            "xorg-libxdmcp-1.1.3  | 19 KB     | : 100% 1.0/1 [00:00<00:00, 35.29it/s]\n",
            "cachetools-4.2.2     | 12 KB     | : 100% 1.0/1 [00:00<00:00, 38.57it/s]\n",
            "olefile-0.46         | 32 KB     | : 100% 1.0/1 [00:00<00:00, 26.37it/s]\n",
            "libprotobuf-3.13.0.1 | 2.3 MB    | : 100% 1.0/1 [00:00<00:00,  2.23it/s]\n",
            "pyasn1-0.4.8         | 53 KB     | : 100% 1.0/1 [00:00<00:00, 11.78it/s]\n",
            "proj-7.1.1           | 2.5 MB    | : 100% 1.0/1 [00:00<00:00,  2.00it/s]               \n",
            "google-api-core-1.26 | 59 KB     | : 100% 1.0/1 [00:00<00:00, 28.16it/s]\n",
            "geos-3.8.1           | 1.0 MB    | : 100% 1.0/1 [00:00<00:00,  4.01it/s]\n",
            "aws-checksums-0.1.10 | 50 KB     | : 100% 1.0/1 [00:00<00:00, 27.60it/s]\n",
            "mypy_extensions-0.4. | 10 KB     | : 100% 1.0/1 [00:00<00:00, 27.99it/s]\n",
            "psutil-5.8.0         | 342 KB    | : 100% 1.0/1 [00:00<00:00,  9.85it/s]\n",
            "libutf8proc-2.6.1    | 95 KB     | : 100% 1.0/1 [00:00<00:00, 24.99it/s]\n",
            "libfaiss-1.7.0       | 67.0 MB   | : 100% 1.0/1 [00:12<00:00, 12.28s/it]               \n",
            "pillow-8.1.0         | 676 KB    | : 100% 1.0/1 [00:00<00:00,  6.39it/s]\n",
            "json-c-0.13.1        | 76 KB     | : 100% 1.0/1 [00:00<00:00, 17.77it/s]\n",
            "google-auth-1.25.0   | 63 KB     | : 100% 1.0/1 [00:00<00:00, 21.05it/s]\n",
            "cuspatial-0.19.0     | 13.8 MB   | : 100% 1.0/1 [00:02<00:00,  2.59s/it]\n",
            "ipython_genutils-0.2 | 21 KB     | : 100% 1.0/1 [00:00<00:00, 29.08it/s]\n",
            "pandas-gbq-0.15.0    | 23 KB     | : 100% 1.0/1 [00:00<00:00, 17.50it/s]\n",
            "rsa-4.7.2            | 28 KB     | : 100% 1.0/1 [00:00<00:00, 24.16it/s]\n",
            "xorg-xextproto-7.3.0 | 28 KB     | : 100% 1.0/1 [00:00<00:00, 26.93it/s]\n",
            "pthread-stubs-0.4    | 5 KB      | : 100% 1.0/1 [00:00<00:00, 27.06it/s]\n",
            "glib-2.68.1          | 3.0 MB    | : 100% 1.0/1 [00:00<00:00,  3.87it/s]\n",
            "google-crc32c-1.1.2  | 24 KB     | : 100% 1.0/1 [00:00<00:00, 31.44it/s]\n",
            "ptyprocess-0.7.0     | 16 KB     | : 100% 1.0/1 [00:00<00:00, 36.35it/s]\n",
            "scipy-1.6.2          | 15.4 MB   | : 100% 1.0/1 [00:00<00:00,  1.47it/s]\n",
            "dlpack-0.3           | 13 KB     | : 100% 1.0/1 [00:00<00:00, 22.12it/s]\n",
            "freexl-1.0.6         | 48 KB     | : 100% 1.0/1 [00:00<00:00, 25.79it/s]\n",
            "libwebp-base-1.2.0   | 815 KB    | : 100% 1.0/1 [00:00<00:00,  6.19it/s]\n",
            "matplotlib-inline-0. | 11 KB     | : 100% 1.0/1 [00:00<00:00, 36.98it/s]\n",
            "pyparsing-2.4.7      | 60 KB     | : 100% 1.0/1 [00:00<00:00, 19.55it/s]\n",
            "xorg-libxrender-0.9. | 32 KB     | : 100% 1.0/1 [00:00<00:00, 22.42it/s]\n",
            "xerces-c-3.2.3       | 1.7 MB    | : 100% 1.0/1 [00:00<00:00,  2.30it/s]\n",
            "typing-extensions-3. | 8 KB      | : 100% 1.0/1 [00:00<00:00, 28.80it/s]\n",
            "numpy-1.19.5         | 5.3 MB    | : 100% 1.0/1 [00:01<00:00,  1.17s/it]               \n",
            "bzip2-1.0.8          | 484 KB    | : 100% 1.0/1 [00:00<00:00,  9.21it/s]\n",
            "nvtx-0.2.3           | 55 KB     | : 100% 1.0/1 [00:00<00:00, 24.31it/s]\n",
            "ucx-py-0.19.0        | 260 KB    | : 100% 1.0/1 [00:00<00:00,  5.38it/s]               \n",
            "backports.functools_ | 9 KB      | : 100% 1.0/1 [00:00<00:00, 38.42it/s]\n",
            "pyyaml-5.4.1         | 189 KB    | : 100% 1.0/1 [00:00<00:00, 17.81it/s]\n",
            "libopenblas-0.3.10   | 7.8 MB    | : 100% 1.0/1 [00:01<00:00,  1.39s/it]\n",
            "libcuspatial-0.19.0  | 7.7 MB    | : 100% 1.0/1 [00:01<00:00,  1.15s/it]\n",
            "cupy-8.6.0           | 47.7 MB   | : 100% 1.0/1 [00:06<00:00,  6.61s/it]               \n",
            "gcsfs-2021.4.0       | 24 KB     | : 100% 1.0/1 [00:00<00:00, 27.54it/s]\n",
            "google-cloud-bigquer | 55 KB     | : 100% 1.0/1 [00:00<00:00, 23.43it/s]\n",
            "llvm-openmp-11.1.0   | 4.7 MB    | : 100% 1.0/1 [00:00<00:00,  1.49it/s]\n",
            "postgresql-12.3      | 5.0 MB    | : 100% 1.0/1 [00:00<00:00,  1.30it/s]\n",
            "python-3.7.10        | 45.2 MB   | : 100% 1.0/1 [00:01<00:00,  1.20s/it]\n",
            "scikit-learn-0.23.2  | 6.8 MB    | : 100% 1.0/1 [00:01<00:00,  1.31s/it]\n",
            "sortedcontainers-2.3 | 26 KB     | : 100% 1.0/1 [00:00<00:00, 35.97it/s]\n",
            "ipython-7.23.1       | 1.1 MB    | : 100% 1.0/1 [00:00<00:00,  3.52it/s]\n",
            "xorg-libsm-1.2.3     | 26 KB     | : 100% 1.0/1 [00:00<00:00, 18.03it/s]\n",
            "google-cloud-bigquer | 139 KB    | : 100% 1.0/1 [00:00<00:00, 12.47it/s]\n",
            "ucx-proc-1.0.0       | 9 KB      | : 100% 1.0/1 [00:00<00:00,  8.30it/s]\n",
            "pydata-google-auth-1 | 14 KB     | : 100% 1.0/1 [00:00<00:00, 30.50it/s]\n",
            "fontconfig-2.13.1    | 357 KB    | : 100% 1.0/1 [00:00<00:00,  8.96it/s]\n",
            "geotiff-1.6.0        | 278 KB    | : 100% 1.0/1 [00:00<00:00,  9.65it/s]\n",
            "abseil-cpp-20200225. | 915 KB    | : 100% 1.0/1 [00:00<00:00,  4.16it/s]\n",
            "ca-certificates-2020 | 137 KB    | : 100% 1.0/1 [00:00<00:00, 18.84it/s]\n",
            "libgfortran4-7.5.0   | 1.3 MB    | : 100% 1.0/1 [00:00<00:00,  3.75it/s]\n",
            "libllvm10-10.0.1     | 26.4 MB   | : 100% 1.0/1 [00:04<00:00,  4.20s/it]               \n",
            "msgpack-python-1.0.0 | 91 KB     | : 100% 1.0/1 [00:00<00:00, 25.89it/s]\n",
            "backcall-0.2.0       | 13 KB     | : 100% 1.0/1 [00:00<00:00, 35.84it/s]\n",
            "poppler-data-0.4.10  | 3.8 MB    | : 100% 1.0/1 [00:00<00:00,  1.77it/s]\n",
            "cudf-0.19.2          | 93.2 MB   | : 100% 1.0/1 [00:16<00:00, 16.49s/it]               \n",
            "libxml2-2.9.10       | 1.3 MB    | : 100% 1.0/1 [00:00<00:00,  2.89it/s]\n",
            "async-timeout-3.0.1  | 11 KB     | : 100% 1.0/1 [00:00<00:00, 24.68it/s]\n",
            "google-cloud-core-1. | 26 KB     | : 100% 1.0/1 [00:00<00:00, 22.99it/s]\n",
            "xorg-libxau-1.0.9    | 13 KB     | : 100% 1.0/1 [00:00<00:00, 38.15it/s]\n",
            "partd-1.2.0          | 18 KB     | : 100% 1.0/1 [00:00<00:00, 33.32it/s]\n",
            "xorg-libx11-1.7.0    | 923 KB    | : 100% 1.0/1 [00:00<00:00,  5.23it/s]\n",
            "click-7.1.2          | 64 KB     | : 100% 1.0/1 [00:00<00:00, 18.89it/s]\n",
            "arrow-cpp-1.0.1      | 20.4 MB   | : 100% 1.0/1 [00:03<00:00,  3.25s/it]               \n",
            "liblapacke-3.8.0     | 11 KB     | : 100% 1.0/1 [00:00<00:00, 34.70it/s]\n",
            "fastrlock-0.5        | 31 KB     | : 100% 1.0/1 [00:00<00:00, 22.12it/s]\n",
            "google-auth-oauthlib | 19 KB     | : 100% 1.0/1 [00:00<00:00, 27.21it/s]\n",
            "aws-c-event-stream-0 | 25 KB     | : 100% 1.0/1 [00:00<00:00, 27.42it/s]\n",
            "google-cloud-bigquer | 10 KB     | : 100% 1.0/1 [00:00<00:00, 35.47it/s]\n",
            "pytz-2021.1          | 239 KB    | : 100% 1.0/1 [00:00<00:00,  8.56it/s]\n",
            "aiohttp-3.7.4        | 632 KB    | : 100% 1.0/1 [00:00<00:00,  5.77it/s]\n",
            "decorator-5.0.7      | 11 KB     | : 100% 1.0/1 [00:00<00:00, 33.99it/s]\n",
            "cusignal-0.19.0      | 893 KB    | : 100% 1.0/1 [00:00<00:00,  2.67it/s]\n",
            "libspatialite-5.0.0  | 3.9 MB    | : 100% 1.0/1 [00:00<00:00,  1.55it/s]\n",
            "libssh2-1.9.0        | 226 KB    | : 100% 1.0/1 [00:00<00:00, 11.39it/s]\n",
            "aws-c-common-0.4.59  | 160 KB    | : 100% 1.0/1 [00:00<00:00,  9.71it/s]\n",
            "libtiff-4.1.0        | 618 KB    | : 100% 1.0/1 [00:00<00:00,  6.65it/s]\n",
            "tblib-1.7.0          | 15 KB     | : 100% 1.0/1 [00:00<00:00, 35.60it/s]\n",
            "heapdict-1.0.1       | 7 KB      | : 100% 1.0/1 [00:00<00:00, 36.39it/s]\n",
            "libxgboost-1.4.0dev. | 115.3 MB  | : 100% 1.0/1 [00:21<00:00, 21.27s/it]               \n",
            "poppler-0.89.0       | 13.4 MB   | : 100% 1.0/1 [00:01<00:00,  1.92s/it]               \n",
            "libxcb-1.13          | 395 KB    | : 100% 1.0/1 [00:00<00:00,  7.21it/s]\n",
            "pyjwt-2.0.1          | 17 KB     | : 100% 1.0/1 [00:00<00:00, 26.66it/s]\n",
            "kealib-1.4.13        | 172 KB    | : 100% 1.0/1 [00:00<00:00, 17.23it/s]\n",
            "libpq-12.3           | 2.6 MB    | : 100% 1.0/1 [00:00<00:00,  1.84it/s]\n",
            "openssl-1.1.1k       | 2.1 MB    | : 100% 1.0/1 [00:00<00:00,  2.88it/s]\n",
            "dask-cuda-0.19.0     | 110 KB    | : 100% 1.0/1 [00:00<00:00,  5.57it/s]               \n",
            "lcms2-2.11           | 434 KB    | : 100% 1.0/1 [00:00<00:00,  9.53it/s]\n",
            "python-dateutil-2.8. | 220 KB    | : 100% 1.0/1 [00:00<00:00, 18.14it/s]\n",
            "rmm-0.19.0           | 6.4 MB    | : 100% 1.0/1 [00:01<00:00,  1.43s/it]              \n",
            "hdf5-1.10.6          | 3.1 MB    | : 100% 1.0/1 [00:00<00:00,  2.26it/s]\n",
            "libcugraph-0.19.0    | 163.9 MB  | : 100% 1.0/1 [00:22<00:00, 22.51s/it]               \n",
            "libevent-2.1.10      | 1.1 MB    | : 100% 1.0/1 [00:00<00:00,  3.05it/s]\n",
            "ujson-4.0.1          | 47 KB     | : 100% 1.0/1 [00:00<00:00, 24.50it/s]\n",
            "libdap4-3.20.6       | 7.9 MB    | : 100% 1.0/1 [00:01<00:00,  1.20s/it]\n",
            "bokeh-2.3.1          | 8.2 MB    | : 100% 1.0/1 [00:01<00:00,  1.92s/it]\n",
            "libcrc32c-1.1.1      | 20 KB     | : 100% 1.0/1 [00:00<00:00, 26.98it/s]\n",
            "brotli-1.0.9         | 395 KB    | : 100% 1.0/1 [00:00<00:00, 12.64it/s]\n",
            "krb5-1.17.2          | 1.4 MB    | : 100% 1.0/1 [00:00<00:00,  4.07it/s]\n",
            "libiconv-1.16        | 1.4 MB    | : 100% 1.0/1 [00:00<00:00,  5.41it/s]\n",
            "cuml-0.19.0          | 70.5 MB   | : 100% 1.0/1 [00:13<00:00, 13.04s/it]               \n",
            "re2-2020.11.01       | 226 KB    | : 100% 1.0/1 [00:00<00:00, 14.49it/s]\n",
            "traitlets-5.0.5      | 81 KB     | : 100% 1.0/1 [00:00<00:00, 20.53it/s]\n",
            "blinker-1.4          | 13 KB     | : 100% 1.0/1 [00:00<00:00, 38.17it/s]\n",
            "pexpect-4.8.0        | 47 KB     | : 100% 1.0/1 [00:00<00:00, 30.47it/s]\n",
            "libnetcdf-4.7.4      | 1.3 MB    | : 100% 1.0/1 [00:00<00:00,  4.56it/s]\n",
            "oauthlib-3.0.1       | 82 KB     | : 100% 1.0/1 [00:00<00:00, 15.93it/s]\n",
            "glog-0.4.0           | 104 KB    | : 100% 1.0/1 [00:00<00:00, 28.33it/s]\n",
            "jinja2-2.11.3        | 93 KB     | : 100% 1.0/1 [00:00<00:00, 18.61it/s]\n",
            "libblas-3.8.0        | 11 KB     | : 100% 1.0/1 [00:00<00:00, 36.13it/s]\n",
            "_openmp_mutex-4.5    | 5 KB      | : 100% 1.0/1 [00:00<00:00, 48.07it/s]\n",
            "gflags-2.2.2         | 114 KB    | : 100% 1.0/1 [00:00<00:00, 19.27it/s]\n",
            "wcwidth-0.2.5        | 33 KB     | : 100% 1.0/1 [00:00<00:00, 26.99it/s]\n",
            "py-xgboost-1.4.0dev. | 150 KB    | : 100% 1.0/1 [00:00<00:00,  6.06it/s]                \n",
            "pynvml-8.0.4         | 31 KB     | : 100% 1.0/1 [00:00<00:00, 30.44it/s]\n",
            "backports-1.0        | 4 KB      | : 100% 1.0/1 [00:00<00:00, 43.08it/s]\n",
            "blas-2.17            | 11 KB     | : 100% 1.0/1 [00:00<00:00, 39.73it/s]\n",
            "treelite-1.1.0       | 2.5 MB    | : 100% 1.0/1 [00:00<00:00,  2.32it/s]\n",
            "boost-1.72.0         | 339 KB    | : 100% 1.0/1 [00:00<00:00,  9.33it/s]\n",
            "pcre-8.44            | 261 KB    | : 100% 1.0/1 [00:00<00:00, 16.26it/s]\n",
            "libgfortran-ng-7.5.0 | 22 KB     | : 100% 1.0/1 [00:00<00:00, 31.31it/s]\n",
            "expat-2.2.9          | 191 KB    | : 100% 1.0/1 [00:00<00:00, 18.23it/s]\n",
            "requests-oauthlib-1. | 21 KB     | : 100% 1.0/1 [00:00<00:00, 34.64it/s]\n",
            "arrow-cpp-proc-3.0.0 | 24 KB     | : 100% 1.0/1 [00:00<00:00, 34.38it/s]\n",
            "llvmlite-0.34.0      | 322 KB    | : 100% 1.0/1 [00:00<00:00,  9.80it/s]\n",
            "cairo-1.16.0         | 1.5 MB    | : 100% 1.0/1 [00:00<00:00,  3.57it/s]\n",
            "curl-7.71.1          | 140 KB    | : 100% 1.0/1 [00:00<00:00, 23.04it/s]\n",
            "libcudf-0.19.2       | 181.5 MB  | : 100% 1.0/1 [00:24<00:00, 24.53s/it]              \n",
            "xorg-renderproto-0.1 | 9 KB      | : 100% 1.0/1 [00:00<00:00, 33.42it/s]\n",
            "xgboost-1.4.0dev.rap | 17 KB     | : 100% 1.0/1 [00:00<00:00,  8.94it/s]               \n",
            "libcuml-0.19.0       | 98.1 MB   | : 100% 1.0/1 [00:12<00:00, 12.34s/it]               \n",
            "libgcc-ng-9.3.0      | 7.8 MB    | : 100% 1.0/1 [00:01<00:00,  1.19s/it]               \n",
            "locket-0.2.0         | 6 KB      | : 100% 1.0/1 [00:00<00:00, 28.46it/s]\n",
            "numba-0.51.2         | 3.6 MB    | : 100% 1.0/1 [00:00<00:00,  1.24it/s]\n",
            "xorg-kbproto-1.0.7   | 27 KB     | : 100% 1.0/1 [00:00<00:00, 28.80it/s]\n",
            "multidict-5.1.0      | 67 KB     | : 100% 1.0/1 [00:00<00:00, 23.76it/s]\n",
            "proto-plus-1.18.1    | 32 KB     | : 100% 1.0/1 [00:00<00:00, 28.80it/s]\n",
            "parso-0.8.2          | 68 KB     | : 100% 1.0/1 [00:00<00:00, 23.73it/s]\n",
            "aws-sdk-cpp-1.8.70   | 2.2 MB    | : 100% 1.0/1 [00:00<00:00,  1.43it/s]\n",
            "google-api-core-grpc | 4 KB      | : 100% 1.0/1 [00:00<00:00, 38.43it/s]\n",
            "libcurl-7.71.1       | 302 KB    | : 100% 1.0/1 [00:00<00:00, 14.51it/s]\n",
            "libpng-1.6.37        | 306 KB    | : 100% 1.0/1 [00:00<00:00, 12.96it/s]\n",
            "threadpoolctl-2.1.0  | 15 KB     | : 100% 1.0/1 [00:00<00:00, 36.79it/s]\n",
            "cloudpickle-1.6.0    | 22 KB     | : 100% 1.0/1 [00:00<00:00, 33.06it/s]\n",
            "grpcio-1.33.2        | 1.8 MB    | : 100% 1.0/1 [00:00<00:00,  3.20it/s]\n",
            "ucx-1.9.0+gcd9efd3   | 8.2 MB    | : 100% 1.0/1 [00:01<00:00,  1.39s/it]               \n",
            "librmm-0.19.0        | 55 KB     | : 100% 1.0/1 [00:00<00:00,  9.53it/s]\n",
            "python_abi-3.7       | 4 KB      | : 100% 1.0/1 [00:00<00:00, 27.46it/s]\n",
            "prompt-toolkit-3.0.1 | 244 KB    | : 100% 1.0/1 [00:00<00:00,  9.94it/s]\n",
            "fastavro-1.4.0       | 499 KB    | : 100% 1.0/1 [00:00<00:00,  8.50it/s]\n",
            "toolz-0.11.1         | 46 KB     | : 100% 1.0/1 [00:00<00:00, 20.76it/s]\n",
            "faiss-proc-1.0.0     | 24 KB     | : 100% 1.0/1 [00:00<00:00,  8.88it/s]               \n",
            "pyarrow-1.0.1        | 2.2 MB    | : 100% 1.0/1 [00:00<00:00,  2.28it/s]\n",
            "libcst-0.3.18        | 721 KB    | : 100% 1.0/1 [00:00<00:00,  4.13it/s]\n",
            "typing_inspect-0.6.0 | 11 KB     | : 100% 1.0/1 [00:00<00:00, 26.83it/s]\n",
            "c-ares-1.17.1        | 109 KB    | : 100% 1.0/1 [00:00<00:00, 19.23it/s]\n",
            "fsspec-2021.4.0      | 75 KB     | : 100% 1.0/1 [00:00<00:00, 14.18it/s]\n",
            "zstd-1.4.5           | 712 KB    | : 100% 1.0/1 [00:00<00:00,  7.63it/s]\n",
            "jpeg-9d              | 264 KB    | : 100% 1.0/1 [00:00<00:00, 13.05it/s]\n",
            "freetype-2.10.4      | 890 KB    | : 100% 1.0/1 [00:00<00:00,  6.12it/s]\n",
            "pyasn1-modules-0.2.7 | 60 KB     | : 100% 1.0/1 [00:00<00:00, 21.08it/s]\n",
            "tiledb-2.1.5         | 2.2 MB    | : 100% 1.0/1 [00:00<00:00,  2.47it/s]\n",
            "packaging-20.9       | 35 KB     | : 100% 1.0/1 [00:00<00:00, 34.32it/s]\n",
            "boost-cpp-1.72.0     | 16.3 MB   | : 100% 1.0/1 [00:05<00:00,  5.14s/it]\n",
            "yarl-1.5.1           | 138 KB    | : 100% 1.0/1 [00:00<00:00, 17.37it/s]\n",
            "tornado-6.1          | 646 KB    | : 100% 1.0/1 [00:00<00:00,  6.58it/s]\n",
            "googleapis-common-pr | 124 KB    | : 100% 1.0/1 [00:00<00:00, 14.31it/s]\n",
            "libuuid-2.32.1       | 28 KB     | : 100% 1.0/1 [00:00<00:00, 31.10it/s]\n",
            "pickleshare-0.7.5    | 9 KB      | : 100% 1.0/1 [00:00<00:00, 38.55it/s]\n",
            "pixman-0.38.0        | 594 KB    | : 100% 1.0/1 [00:00<00:00,  6.60it/s]\n",
            "jedi-0.18.0          | 923 KB    | : 100% 1.0/1 [00:00<00:00,  2.43it/s]\n",
            "hdf4-4.2.13          | 964 KB    | : 100% 1.0/1 [00:00<00:00,  5.71it/s]\n",
            "openjpeg-2.3.1       | 475 KB    | : 100% 1.0/1 [00:00<00:00,  9.42it/s]\n",
            "protobuf-3.13.0.1    | 704 KB    | : 100% 1.0/1 [00:00<00:00,  4.93it/s]\n",
            "pandas-1.1.4         | 10.5 MB   | : 100% 1.0/1 [00:02<00:00,  2.08s/it]               \n",
            "markupsafe-1.1.1     | 27 KB     | : 100% 1.0/1 [00:00<00:00, 27.99it/s]\n",
            "libgdal-3.2.0        | 12.0 MB   | : 100% 1.0/1 [00:01<00:00,  1.83s/it]               \n",
            "libcblas-3.8.0       | 11 KB     | : 100% 1.0/1 [00:00<00:00, 27.19it/s]\n",
            "libcumlprims-0.19.0  | 1.1 MB    | : 100% 1.0/1 [00:00<00:00,  4.07it/s]\n",
            "google-resumable-med | 40 KB     | : 100% 1.0/1 [00:00<00:00, 27.54it/s]\n",
            "_libgcc_mutex-0.1    | 3 KB      | : 100% 1.0/1 [00:00<00:00, 45.90it/s]\n",
            "Preparing transaction: \\ \b\b| \b\b/ \b\b- \b\b\\ \b\b| \b\b/ \b\b- \b\b\\ \b\b| \b\b/ \b\b- \b\b\\ \b\b| \b\b/ \b\b- \b\b\\ \b\b| \b\b/ \b\bdone\n",
            "Verifying transaction: \\ \b\b| \b\b/ \b\b- \b\b\\ \b\b| \b\b/ \b\b- \b\b\\ \b\b| \b\b/ \b\b- \b\b\\ \b\b| \b\b/ \b\b- \b\b\\ \b\b| \b\b/ \b\b- \b\b\\ \b\b| \b\b/ \b\b- \b\b\\ \b\b| \b\b/ \b\b- \b\b\\ \b\b| \b\b/ \b\b- \b\b\\ \b\b| \b\b/ \b\b- \b\b\\ \b\b| \b\b/ \b\b- \b\b\\ \b\b| \b\b/ \b\b- \b\b\\ \b\b| \b\b/ \b\b- \b\b\\ \b\b| \b\b/ \b\b- \b\b\\ \b\b| \b\b/ \b\b- \b\b\\ \b\b| \b\b/ \b\b- \b\b\\ \b\b| \b\b/ \b\b- \b\b\\ \b\b| \b\b/ \b\b- \b\b\\ \b\b| \b\b/ \b\b- \b\b\\ \b\b| \b\b/ \b\b- \b\b\\ \b\b| \b\b/ \b\b- \b\b\\ \b\b| \b\b/ \b\b- \b\b\\ \b\b| \b\b/ \b\b- \b\b\\ \b\b| \b\b/ \b\b- \b\b\\ \b\b| \b\b/ \b\b- \b\b\\ \b\b| \b\b/ \b\b- \b\b\\ \b\b| \b\b/ \b\b- \b\b\\ \b\b| \b\b/ \b\b- \b\b\\ \b\b| \b\b/ \b\b- \b\b\\ \b\b| \b\b/ \b\b- \b\b\\ \b\b| \b\b/ \b\b- \b\b\\ \b\b| \b\b/ \b\b- \b\b\\ \b\b| \b\b/ \b\b- \b\b\\ \b\b| \b\b/ \b\b- \b\b\\ \b\b| \b\b/ \b\b- \b\b\\ \b\b| \b\b/ \b\b- \b\b\\ \b\b| \b\b/ \b\b- \b\b\\ \b\b| \b\b/ \b\b- \b\b\\ \b\b| \b\b/ \b\b- \b\b\\ \b\b| \b\b/ \b\b- \b\b\\ \b\b| \b\b/ \b\b- \b\b\\ \b\b| \b\b/ \b\b- \b\b\\ \b\b| \b\b/ \b\b- \b\b\\ \b\b| \b\b/ \b\b- \b\b\\ \b\b| \b\b/ \b\b- \b\b\\ \b\b| \b\b/ \b\b- \b\b\\ \b\b| \b\b/ \b\b- \b\b\\ \b\b| \b\b/ \b\b- \b\b\\ \b\b| \b\b/ \b\b- \b\b\\ \b\b| \b\b/ \b\b- \b\b\\ \b\b| \b\b/ \b\b- \b\b\\ \b\b| \b\b/ \b\b- \b\b\\ \b\b| \b\b/ \b\b- \b\b\\ \b\b| \b\b/ \b\b- \b\b\\ \b\b| \b\b/ \b\b- \b\b\\ \b\b| \b\b/ \b\b- \b\b\\ \b\b| \b\b/ \b\b- \b\b\\ \b\b| \b\b/ \b\b- \b\b\\ \b\b| \b\b/ \b\b- \b\b\\ \b\b| \b\b/ \b\b- \b\b\\ \b\b| \b\b/ \b\b- \b\b\\ \b\b| \b\b/ \b\b- \b\b\\ \b\b| \b\b/ \b\b- \b\b\\ \b\b| \b\b/ \b\b- \b\b\\ \b\b| \b\b/ \b\b- \b\b\\ \b\b| \b\b/ \b\b- \b\b\\ \b\b| \b\b/ \b\b- \b\b\\ \b\b| \b\b/ \b\b- \b\b\\ \b\b| \b\b/ \b\b- \b\b\\ \b\b| \b\b/ \b\b- \b\b\\ \b\b| \b\b/ \b\b- \b\b\\ \b\b| \b\b/ \b\b- \b\b\\ \b\b| \b\b/ \b\b- \b\b\\ \b\b| \b\b/ \b\b- \b\b\\ \b\b| \b\b/ \b\b- \b\b\\ \b\b| \b\b/ \b\b- \b\b\\ \b\b| \b\b/ \b\b- \b\b\\ \b\b| \b\b/ \b\b- \b\b\\ \b\b| \b\b/ \b\b- \b\b\\ \b\b| \b\b/ \b\b- \b\b\\ \b\b| \b\b/ \b\b- \b\b\\ \b\b| \b\b/ \b\b- \b\b\\ \b\b| \b\b/ \b\b- \b\b\\ \b\b| \b\b/ \b\b- \b\b\\ \b\b| \b\b/ \b\b- \b\b\\ \b\b| \b\b/ \b\b- \b\b\\ \b\b| \b\b/ \b\b- \b\b\\ \b\b| \b\b/ \b\b- \b\b\\ \b\b| \b\b/ \b\b- \b\b\\ \b\b| \b\b/ \b\b- \b\b\\ \b\b| \b\b/ \b\b- \b\b\\ \b\b| \b\b/ \b\b- \b\b\\ \b\b| \b\b/ \b\bdone\n",
            "Executing transaction: \\ \b\b| \b\b/ \b\b- \b\b\\ \b\b| \b\b/ \b\b- \b\b\\ \b\b| \b\b/ \b\b- \b\b\\ \b\b| \b\b/ \b\b- \b\b\\ \b\b| \b\b/ \b\b- \b\b\\ \b\b| \b\b/ \b\b- \b\b\\ \b\b| \b\b/ \b\b- \b\b\\ \b\b| \b\b/ \b\b- \b\b\\ \b\b| \b\b/ \b\b- \b\b\\ \b\b| \b\b/ \b\b- \b\b\\ \b\b| \b\b/ \b\b- \b\b\\ \b\b| \b\b/ \b\b- \b\b\\ \b\b| \b\b/ \b\b- \b\b\\ \b\b| \b\b/ \b\b- \b\b\\ \b\b| \b\b/ \b\b- \b\b\\ \b\b| \b\b/ \b\b- By downloading and using the CUDA Toolkit conda packages, you accept the terms and conditions of the CUDA End User License Agreement (EULA): https://docs.nvidia.com/cuda/eula/index.html\n",
            "\n",
            "\b\b\\ \b\b| \b\b/ \b\b- \b\b\\ By downloading and using the cuDNN conda packages, you accept the terms and conditions of the NVIDIA cuDNN EULA -\n",
            "  https://docs.nvidia.com/deeplearning/cudnn/sla/index.html\n",
            "\n",
            "\b\b| \b\b/ \b\b- \b\b\\ \b\b| By downloading and using the cuTENSOR conda package, you accept the terms\n",
            "and conditions of the NVIDIA cuTENSOR Software License Agreement:\n",
            "https://docs.nvidia.com/cuda/cutensor/license.html\n",
            "\n",
            "\b\b/ \b\b- \b\b\\ \b\b| \b\b/ \b\b- \b\b\\ \b\b| \b\b/ \b\b- \b\b\\ \b\b| \b\b/ \b\b- \b\b\\ \b\b| \b\b/ \b\b- \b\b\\ \b\b| \b\b/ \b\b- \b\b\\ \b\b| \b\b/ \b\b- \b\b\\ \b\b| \b\b/ \b\b- \b\b\\ \b\b| \b\b/ \b\b- \b\b\\ \b\b| \b\b/ \b\b- \b\b\\ \b\b| \b\b/ \b\b- \b\b\\ \b\b| \b\b/ \b\b- \b\b\\ \b\b| \b\b/ \b\b- \b\b\\ \b\b| \b\b/ \b\b- \b\b\\ \b\b| \b\bdone\n",
            "Copying shared object files to /usr/lib\n",
            "Copying /usr/local/lib/libcudf.so to /usr/lib/libcudf.so\n",
            "Copying /usr/local/lib/libnccl.so to /usr/lib/libnccl.so\n",
            "Copying /usr/local/lib/libcuml.so to /usr/lib/libcuml.so\n",
            "Copying /usr/local/lib/libcugraph.so to /usr/lib/libcugraph.so\n",
            "Copying /usr/local/lib/libxgboost.so to /usr/lib/libxgboost.so\n",
            "Copying /usr/local/lib/libcuspatial.so to /usr/lib/libcuspatial.so\n",
            "\n",
            "************************************************\n",
            "Your Google Colab instance has RAPIDS installed!\n",
            "************************************************\n",
            "Copying /usr/local/lib/libcudf.so to /usr/lib/libcudf.so\n",
            "***********************************************************************\n",
            "Let us check on those pyarrow and cffi versions...\n",
            "***********************************************************************\n",
            "\n",
            "You're don't have pyarrow.\n",
            "unloaded cffi 1.14.5\n",
            "loaded cffi 1.14.3\n"
          ],
          "name": "stdout"
        }
      ]
    },
    {
      "cell_type": "markdown",
      "metadata": {
        "id": "OmQPH4ALXMbJ"
      },
      "source": [
        "<a id=\"pandas\"></a>\n",
        "## Pandas\n",
        "\n",
        "Data scientists typically work with two types of data: unstructured and structured. Unstructured data often comes in the form of text, images, or videos. Structured data - as the name suggests - comes in a structured form, often represented by a table or CSV. We'll focus the majority of these tutorials on working with structured data.\n",
        "\n",
        "There exist many tools in the Python ecosystem for working with structured, tabular data but few are as widely used as Pandas. Pandas represents data in a table and allows a data scientist to manipulate the data to perform a number of useful operations such as filtering, transforming, aggregating, merging, visualizing and many more. \n",
        "\n",
        "For more information on Pandas, check out the excellent documentation: http://pandas.pydata.org/pandas-docs/stable/\n",
        "\n",
        "Below we show how to create a Pandas DataFrame, an internal object for representing tabular data."
      ]
    },
    {
      "cell_type": "code",
      "metadata": {
        "colab": {
          "base_uri": "https://localhost:8080/"
        },
        "id": "U0tOSYWhXMbK",
        "outputId": "d6a0f8f0-a042-40af-894d-dd87f3cdb00e"
      },
      "source": [
        "import pandas as pd; print('Pandas Version:', pd.__version__)\n",
        "\n",
        "\n",
        "# here we create a Pandas DataFrame with\n",
        "# two columns named \"key\" and \"value\"\n",
        "df = pd.DataFrame()\n",
        "df['key'] = [0, 0, 2, 2, 3]\n",
        "df['value'] = [float(i + 10) for i in range(5)]\n",
        "print(df)"
      ],
      "execution_count": null,
      "outputs": [
        {
          "output_type": "stream",
          "text": [
            "Pandas Version: 1.1.5\n",
            "   key  value\n",
            "0    0   10.0\n",
            "1    0   11.0\n",
            "2    2   12.0\n",
            "3    2   13.0\n",
            "4    3   14.0\n"
          ],
          "name": "stdout"
        }
      ]
    },
    {
      "cell_type": "markdown",
      "metadata": {
        "id": "0k2CL-bLXMbL"
      },
      "source": [
        "We can perform many operations on this data. For example, let's say we wanted to sum all values in the in the `value` column. We could accomplish this using the following syntax:"
      ]
    },
    {
      "cell_type": "code",
      "metadata": {
        "colab": {
          "base_uri": "https://localhost:8080/"
        },
        "id": "7FTD3WXhXMbM",
        "outputId": "4c1291e1-64d9-40db-eb07-f62f3d95799c"
      },
      "source": [
        "aggregation = df['value'].sum()\n",
        "print(aggregation)"
      ],
      "execution_count": null,
      "outputs": [
        {
          "output_type": "stream",
          "text": [
            "60.0\n"
          ],
          "name": "stdout"
        }
      ]
    },
    {
      "cell_type": "code",
      "metadata": {
        "id": "f_cR19A7XmhS"
      },
      "source": [
        ""
      ],
      "execution_count": null,
      "outputs": []
    },
    {
      "cell_type": "markdown",
      "metadata": {
        "id": "FkTcTL5gXMbN"
      },
      "source": [
        "<a id=\"cudf\"></a>\n",
        "## cuDF\n",
        "\n",
        "Pandas is fantastic for working with small datasets that fit into your system's memory and workflows that are not computationally intense. However, datasets are growing larger and data scientists are working with increasingly complex workloads - the need for accelerated computing is increasing rapidly.\n",
        "\n",
        "cuDF is a package within the RAPIDS ecosystem that allows data scientists to easily migrate their existing Pandas workflows from CPU to GPU, where computations can leverage the immense parallelization that GPUs provide.\n",
        "\n",
        "Below, we show how to create a cuDF DataFrame."
      ]
    },
    {
      "cell_type": "code",
      "metadata": {
        "colab": {
          "base_uri": "https://localhost:8080/"
        },
        "id": "Weia04BaXMbN",
        "outputId": "c57a7a4a-3dc2-421f-a3a5-aaabe61962d5"
      },
      "source": [
        "import cudf; print('cuDF Version:', cudf.__version__)\n",
        "\n",
        "\n",
        "# here we create a cuDF DataFrame with\n",
        "# two columns named \"key\" and \"value\"\n",
        "df = cudf.DataFrame()\n",
        "df['key'] = [0, 0, 2, 2, 3]\n",
        "df['value'] = [float(i + 10) for i in range(5)]\n",
        "print(df)"
      ],
      "execution_count": null,
      "outputs": [
        {
          "output_type": "stream",
          "text": [
            "cuDF Version: 0.19.2\n",
            "   key  value\n",
            "0    0   10.0\n",
            "1    0   11.0\n",
            "2    2   12.0\n",
            "3    2   13.0\n",
            "4    3   14.0\n"
          ],
          "name": "stdout"
        }
      ]
    },
    {
      "cell_type": "markdown",
      "metadata": {
        "id": "lcvNqcjYXMbO"
      },
      "source": [
        "As before, we can take this cuDF DataFrame and perform a `sum` operation over the `value` column. The key difference is that any operations we perform using cuDF use the GPU instead of the CPU."
      ]
    },
    {
      "cell_type": "code",
      "metadata": {
        "colab": {
          "base_uri": "https://localhost:8080/"
        },
        "id": "zbYMc9WBXMbO",
        "outputId": "5171ec99-9e1f-4ce6-9029-95e709905407"
      },
      "source": [
        "aggregation = df['value'].sum()\n",
        "print(aggregation)"
      ],
      "execution_count": null,
      "outputs": [
        {
          "output_type": "stream",
          "text": [
            "60.0\n"
          ],
          "name": "stdout"
        }
      ]
    },
    {
      "cell_type": "markdown",
      "metadata": {
        "id": "D1gO6ClDXMbP"
      },
      "source": [
        "Note how the syntax for both creating and manipulating a cuDF DataFrame is identical to the syntax necessary to create and manipulate Pandas DataFrames; the cuDF API is based on the Pandas API. This design choice minimizes the cognitive burden of switching from a CPU based workflow to a GPU based workflow and allows data scientists to focus on solving problems while benefitting from the speed of a GPU!"
      ]
    },
    {
      "cell_type": "markdown",
      "metadata": {
        "id": "7gJ3IsvNXMbQ"
      },
      "source": [
        "# DataFrame Basics with cuDF\n",
        "\n",
        "In the following tutorial, you'll get a chance to familiarize yourself with cuDF. For those of you with experience using pandas, this should look nearly identical.\n",
        "\n",
        "Along the way you'll notice small exercises. These exercises are designed to help you get a feel for writing the code yourself, but if you get stuck, you can take a look at the solutions.\n",
        "\n",
        "Portions of this were borrowed from the 10 Minutes to cuDF guide."
      ]
    },
    {
      "cell_type": "markdown",
      "metadata": {
        "id": "iutunf0xXMbQ"
      },
      "source": [
        "Object Creation\n",
        "---------------"
      ]
    },
    {
      "cell_type": "markdown",
      "metadata": {
        "id": "WCyjGJayXMbQ"
      },
      "source": [
        "Creating a `cudf.Series`."
      ]
    },
    {
      "cell_type": "code",
      "metadata": {
        "colab": {
          "base_uri": "https://localhost:8080/"
        },
        "id": "Bbi9SgOBXMbQ",
        "outputId": "09454997-06d1-403e-9721-ef0da589b505"
      },
      "source": [
        "s = cudf.Series([1,2,3,None,4])\n",
        "print(s)"
      ],
      "execution_count": null,
      "outputs": [
        {
          "output_type": "stream",
          "text": [
            "0       1\n",
            "1       2\n",
            "2       3\n",
            "3    <NA>\n",
            "4       4\n",
            "dtype: int64\n"
          ],
          "name": "stdout"
        }
      ]
    },
    {
      "cell_type": "markdown",
      "metadata": {
        "id": "nqSZO6-sXMbR"
      },
      "source": [
        "Creating a `cudf.DataFrame` by specifying values for each column."
      ]
    },
    {
      "cell_type": "code",
      "metadata": {
        "colab": {
          "base_uri": "https://localhost:8080/"
        },
        "id": "PydXyzIsXMbR",
        "outputId": "d28a95cc-bfb9-494b-bedc-1346b29a3bd0"
      },
      "source": [
        "df = cudf.DataFrame({'a': list(range(20)),\n",
        "'b': list(reversed(range(20))),\n",
        "'c': list(range(20))})\n",
        "print(df)"
      ],
      "execution_count": null,
      "outputs": [
        {
          "output_type": "stream",
          "text": [
            "     a   b   c\n",
            "0    0  19   0\n",
            "1    1  18   1\n",
            "2    2  17   2\n",
            "3    3  16   3\n",
            "4    4  15   4\n",
            "5    5  14   5\n",
            "6    6  13   6\n",
            "7    7  12   7\n",
            "8    8  11   8\n",
            "9    9  10   9\n",
            "10  10   9  10\n",
            "11  11   8  11\n",
            "12  12   7  12\n",
            "13  13   6  13\n",
            "14  14   5  14\n",
            "15  15   4  15\n",
            "16  16   3  16\n",
            "17  17   2  17\n",
            "18  18   1  18\n",
            "19  19   0  19\n"
          ],
          "name": "stdout"
        }
      ]
    },
    {
      "cell_type": "markdown",
      "metadata": {
        "id": "Bfls8K0FXMbR"
      },
      "source": [
        "Creating a `cudf.DataFrame` from a `pd.Dataframe`."
      ]
    },
    {
      "cell_type": "code",
      "metadata": {
        "colab": {
          "base_uri": "https://localhost:8080/"
        },
        "id": "_hVyOvzdXMbR",
        "outputId": "4126890e-0886-4257-9f1a-27bbe40f2071"
      },
      "source": [
        "pdf = pd.DataFrame({'a': [0, 1, 2, 3],'b': [0.1, 0.2, None, 0.3]})\n",
        "gdf = cudf.DataFrame.from_pandas(pdf)\n",
        "print(gdf)"
      ],
      "execution_count": null,
      "outputs": [
        {
          "output_type": "stream",
          "text": [
            "   a     b\n",
            "0  0   0.1\n",
            "1  1   0.2\n",
            "2  2  <NA>\n",
            "3  3   0.3\n"
          ],
          "name": "stdout"
        }
      ]
    },
    {
      "cell_type": "markdown",
      "metadata": {
        "id": "2rlhDd86XMbR"
      },
      "source": [
        "Viewing Data\n",
        "-------------"
      ]
    },
    {
      "cell_type": "markdown",
      "metadata": {
        "id": "WUo34XJxXMbS"
      },
      "source": [
        "Viewing the top rows of a GPU dataframe."
      ]
    },
    {
      "cell_type": "code",
      "metadata": {
        "colab": {
          "base_uri": "https://localhost:8080/"
        },
        "id": "j1B668FSXMbS",
        "outputId": "9ee87326-11e5-4d4e-b0ef-c8365eb15c26"
      },
      "source": [
        "print(df.head(2))"
      ],
      "execution_count": null,
      "outputs": [
        {
          "output_type": "stream",
          "text": [
            "   a   b  c\n",
            "0  0  19  0\n",
            "1  1  18  1\n"
          ],
          "name": "stdout"
        }
      ]
    },
    {
      "cell_type": "markdown",
      "metadata": {
        "id": "TXquhIRuXMbS"
      },
      "source": [
        "Sorting by values."
      ]
    },
    {
      "cell_type": "code",
      "metadata": {
        "colab": {
          "base_uri": "https://localhost:8080/"
        },
        "id": "zY5SNiOFXMbS",
        "outputId": "ac2980bf-7a74-4b80-e31e-08a3084c1f75"
      },
      "source": [
        "print(df.sort_values('b'))"
      ],
      "execution_count": null,
      "outputs": [
        {
          "output_type": "stream",
          "text": [
            "     a   b   c\n",
            "19  19   0  19\n",
            "18  18   1  18\n",
            "17  17   2  17\n",
            "16  16   3  16\n",
            "15  15   4  15\n",
            "14  14   5  14\n",
            "13  13   6  13\n",
            "12  12   7  12\n",
            "11  11   8  11\n",
            "10  10   9  10\n",
            "9    9  10   9\n",
            "8    8  11   8\n",
            "7    7  12   7\n",
            "6    6  13   6\n",
            "5    5  14   5\n",
            "4    4  15   4\n",
            "3    3  16   3\n",
            "2    2  17   2\n",
            "1    1  18   1\n",
            "0    0  19   0\n"
          ],
          "name": "stdout"
        }
      ]
    },
    {
      "cell_type": "markdown",
      "metadata": {
        "id": "3wIU45B7XMbU"
      },
      "source": [
        "Selection\n",
        "------------\n",
        "\n",
        "## Getting"
      ]
    },
    {
      "cell_type": "markdown",
      "metadata": {
        "id": "FoX5Mu38XMbU"
      },
      "source": [
        "Selecting a single column, which initially yields a `cudf.Series` (equivalent to `df.a`)."
      ]
    },
    {
      "cell_type": "code",
      "metadata": {
        "colab": {
          "base_uri": "https://localhost:8080/"
        },
        "id": "s_GQgGALXMbU",
        "outputId": "1636d4df-fd3f-4ca5-fa56-7efdff40a267"
      },
      "source": [
        "print(df['a'])"
      ],
      "execution_count": null,
      "outputs": [
        {
          "output_type": "stream",
          "text": [
            "0      0\n",
            "1      1\n",
            "2      2\n",
            "3      3\n",
            "4      4\n",
            "5      5\n",
            "6      6\n",
            "7      7\n",
            "8      8\n",
            "9      9\n",
            "10    10\n",
            "11    11\n",
            "12    12\n",
            "13    13\n",
            "14    14\n",
            "15    15\n",
            "16    16\n",
            "17    17\n",
            "18    18\n",
            "19    19\n",
            "Name: a, dtype: int64\n"
          ],
          "name": "stdout"
        }
      ]
    },
    {
      "cell_type": "markdown",
      "metadata": {
        "id": "hrVuDl8rXMbV"
      },
      "source": [
        "## Selection by Label"
      ]
    },
    {
      "cell_type": "markdown",
      "metadata": {
        "id": "OaA2_4vuXMbV"
      },
      "source": [
        "Selecting rows from index 2 to index 5 from columns `a` and `b`."
      ]
    },
    {
      "cell_type": "code",
      "metadata": {
        "colab": {
          "base_uri": "https://localhost:8080/"
        },
        "id": "bx9TW78jXMbV",
        "outputId": "5febb25e-1e14-48ca-97e6-5dbba2d07c0f"
      },
      "source": [
        "print(df.loc[2:5, ['a', 'b']])"
      ],
      "execution_count": null,
      "outputs": [
        {
          "output_type": "stream",
          "text": [
            "   a   b\n",
            "2  2  17\n",
            "3  3  16\n",
            "4  4  15\n",
            "5  5  14\n"
          ],
          "name": "stdout"
        }
      ]
    },
    {
      "cell_type": "markdown",
      "metadata": {
        "id": "EpgAJOClXMbV"
      },
      "source": [
        "## Selection by Position"
      ]
    },
    {
      "cell_type": "markdown",
      "metadata": {
        "id": "LQOq__BTXMbV"
      },
      "source": [
        "Selecting via integers and integer slices, like numpy/pandas."
      ]
    },
    {
      "cell_type": "code",
      "metadata": {
        "colab": {
          "base_uri": "https://localhost:8080/"
        },
        "id": "6hZyyhcCXMbV",
        "outputId": "701124a4-c0c0-4a89-89d7-271e39cfc858"
      },
      "source": [
        "print(df.iloc[0])"
      ],
      "execution_count": null,
      "outputs": [
        {
          "output_type": "stream",
          "text": [
            "/usr/local/lib/python3.7/site-packages/numba/cuda/envvars.py:17: NumbaWarning: \n",
            "Environment variables with the 'NUMBAPRO' prefix are deprecated and consequently ignored, found use of NUMBAPRO_NVVM=/usr/local/cuda/nvvm/lib64/libnvvm.so.\n",
            "\n",
            "For more information about alternatives visit: ('https://numba.pydata.org/numba-doc/latest/cuda/overview.html', '#cudatoolkit-lookup')\n",
            "  warnings.warn(errors.NumbaWarning(msg))\n",
            "/usr/local/lib/python3.7/site-packages/numba/cuda/envvars.py:17: NumbaWarning: \n",
            "Environment variables with the 'NUMBAPRO' prefix are deprecated and consequently ignored, found use of NUMBAPRO_LIBDEVICE=/usr/local/cuda/nvvm/libdevice/.\n",
            "\n",
            "For more information about alternatives visit: ('https://numba.pydata.org/numba-doc/latest/cuda/overview.html', '#cudatoolkit-lookup')\n",
            "  warnings.warn(errors.NumbaWarning(msg))\n"
          ],
          "name": "stderr"
        },
        {
          "output_type": "stream",
          "text": [
            "a     0\n",
            "b    19\n",
            "c     0\n",
            "Name: 0, dtype: int64\n"
          ],
          "name": "stdout"
        }
      ]
    },
    {
      "cell_type": "code",
      "metadata": {
        "colab": {
          "base_uri": "https://localhost:8080/"
        },
        "id": "7Z6IlFo5XMbV",
        "outputId": "7d0397f4-a2e0-4626-c5c3-b1aadeb5eb92"
      },
      "source": [
        "print(df.iloc[0:3, 0:2])"
      ],
      "execution_count": null,
      "outputs": [
        {
          "output_type": "stream",
          "text": [
            "   a   b\n",
            "0  0  19\n",
            "1  1  18\n",
            "2  2  17\n"
          ],
          "name": "stdout"
        }
      ]
    },
    {
      "cell_type": "markdown",
      "metadata": {
        "id": "RWpKCNeyXMbW"
      },
      "source": [
        "You can also select elements of a `DataFrame` or `Series` with direct index access."
      ]
    },
    {
      "cell_type": "code",
      "metadata": {
        "colab": {
          "base_uri": "https://localhost:8080/"
        },
        "id": "g3PrRVSBXMbW",
        "outputId": "fe272e24-60d9-4ad6-b609-f76118eb7042"
      },
      "source": [
        "print(df[3:5])"
      ],
      "execution_count": null,
      "outputs": [
        {
          "output_type": "stream",
          "text": [
            "   a   b  c\n",
            "3  3  16  3\n",
            "4  4  15  4\n"
          ],
          "name": "stdout"
        }
      ]
    },
    {
      "cell_type": "code",
      "metadata": {
        "colab": {
          "base_uri": "https://localhost:8080/"
        },
        "id": "vf2EKgHbXMbW",
        "outputId": "31b876d6-f763-4988-8049-f2b4c81e6916"
      },
      "source": [
        "print(s[3:5])"
      ],
      "execution_count": null,
      "outputs": [
        {
          "output_type": "stream",
          "text": [
            "3    <NA>\n",
            "4       4\n",
            "dtype: int64\n"
          ],
          "name": "stdout"
        }
      ]
    },
    {
      "cell_type": "markdown",
      "metadata": {
        "id": "KPpIVFPaXMbW"
      },
      "source": [
        "## Exercise 1\n",
        "\n",
        "Try to select only the rows at index `4` and `9` from `df`.\n",
        "\n",
        "<details><summary><b>Solution</b></summary>\n",
        "   <pre>\n",
        "    <br>print(df.iloc[[4,9]])\n",
        "   </pre>\n",
        "</details>"
      ]
    },
    {
      "cell_type": "code",
      "metadata": {
        "colab": {
          "base_uri": "https://localhost:8080/"
        },
        "id": "ipzV5orNXMbW",
        "outputId": "24f84915-73ff-44ba-bdc6-165c477d2373"
      },
      "source": [
        "print(df.iloc[[4,9]])"
      ],
      "execution_count": null,
      "outputs": [
        {
          "output_type": "stream",
          "text": [
            "   a   b  c\n",
            "4  4  15  4\n",
            "9  9  10  9\n"
          ],
          "name": "stdout"
        }
      ]
    },
    {
      "cell_type": "markdown",
      "metadata": {
        "id": "gvyxGe8-XMbX"
      },
      "source": [
        "## Boolean Indexing"
      ]
    },
    {
      "cell_type": "markdown",
      "metadata": {
        "id": "cfrTMQRPXMbX"
      },
      "source": [
        "Selecting rows in a `DataFrame` or `Series` by direct Boolean indexing."
      ]
    },
    {
      "cell_type": "code",
      "metadata": {
        "colab": {
          "base_uri": "https://localhost:8080/"
        },
        "id": "oclj29qxXMbX",
        "outputId": "e231a302-df2e-43b6-a106-4f8c966553a6"
      },
      "source": [
        "print(df[df.b > 15])"
      ],
      "execution_count": null,
      "outputs": [
        {
          "output_type": "stream",
          "text": [
            "   a   b  c\n",
            "0  0  19  0\n",
            "1  1  18  1\n",
            "2  2  17  2\n",
            "3  3  16  3\n"
          ],
          "name": "stdout"
        }
      ]
    },
    {
      "cell_type": "markdown",
      "metadata": {
        "id": "4nT5cTprXMbX"
      },
      "source": [
        "Selecting values from a `DataFrame` where a Boolean condition is met, via the `query` API."
      ]
    },
    {
      "cell_type": "code",
      "metadata": {
        "colab": {
          "base_uri": "https://localhost:8080/"
        },
        "id": "_Mn-W5GdXMbX",
        "outputId": "7051b2d6-60e4-4b9f-f3c1-5d5e44fc2afa"
      },
      "source": [
        "print(df.query(\"b == 3\"))  "
      ],
      "execution_count": null,
      "outputs": [
        {
          "output_type": "stream",
          "text": [
            "     a  b   c\n",
            "16  16  3  16\n"
          ],
          "name": "stdout"
        }
      ]
    },
    {
      "cell_type": "code",
      "metadata": {
        "colab": {
          "base_uri": "https://localhost:8080/"
        },
        "id": "mUGpCeXpXMbX",
        "outputId": "b5da635c-106f-4812-df3b-1d5dbe8ef857"
      },
      "source": [
        "val = 3\n",
        "df.query(\"b == @val\")"
      ],
      "execution_count": null,
      "outputs": [
        {
          "output_type": "execute_result",
          "data": {
            "text/html": [
              "<div>\n",
              "<style scoped>\n",
              "    .dataframe tbody tr th:only-of-type {\n",
              "        vertical-align: middle;\n",
              "    }\n",
              "\n",
              "    .dataframe tbody tr th {\n",
              "        vertical-align: top;\n",
              "    }\n",
              "\n",
              "    .dataframe thead th {\n",
              "        text-align: right;\n",
              "    }\n",
              "</style>\n",
              "<table border=\"1\" class=\"dataframe\">\n",
              "  <thead>\n",
              "    <tr style=\"text-align: right;\">\n",
              "      <th></th>\n",
              "      <th>a</th>\n",
              "      <th>b</th>\n",
              "      <th>c</th>\n",
              "    </tr>\n",
              "  </thead>\n",
              "  <tbody>\n",
              "    <tr>\n",
              "      <th>16</th>\n",
              "      <td>16</td>\n",
              "      <td>3</td>\n",
              "      <td>16</td>\n",
              "    </tr>\n",
              "  </tbody>\n",
              "</table>\n",
              "</div>"
            ],
            "text/plain": [
              "     a  b   c\n",
              "16  16  3  16"
            ]
          },
          "metadata": {
            "tags": []
          },
          "execution_count": 20
        }
      ]
    },
    {
      "cell_type": "markdown",
      "metadata": {
        "id": "THGi_jDYXMbY"
      },
      "source": [
        "You can also pass local variables to cuDF queries, via the `local_dict` keyword or `@` operator."
      ]
    },
    {
      "cell_type": "code",
      "metadata": {
        "colab": {
          "base_uri": "https://localhost:8080/"
        },
        "id": "l6A00n3ZXMbY",
        "outputId": "4365d5b9-3337-41a4-956f-d36b82399127"
      },
      "source": [
        "cudf_comparator = 3\n",
        "print(df.query(\"b == @cudf_comparator\"))"
      ],
      "execution_count": null,
      "outputs": [
        {
          "output_type": "stream",
          "text": [
            "     a  b   c\n",
            "16  16  3  16\n"
          ],
          "name": "stdout"
        }
      ]
    },
    {
      "cell_type": "markdown",
      "metadata": {
        "id": "jRsFPaXIXMbY"
      },
      "source": [
        "Supported logical operators include `>`, `<`, `>=`, `<=`, `==`, and `!=`."
      ]
    },
    {
      "cell_type": "markdown",
      "metadata": {
        "id": "iPrQKzddXMbY"
      },
      "source": [
        "## Exercise 2\n",
        "\n",
        "Try to select only the rows from `df` where the value in column `b` is greater than the value in column `c` + 6.\n",
        "\n",
        "<details><summary><b>Solution</b></summary>\n",
        "   <pre>\n",
        "    <br>print(df.query(\"b > c + 6\"))\n",
        "   </pre>\n",
        "</details>"
      ]
    },
    {
      "cell_type": "code",
      "metadata": {
        "colab": {
          "base_uri": "https://localhost:8080/"
        },
        "id": "ib8h9Sb9XMbZ",
        "outputId": "d36a63e5-5b77-4630-96b6-5d56bd001bd9"
      },
      "source": [
        "print(df.query(\"b > c + 6\"))"
      ],
      "execution_count": null,
      "outputs": [
        {
          "output_type": "stream",
          "text": [
            "   a   b  c\n",
            "0  0  19  0\n",
            "1  1  18  1\n",
            "2  2  17  2\n",
            "3  3  16  3\n",
            "4  4  15  4\n",
            "5  5  14  5\n",
            "6  6  13  6\n"
          ],
          "name": "stdout"
        }
      ]
    },
    {
      "cell_type": "markdown",
      "metadata": {
        "id": "GFfrFSnMXMbZ"
      },
      "source": [
        "Missing Data\n",
        "------------"
      ]
    },
    {
      "cell_type": "markdown",
      "metadata": {
        "id": "HILgv8YfXMbZ"
      },
      "source": [
        "Missing data can be replaced by using the `fillna` method."
      ]
    },
    {
      "cell_type": "code",
      "metadata": {
        "colab": {
          "base_uri": "https://localhost:8080/"
        },
        "id": "xnMT35Z1XMba",
        "outputId": "62007441-5125-44be-f072-867498c09439"
      },
      "source": [
        "print(s.fillna(999))"
      ],
      "execution_count": null,
      "outputs": [
        {
          "output_type": "stream",
          "text": [
            "0      1\n",
            "1      2\n",
            "2      3\n",
            "3    999\n",
            "4      4\n",
            "dtype: int64\n"
          ],
          "name": "stdout"
        }
      ]
    },
    {
      "cell_type": "markdown",
      "metadata": {
        "id": "xQV4Yv9tXMba"
      },
      "source": [
        "Operations\n",
        "------------"
      ]
    },
    {
      "cell_type": "markdown",
      "metadata": {
        "id": "_jARJEUCXMba"
      },
      "source": [
        "## Stats"
      ]
    },
    {
      "cell_type": "markdown",
      "metadata": {
        "id": "peyrPBXDXMbb"
      },
      "source": [
        "Calculating descriptive statistics for a `Series`."
      ]
    },
    {
      "cell_type": "code",
      "metadata": {
        "id": "We08uH17XMbb"
      },
      "source": [
        "s = cudf.Series(np.arange(10)).astype(np.float32)"
      ],
      "execution_count": null,
      "outputs": []
    },
    {
      "cell_type": "code",
      "metadata": {
        "colab": {
          "base_uri": "https://localhost:8080/"
        },
        "id": "5n94NB71XMbb",
        "outputId": "d40d4bc6-f326-47d1-d266-044b0f6bccdb"
      },
      "source": [
        "print(s.mean(), s.var())"
      ],
      "execution_count": null,
      "outputs": [
        {
          "output_type": "stream",
          "text": [
            "4.5 9.166666666666668\n"
          ],
          "name": "stdout"
        }
      ]
    },
    {
      "cell_type": "code",
      "metadata": {
        "colab": {
          "base_uri": "https://localhost:8080/"
        },
        "id": "71HMwHD2XMbb",
        "outputId": "6dd2df27-7451-4002-d543-f3ef3bf4f8d9"
      },
      "source": [
        "print(df.describe())"
      ],
      "execution_count": null,
      "outputs": [
        {
          "output_type": "stream",
          "text": [
            "              a         b         c\n",
            "count  20.00000  20.00000  20.00000\n",
            "mean    9.50000   9.50000   9.50000\n",
            "std     5.91608   5.91608   5.91608\n",
            "min     0.00000   0.00000   0.00000\n",
            "25%     4.75000   4.75000   4.75000\n",
            "50%     9.50000   9.50000   9.50000\n",
            "75%    14.25000  14.25000  14.25000\n",
            "max    19.00000  19.00000  19.00000\n"
          ],
          "name": "stdout"
        }
      ]
    },
    {
      "cell_type": "markdown",
      "metadata": {
        "id": "lITl0sLbXMbb"
      },
      "source": [
        "## Applymap"
      ]
    },
    {
      "cell_type": "markdown",
      "metadata": {
        "id": "QqYeMYkiXMbb"
      },
      "source": [
        "Applying functions to a `Series`."
      ]
    },
    {
      "cell_type": "code",
      "metadata": {
        "colab": {
          "base_uri": "https://localhost:8080/"
        },
        "id": "tJvt2XQAXMbc",
        "outputId": "13f25643-0726-409c-a70a-fb112dd79298"
      },
      "source": [
        "def add_ten(num):\n",
        "    return num + 10\n",
        "\n",
        "print(s.applymap(add_ten))"
      ],
      "execution_count": null,
      "outputs": [
        {
          "output_type": "stream",
          "text": [
            "0    10.0\n",
            "1    11.0\n",
            "2    12.0\n",
            "3    13.0\n",
            "4    14.0\n",
            "5    15.0\n",
            "6    16.0\n",
            "7    17.0\n",
            "8    18.0\n",
            "9    19.0\n",
            "dtype: float64\n"
          ],
          "name": "stdout"
        }
      ]
    },
    {
      "cell_type": "markdown",
      "metadata": {
        "id": "qmVnKYywXMbc"
      },
      "source": [
        "We can also apply more complicated functions, such as this one."
      ]
    },
    {
      "cell_type": "code",
      "metadata": {
        "colab": {
          "base_uri": "https://localhost:8080/"
        },
        "id": "0fckqpp7XMbc",
        "outputId": "c49c7739-63a1-4922-de30-1dc80c29446a"
      },
      "source": [
        "def complex_math_transform(num):\n",
        "    return math.cos(num) * 3 / 9\n",
        "\n",
        "def not_so_complex_transform(num):\n",
        "    return num * 3 / 9\n",
        "\n",
        "#print(s.applymap(complex_math_transform))\n",
        "print(s.cos().applymap(not_so_complex_transform)) # not actually correct"
      ],
      "execution_count": null,
      "outputs": [
        {
          "output_type": "stream",
          "text": [
            "0    0.333333\n",
            "1    0.180101\n",
            "2   -0.138716\n",
            "3   -0.329997\n",
            "4   -0.217881\n",
            "5    0.094554\n",
            "6    0.320057\n",
            "7    0.251301\n",
            "8   -0.048500\n",
            "9   -0.303710\n",
            "dtype: float64\n"
          ],
          "name": "stdout"
        }
      ]
    },
    {
      "cell_type": "markdown",
      "metadata": {
        "id": "87mtEDyxXMbc"
      },
      "source": [
        "## String Methods"
      ]
    },
    {
      "cell_type": "markdown",
      "metadata": {
        "id": "i8Doqq_3XMbc"
      },
      "source": [
        "Like pandas, cuDF provides string processing methods in the `str` attribute of `Series`. Full documentation of string methods is a work in progress. Please see the cuDF and [nvStrings API](https://docs.rapids.ai/api/nvstrings/nightly/) documentation for more information."
      ]
    },
    {
      "cell_type": "code",
      "metadata": {
        "colab": {
          "base_uri": "https://localhost:8080/"
        },
        "id": "KRiUlPbuXMbd",
        "outputId": "340d6d24-0e85-46cd-868e-a3e9b350de78"
      },
      "source": [
        "s = cudf.Series(['A', 'B', 'C', 'Aaba', 'Baca', None, 'CABA', 'dog', 'cat'])\n",
        "print(s.str.lower())"
      ],
      "execution_count": null,
      "outputs": [
        {
          "output_type": "stream",
          "text": [
            "0       a\n",
            "1       b\n",
            "2       c\n",
            "3    aaba\n",
            "4    baca\n",
            "5    <NA>\n",
            "6    caba\n",
            "7     dog\n",
            "8     cat\n",
            "dtype: object\n"
          ],
          "name": "stdout"
        }
      ]
    },
    {
      "cell_type": "markdown",
      "metadata": {
        "id": "zkXhemThXMbd"
      },
      "source": [
        "## Exercise 3\n",
        "\n",
        "Try to convert all the strings to uppercase. Take a look at the nvStrings API documentation linked above if you need some help.\n",
        "\n",
        "<details><summary><b>Solution</b></summary>\n",
        "   <pre>\n",
        "    <br>print(s.str.upper())\n",
        "   </pre>\n",
        "</details>"
      ]
    },
    {
      "cell_type": "code",
      "metadata": {
        "colab": {
          "base_uri": "https://localhost:8080/"
        },
        "id": "Da2B4jfVXMbd",
        "outputId": "750f9c3d-44b6-435f-c493-7217cc9e5c62"
      },
      "source": [
        "print(s.str.upper())"
      ],
      "execution_count": null,
      "outputs": [
        {
          "output_type": "stream",
          "text": [
            "0       A\n",
            "1       B\n",
            "2       C\n",
            "3    AABA\n",
            "4    BACA\n",
            "5    <NA>\n",
            "6    CABA\n",
            "7     DOG\n",
            "8     CAT\n",
            "dtype: object\n"
          ],
          "name": "stdout"
        }
      ]
    },
    {
      "cell_type": "markdown",
      "metadata": {
        "id": "-scGEUhTXMbd"
      },
      "source": [
        "## Concat"
      ]
    },
    {
      "cell_type": "markdown",
      "metadata": {
        "id": "I7G7vtA0XMbd"
      },
      "source": [
        "Concatenating `Series` and `DataFrames` row-wise."
      ]
    },
    {
      "cell_type": "code",
      "metadata": {
        "colab": {
          "base_uri": "https://localhost:8080/"
        },
        "id": "UekO-jKkXMbd",
        "outputId": "0c253662-3ca3-4e41-967b-480c7e3532f8"
      },
      "source": [
        "s = cudf.Series([1, 2, 3, None, 5])\n",
        "print(cudf.concat([s, s]))\n",
        "print(\"---\\nAlso concat by cols:\")\n",
        "print(cudf.concat([s,s], axis=1))"
      ],
      "execution_count": null,
      "outputs": [
        {
          "output_type": "stream",
          "text": [
            "0       1\n",
            "1       2\n",
            "2       3\n",
            "3    <NA>\n",
            "4       5\n",
            "0       1\n",
            "1       2\n",
            "2       3\n",
            "3    <NA>\n",
            "4       5\n",
            "dtype: int64\n",
            "---\n",
            "Also concat by cols:\n",
            "      0     1\n",
            "0     1     1\n",
            "1     2     2\n",
            "2     3     3\n",
            "3  <NA>  <NA>\n",
            "4     5     5\n"
          ],
          "name": "stdout"
        }
      ]
    },
    {
      "cell_type": "markdown",
      "metadata": {
        "id": "OUn8tpWOXMbe"
      },
      "source": [
        "## Append"
      ]
    },
    {
      "cell_type": "markdown",
      "metadata": {
        "id": "9ZbZqjX-XMbe"
      },
      "source": [
        "Appending values from another `Series` or array-like object."
      ]
    },
    {
      "cell_type": "code",
      "metadata": {
        "colab": {
          "base_uri": "https://localhost:8080/"
        },
        "id": "LtwJfu67XMbe",
        "outputId": "d92fb196-8517-4400-cf8d-5fdf9229d930"
      },
      "source": [
        "print(s.append(s))"
      ],
      "execution_count": null,
      "outputs": [
        {
          "output_type": "stream",
          "text": [
            "0       1\n",
            "1       2\n",
            "2       3\n",
            "3    <NA>\n",
            "4       5\n",
            "0       1\n",
            "1       2\n",
            "2       3\n",
            "3    <NA>\n",
            "4       5\n",
            "dtype: int64\n"
          ],
          "name": "stdout"
        }
      ]
    },
    {
      "cell_type": "markdown",
      "metadata": {
        "id": "XGHsDCYrXMbe"
      },
      "source": [
        "## Join"
      ]
    },
    {
      "cell_type": "markdown",
      "metadata": {
        "id": "ii3GOPidXMbf"
      },
      "source": [
        "Performing SQL style merges. Note that the dataframe order is not maintained, but may be restored post-merge by sorting by the index."
      ]
    },
    {
      "cell_type": "code",
      "metadata": {
        "colab": {
          "base_uri": "https://localhost:8080/"
        },
        "id": "DVfiPqQcXMbf",
        "outputId": "a31ae91a-91b7-4eda-d042-719aaf11b28e"
      },
      "source": [
        "df_a = cudf.DataFrame()\n",
        "df_a['key'] = ['a', 'b', 'c', 'd', 'e']\n",
        "df_a['vals_a'] = [float(i + 10) for i in range(5)]\n",
        "\n",
        "df_b = cudf.DataFrame()\n",
        "df_b['key'] = ['a', 'c', 'e']\n",
        "df_b['vals_b'] = [float(i+100) for i in range(3)]\n",
        "\n",
        "merged = df_a.merge(df_b, on=['key'], how='left')\n",
        "print(merged)"
      ],
      "execution_count": null,
      "outputs": [
        {
          "output_type": "stream",
          "text": [
            "  key  vals_a vals_b\n",
            "0   a    10.0  100.0\n",
            "1   c    12.0  101.0\n",
            "2   e    14.0  102.0\n",
            "3   b    11.0   <NA>\n",
            "4   d    13.0   <NA>\n"
          ],
          "name": "stdout"
        }
      ]
    },
    {
      "cell_type": "markdown",
      "metadata": {
        "id": "SaAknqywXMbf"
      },
      "source": [
        "## Exercise 4\n",
        "\n",
        "Using the DataFrames we created above, try to do an `inner` join using `merge`.\n",
        "\n",
        "<details><summary><b>Solution</b></summary>\n",
        "   <pre>\n",
        "    <br>print(df_a.merge(df_b, on=['key'], how='inner'))\n",
        "   </pre>\n",
        "</details>"
      ]
    },
    {
      "cell_type": "code",
      "metadata": {
        "colab": {
          "base_uri": "https://localhost:8080/"
        },
        "id": "OEVkYdv0XMbf",
        "outputId": "a27e7d4e-afee-4056-83c8-3a235711504a"
      },
      "source": [
        "inner_merge = df_a.merge(df_b, on=['key'])\n",
        "print(inner_merge)"
      ],
      "execution_count": null,
      "outputs": [
        {
          "output_type": "stream",
          "text": [
            "  key  vals_a  vals_b\n",
            "0   a    10.0   100.0\n",
            "1   c    12.0   101.0\n",
            "2   e    14.0   102.0\n"
          ],
          "name": "stdout"
        }
      ]
    },
    {
      "cell_type": "markdown",
      "metadata": {
        "id": "AISQ0aObXMbg"
      },
      "source": [
        "## Grouping"
      ]
    },
    {
      "cell_type": "markdown",
      "metadata": {
        "id": "8N987ipGXMbg"
      },
      "source": [
        "Like pandas, cuDF supports the [Split-Apply-Combine](https://pandas.pydata.org/pandas-docs/stable/user_guide/groupby.html) groupby paradigm."
      ]
    },
    {
      "cell_type": "code",
      "metadata": {
        "id": "m-kuJXZOXMbg"
      },
      "source": [
        "df['agg_col1'] = [1 if x % 2 == 0 else 0 for x in range(len(df))]\n",
        "df['agg_col2'] = [1 if x % 3 == 0 else 0 for x in range(len(df))]"
      ],
      "execution_count": null,
      "outputs": []
    },
    {
      "cell_type": "markdown",
      "metadata": {
        "id": "f1SgyXaeXMbg"
      },
      "source": [
        "Grouping and then applying the `sum` function to the grouped data."
      ]
    },
    {
      "cell_type": "code",
      "metadata": {
        "colab": {
          "base_uri": "https://localhost:8080/"
        },
        "id": "iDnqyX1wXMbg",
        "outputId": "3500c7b0-8022-43ac-a247-93b1a6d75be7"
      },
      "source": [
        "print(df.groupby('agg_col1').sum())"
      ],
      "execution_count": null,
      "outputs": [
        {
          "output_type": "stream",
          "text": [
            "            a    b    c  agg_col2\n",
            "agg_col1                         \n",
            "1          90  100   90         4\n",
            "0         100   90  100         3\n"
          ],
          "name": "stdout"
        }
      ]
    },
    {
      "cell_type": "markdown",
      "metadata": {
        "id": "MxkNwJqfXMbg"
      },
      "source": [
        "Grouping and applying statistical functions to specific columns, using `agg`."
      ]
    },
    {
      "cell_type": "code",
      "metadata": {
        "colab": {
          "base_uri": "https://localhost:8080/"
        },
        "id": "C0KilIxiXMbh",
        "outputId": "271addf2-82d1-4cb3-86a7-90d8ddca7ca5"
      },
      "source": [
        "print(df.groupby('agg_col1').agg({'a':'max', 'b':'mean', 'c':'sum'}))"
      ],
      "execution_count": null,
      "outputs": [
        {
          "output_type": "stream",
          "text": [
            "           a     b    c\n",
            "agg_col1               \n",
            "1         18  10.0   90\n",
            "0         19   9.0  100\n"
          ],
          "name": "stdout"
        }
      ]
    },
    {
      "cell_type": "markdown",
      "metadata": {
        "id": "aDj5T1IGXMbh"
      },
      "source": [
        "## Exercise 5\n",
        "\n",
        "We can also group by multiple columns at once, which we call grouping hierarchically. Try to group `df` by `agg_col1` and `agg_col2` and calculate the mean of column `a` and minimum of column `b`.\n",
        "\n",
        "<details><summary><b>Solution</b></summary>\n",
        "   <pre>\n",
        "    <br>print(df.groupby(['agg_col1', 'agg_col2']).agg({'a':'mean', 'b':'min'}).to_pandas())\n",
        "   </pre>\n",
        "</details>"
      ]
    },
    {
      "cell_type": "code",
      "metadata": {
        "colab": {
          "base_uri": "https://localhost:8080/"
        },
        "id": "GnKWd50EXMbh",
        "outputId": "6033d5ac-9198-4dfa-c527-0b960ce2bcfc"
      },
      "source": [
        "print(df.groupby(['agg_col1', 'agg_col2']).agg({'a':'mean', 'b':'min'}))"
      ],
      "execution_count": null,
      "outputs": [
        {
          "output_type": "stream",
          "text": [
            "                           a  b\n",
            "agg_col1 agg_col2              \n",
            "1        0          9.000000  3\n",
            "0        0         10.428571  0\n",
            "1        1          9.000000  1\n",
            "0        1          9.000000  4\n"
          ],
          "name": "stdout"
        }
      ]
    },
    {
      "cell_type": "markdown",
      "metadata": {
        "id": "BaIqOpO0XMbh"
      },
      "source": [
        "Time Series\n",
        "------------\n"
      ]
    },
    {
      "cell_type": "markdown",
      "metadata": {
        "id": "DHBkoM2zXMbh"
      },
      "source": [
        "`DataFrames` supports `datetime` typed columns, which allow users to interact with and filter data based on specific timestamps."
      ]
    },
    {
      "cell_type": "code",
      "metadata": {
        "colab": {
          "base_uri": "https://localhost:8080/"
        },
        "id": "dULZqc2uXMbh",
        "outputId": "535f7282-8019-40f2-bca7-bf4d895f04e4"
      },
      "source": [
        "date_df = cudf.DataFrame()\n",
        "date_df['date'] = pd.date_range('11/20/2018', periods=72, freq='D')\n",
        "date_df['value'] = np.random.sample(len(date_df))\n",
        "print(date_df.head())"
      ],
      "execution_count": null,
      "outputs": [
        {
          "output_type": "stream",
          "text": [
            "        date     value\n",
            "0 2018-11-20  0.154163\n",
            "1 2018-11-21  0.740050\n",
            "2 2018-11-22  0.263315\n",
            "3 2018-11-23  0.533739\n",
            "4 2018-11-24  0.014575\n"
          ],
          "name": "stdout"
        }
      ]
    },
    {
      "cell_type": "markdown",
      "metadata": {
        "id": "BQ5011KkXMbh"
      },
      "source": [
        "## Exercise 6\n",
        "\n",
        "Try to use `query` to filter `date_df` to only those row with a date before `2018-11-23`. This is a bit trickier than the prior exercises. As a hint, you'll want to explore the `to_datetime` function from the `pandas` library.\n",
        "\n",
        "<details><summary><b>Solution</b></summary>\n",
        "   <pre>\n",
        "    <br>\n",
        "    search_date = pd.to_datetime('2018-11-23')\n",
        "    print(date_df.query(\"date &lt= @search_date\"))\n",
        "            </br>\n",
        "   </pre>\n",
        "</details>"
      ]
    },
    {
      "cell_type": "code",
      "metadata": {
        "colab": {
          "base_uri": "https://localhost:8080/"
        },
        "id": "kjg_K40hXMbi",
        "outputId": "f32c1618-f33a-435a-d77b-2e886040a682"
      },
      "source": [
        "filter_datetime = pd.to_datetime('2018-11-23')\n",
        "print(date_df.query(\"date < @filter_datetime\"))"
      ],
      "execution_count": null,
      "outputs": [
        {
          "output_type": "stream",
          "text": [
            "        date     value\n",
            "0 2018-11-20  0.154163\n",
            "1 2018-11-21  0.740050\n",
            "2 2018-11-22  0.263315\n"
          ],
          "name": "stdout"
        }
      ]
    },
    {
      "cell_type": "markdown",
      "metadata": {
        "id": "brX9p6r9XMbi"
      },
      "source": [
        "You can also interact with datetime columns to extract things like the day, hour, minute, and more."
      ]
    },
    {
      "cell_type": "code",
      "metadata": {
        "colab": {
          "base_uri": "https://localhost:8080/"
        },
        "id": "7FRg1JkuXMbi",
        "outputId": "72875da5-e137-4432-c29f-3e3ffa602b99"
      },
      "source": [
        "date_df['minute'] = date_df.date.dt.minute\n",
        "print(date_df.head())"
      ],
      "execution_count": null,
      "outputs": [
        {
          "output_type": "stream",
          "text": [
            "        date     value  minute\n",
            "0 2018-11-20  0.154163       0\n",
            "1 2018-11-21  0.740050       0\n",
            "2 2018-11-22  0.263315       0\n",
            "3 2018-11-23  0.533739       0\n",
            "4 2018-11-24  0.014575       0\n"
          ],
          "name": "stdout"
        }
      ]
    },
    {
      "cell_type": "markdown",
      "metadata": {
        "id": "grVwX_iEXMbj"
      },
      "source": [
        "Converting Data Representation\n",
        "--------------------------------"
      ]
    },
    {
      "cell_type": "markdown",
      "metadata": {
        "id": "3_9j_L5mXMbj"
      },
      "source": [
        "## Pandas"
      ]
    },
    {
      "cell_type": "markdown",
      "metadata": {
        "id": "d0eYvsaVXMbj"
      },
      "source": [
        "Converting a cuDF `DataFrame` to a pandas `DataFrame`."
      ]
    },
    {
      "cell_type": "code",
      "metadata": {
        "colab": {
          "base_uri": "https://localhost:8080/"
        },
        "id": "BwUPwZ7vXMbj",
        "outputId": "cd2d1683-3514-4edd-942a-bfcca4c25643"
      },
      "source": [
        "print(df.head().to_pandas())"
      ],
      "execution_count": null,
      "outputs": [
        {
          "output_type": "stream",
          "text": [
            "   a   b  c  agg_col1  agg_col2\n",
            "0  0  19  0         1         1\n",
            "1  1  18  1         0         0\n",
            "2  2  17  2         1         0\n",
            "3  3  16  3         0         1\n",
            "4  4  15  4         1         0\n"
          ],
          "name": "stdout"
        }
      ]
    },
    {
      "cell_type": "markdown",
      "metadata": {
        "id": "Vjspa7lvXMbl"
      },
      "source": [
        "## Numpy"
      ]
    },
    {
      "cell_type": "markdown",
      "metadata": {
        "id": "IIdjHD8XXMbm"
      },
      "source": [
        "Converting a cuDF `DataFrame` to a numpy `ndarray`."
      ]
    },
    {
      "cell_type": "code",
      "metadata": {
        "colab": {
          "base_uri": "https://localhost:8080/"
        },
        "id": "s8X_7M9OXMbm",
        "outputId": "cce79e4c-6496-47a2-8162-d2d6984c0e9c"
      },
      "source": [
        "print(df.as_matrix())"
      ],
      "execution_count": null,
      "outputs": [
        {
          "output_type": "stream",
          "text": [
            "[[ 0 19  0  1  1]\n",
            " [ 1 18  1  0  0]\n",
            " [ 2 17  2  1  0]\n",
            " [ 3 16  3  0  1]\n",
            " [ 4 15  4  1  0]\n",
            " [ 5 14  5  0  0]\n",
            " [ 6 13  6  1  1]\n",
            " [ 7 12  7  0  0]\n",
            " [ 8 11  8  1  0]\n",
            " [ 9 10  9  0  1]\n",
            " [10  9 10  1  0]\n",
            " [11  8 11  0  0]\n",
            " [12  7 12  1  1]\n",
            " [13  6 13  0  0]\n",
            " [14  5 14  1  0]\n",
            " [15  4 15  0  1]\n",
            " [16  3 16  1  0]\n",
            " [17  2 17  0  0]\n",
            " [18  1 18  1  1]\n",
            " [19  0 19  0  0]]\n"
          ],
          "name": "stdout"
        }
      ]
    },
    {
      "cell_type": "markdown",
      "metadata": {
        "id": "DgsMexXvXMbm"
      },
      "source": [
        "Converting a cuDF `Series` to a numpy `ndarray`."
      ]
    },
    {
      "cell_type": "code",
      "metadata": {
        "colab": {
          "base_uri": "https://localhost:8080/"
        },
        "id": "ivSjoSWjXMbm",
        "outputId": "bff97123-01d9-4a6d-d85c-435ff4fe6a54"
      },
      "source": [
        "print(df['a'].to_array())"
      ],
      "execution_count": null,
      "outputs": [
        {
          "output_type": "stream",
          "text": [
            "[ 0  1  2  3  4  5  6  7  8  9 10 11 12 13 14 15 16 17 18 19]\n"
          ],
          "name": "stdout"
        }
      ]
    },
    {
      "cell_type": "markdown",
      "metadata": {
        "id": "E4mAx7H1XMbn"
      },
      "source": [
        "Getting Data In/Out\n",
        "------------------------\n"
      ]
    },
    {
      "cell_type": "markdown",
      "metadata": {
        "id": "vKTfHq09XMbn"
      },
      "source": [
        "## CSV"
      ]
    },
    {
      "cell_type": "markdown",
      "metadata": {
        "id": "sXF8lnDYXMbn"
      },
      "source": [
        "Writing to a CSV file, by first sending data to a pandas `Dataframe` on the host."
      ]
    },
    {
      "cell_type": "code",
      "metadata": {
        "id": "Kx9YmDlCXMbn"
      },
      "source": [
        "if not os.path.exists('example_output'):\n",
        "    os.mkdir('example_output')\n",
        "    \n",
        "df.to_pandas().to_csv('example_output/foo.csv', index=False)"
      ],
      "execution_count": null,
      "outputs": []
    },
    {
      "cell_type": "markdown",
      "metadata": {
        "id": "iR01eRgnXMbn"
      },
      "source": [
        "Reading from a csv file."
      ]
    },
    {
      "cell_type": "code",
      "metadata": {
        "colab": {
          "base_uri": "https://localhost:8080/"
        },
        "id": "OY_YapCqXMbn",
        "outputId": "4a836310-36bb-4d72-c6c5-4b1290b1b539"
      },
      "source": [
        "df = cudf.read_csv('example_output/foo.csv')\n",
        "print(df)"
      ],
      "execution_count": null,
      "outputs": [
        {
          "output_type": "stream",
          "text": [
            "     a   b   c  agg_col1  agg_col2\n",
            "0    0  19   0         1         1\n",
            "1    1  18   1         0         0\n",
            "2    2  17   2         1         0\n",
            "3    3  16   3         0         1\n",
            "4    4  15   4         1         0\n",
            "5    5  14   5         0         0\n",
            "6    6  13   6         1         1\n",
            "7    7  12   7         0         0\n",
            "8    8  11   8         1         0\n",
            "9    9  10   9         0         1\n",
            "10  10   9  10         1         0\n",
            "11  11   8  11         0         0\n",
            "12  12   7  12         1         1\n",
            "13  13   6  13         0         0\n",
            "14  14   5  14         1         0\n",
            "15  15   4  15         0         1\n",
            "16  16   3  16         1         0\n",
            "17  17   2  17         0         0\n",
            "18  18   1  18         1         1\n",
            "19  19   0  19         0         0\n"
          ],
          "name": "stdout"
        }
      ]
    },
    {
      "cell_type": "markdown",
      "metadata": {
        "id": "XAI9pUUHXMbo"
      },
      "source": [
        "That's it! You've got the basics of cuDF down! Let's talk a little bit about the computational performance of cuDF and GPUs."
      ]
    },
    {
      "cell_type": "markdown",
      "metadata": {
        "id": "B2imwy9XXMbo"
      },
      "source": [
        "# Performace"
      ]
    },
    {
      "cell_type": "markdown",
      "metadata": {
        "id": "AxHpezbfXMbo"
      },
      "source": [
        "One of the primary reasons to use cuDF over pandas is performance. For some workflows, the GPU can be **much** faster than the CPU. Let's illustrate this by starting with a small example: creating a DataFrame and calculating the sum of a column."
      ]
    },
    {
      "cell_type": "code",
      "metadata": {
        "id": "JKjssvbxXMbo"
      },
      "source": [
        "a = np.random.rand(10000000) # 10 million values"
      ],
      "execution_count": null,
      "outputs": []
    },
    {
      "cell_type": "code",
      "metadata": {
        "id": "lytyrDmBXMbo"
      },
      "source": [
        "pdf = pd.DataFrame()\n",
        "cdf = cudf.DataFrame()"
      ],
      "execution_count": null,
      "outputs": []
    },
    {
      "cell_type": "code",
      "metadata": {
        "colab": {
          "base_uri": "https://localhost:8080/"
        },
        "id": "uJONVLFsXMbo",
        "outputId": "1a219ca6-10ba-44fe-bd53-4c8050b2a8c0"
      },
      "source": [
        "%time pdf['a'] = a\n",
        "%time cdf['a'] = a"
      ],
      "execution_count": null,
      "outputs": [
        {
          "output_type": "stream",
          "text": [
            "CPU times: user 617 ms, sys: 417 ms, total: 1.03 s\n",
            "Wall time: 967 ms\n",
            "CPU times: user 21.3 ms, sys: 63.7 ms, total: 85 ms\n",
            "Wall time: 84.1 ms\n"
          ],
          "name": "stdout"
        }
      ]
    },
    {
      "cell_type": "code",
      "metadata": {
        "colab": {
          "base_uri": "https://localhost:8080/"
        },
        "id": "VzwKnbXhXMbo",
        "outputId": "0b6ca298-3ce8-4893-b4cf-3553340af0e9"
      },
      "source": [
        "%%timeit\n",
        "pdf['a'].sum()"
      ],
      "execution_count": null,
      "outputs": [
        {
          "output_type": "stream",
          "text": [
            "10 loops, best of 5: 41.4 ms per loop\n"
          ],
          "name": "stdout"
        }
      ]
    },
    {
      "cell_type": "code",
      "metadata": {
        "colab": {
          "base_uri": "https://localhost:8080/"
        },
        "id": "bb0UnTUAXMbp",
        "outputId": "3ef4aaf7-8504-486d-9c82-8031893ee527"
      },
      "source": [
        "%%timeit\n",
        "cdf['a'].sum()"
      ],
      "execution_count": null,
      "outputs": [
        {
          "output_type": "stream",
          "text": [
            "1000 loops, best of 5: 1.07 ms per loop\n"
          ],
          "name": "stdout"
        }
      ]
    },
    {
      "cell_type": "markdown",
      "metadata": {
        "id": "qpyl_mx8XMbp"
      },
      "source": [
        "Pretty cool! This is a pretty small example, though."
      ]
    },
    {
      "cell_type": "markdown",
      "metadata": {
        "id": "pfmbb8NNXMbp"
      },
      "source": [
        "### A More Realistic Example: Sensor Data Analytics\n",
        "\n",
        "To get a more realistic sense of how powerful cuDF and GPUs can be, let's imagine you had a fleet of sensors that collect data every millisecond. These sensors could be measuring pressure, temperature, or something else entirely.\n",
        "\n",
        "Let's imagine we want to analyze one day's worth of sensor data. We'll assign random values for the sensor `value` to use for this example. We'll start by creating the data, and generating some datetime related features like we learned about in the above tutorial."
      ]
    },
    {
      "cell_type": "code",
      "metadata": {
        "colab": {
          "base_uri": "https://localhost:8080/"
        },
        "id": "botcdfb1XMbp",
        "outputId": "ac6d2be4-4555-43a8-dc2e-8577e274fd1d"
      },
      "source": [
        "%%time\n",
        "\n",
        "date_df = pd.DataFrame()\n",
        "date_df['date'] = pd.date_range(start='2019-07-05', end='2019-07-06', freq='ms')\n",
        "date_df['value'] = np.random.sample(len(date_df))\n",
        "\n",
        "date_df['hour'] = date_df.date.dt.hour\n",
        "date_df['minute'] = date_df.date.dt.minute\n",
        "\n",
        "print(date_df.shape)\n",
        "date_df.head()"
      ],
      "execution_count": null,
      "outputs": [
        {
          "output_type": "stream",
          "text": [
            "(86400001, 4)\n",
            "CPU times: user 20.4 s, sys: 10.9 s, total: 31.3 s\n",
            "Wall time: 31 s\n"
          ],
          "name": "stdout"
        }
      ]
    },
    {
      "cell_type": "markdown",
      "metadata": {
        "id": "YKF6rKW5XMbp"
      },
      "source": [
        "Just creating the data takes a while! Let's do our analysis. From our sensor data, we want to get the maximum sensor value for each minute. Since we don't want to combine values in the same minute of different hours, we'll need to do a hierarchical groupby."
      ]
    },
    {
      "cell_type": "code",
      "metadata": {
        "colab": {
          "base_uri": "https://localhost:8080/",
          "height": 272
        },
        "id": "RYiB8tO7XMbp",
        "outputId": "3a9eee3c-1687-4f46-f75b-c3c634b007c5"
      },
      "source": [
        "%time results = date_df.groupby(['hour', 'minute']).agg({'value':'max'})\n",
        "results.head()"
      ],
      "execution_count": null,
      "outputs": [
        {
          "output_type": "stream",
          "text": [
            "CPU times: user 3.11 s, sys: 8.52 s, total: 11.6 s\n",
            "Wall time: 11.5 s\n"
          ],
          "name": "stdout"
        },
        {
          "output_type": "execute_result",
          "data": {
            "text/html": [
              "<div>\n",
              "<style scoped>\n",
              "    .dataframe tbody tr th:only-of-type {\n",
              "        vertical-align: middle;\n",
              "    }\n",
              "\n",
              "    .dataframe tbody tr th {\n",
              "        vertical-align: top;\n",
              "    }\n",
              "\n",
              "    .dataframe thead th {\n",
              "        text-align: right;\n",
              "    }\n",
              "</style>\n",
              "<table border=\"1\" class=\"dataframe\">\n",
              "  <thead>\n",
              "    <tr style=\"text-align: right;\">\n",
              "      <th></th>\n",
              "      <th></th>\n",
              "      <th>value</th>\n",
              "    </tr>\n",
              "    <tr>\n",
              "      <th>hour</th>\n",
              "      <th>minute</th>\n",
              "      <th></th>\n",
              "    </tr>\n",
              "  </thead>\n",
              "  <tbody>\n",
              "    <tr>\n",
              "      <th rowspan=\"5\" valign=\"top\">0</th>\n",
              "      <th>0</th>\n",
              "      <td>0.999994</td>\n",
              "    </tr>\n",
              "    <tr>\n",
              "      <th>1</th>\n",
              "      <td>0.999931</td>\n",
              "    </tr>\n",
              "    <tr>\n",
              "      <th>2</th>\n",
              "      <td>0.999995</td>\n",
              "    </tr>\n",
              "    <tr>\n",
              "      <th>3</th>\n",
              "      <td>0.999962</td>\n",
              "    </tr>\n",
              "    <tr>\n",
              "      <th>4</th>\n",
              "      <td>0.999975</td>\n",
              "    </tr>\n",
              "  </tbody>\n",
              "</table>\n",
              "</div>"
            ],
            "text/plain": [
              "                value\n",
              "hour minute          \n",
              "0    0       0.999994\n",
              "     1       0.999931\n",
              "     2       0.999995\n",
              "     3       0.999962\n",
              "     4       0.999975"
            ]
          },
          "metadata": {
            "tags": []
          },
          "execution_count": 53
        }
      ]
    },
    {
      "cell_type": "markdown",
      "metadata": {
        "id": "ALmGdrJiXMbq"
      },
      "source": [
        "This is fairly slow! Imagine if we had a fleet of sensors. Time would become a serious concern.\n",
        "\n",
        "Let's try this in cuDF now, using the GPU DataFrame. We'll run the same code as above."
      ]
    },
    {
      "cell_type": "code",
      "metadata": {
        "colab": {
          "base_uri": "https://localhost:8080/"
        },
        "id": "S54H7uuOXMbq",
        "outputId": "62866646-a24e-4cf4-e7ec-7f1928c5e9cf"
      },
      "source": [
        "%%time\n",
        "\n",
        "date_df = cudf.DataFrame()\n",
        "date_df['date'] = pd.date_range(start='2019-07-05', end='2019-07-06', freq='ms')\n",
        "date_df['value'] = np.random.sample(len(date_df))\n",
        "\n",
        "date_df['hour'] = date_df.date.dt.hour\n",
        "date_df['minute'] = date_df.date.dt.minute\n",
        "date_df['second'] = date_df.date.dt.second\n",
        "\n",
        "print(date_df.shape)\n",
        "print(date_df.head())"
      ],
      "execution_count": null,
      "outputs": [
        {
          "output_type": "stream",
          "text": [
            "(86400001, 5)\n",
            "                     date     value  hour  minute  second\n",
            "0 2019-07-05 00:00:00.000  0.453388     0       0       0\n",
            "1 2019-07-05 00:00:00.001  0.804337     0       0       0\n",
            "2 2019-07-05 00:00:00.002  0.449341     0       0       0\n",
            "3 2019-07-05 00:00:00.003  0.596637     0       0       0\n",
            "4 2019-07-05 00:00:00.004  0.552345     0       0       0\n",
            "CPU times: user 1.45 s, sys: 483 ms, total: 1.94 s\n",
            "Wall time: 1.94 s\n"
          ],
          "name": "stdout"
        }
      ]
    },
    {
      "cell_type": "code",
      "metadata": {
        "colab": {
          "base_uri": "https://localhost:8080/",
          "height": 272
        },
        "id": "BWGUroX2XMbq",
        "outputId": "14776577-a860-4c39-f5e7-d637b2cb183a"
      },
      "source": [
        "%time results = date_df.groupby(['hour', 'minute', 'second']).agg({'value':'max'})\n",
        "results.head()"
      ],
      "execution_count": null,
      "outputs": [
        {
          "output_type": "stream",
          "text": [
            "CPU times: user 49.3 ms, sys: 35.2 ms, total: 84.5 ms\n",
            "Wall time: 84.2 ms\n"
          ],
          "name": "stdout"
        },
        {
          "output_type": "execute_result",
          "data": {
            "text/html": [
              "<div>\n",
              "<style scoped>\n",
              "    .dataframe tbody tr th:only-of-type {\n",
              "        vertical-align: middle;\n",
              "    }\n",
              "\n",
              "    .dataframe tbody tr th {\n",
              "        vertical-align: top;\n",
              "    }\n",
              "\n",
              "    .dataframe thead th {\n",
              "        text-align: right;\n",
              "    }\n",
              "</style>\n",
              "<table border=\"1\" class=\"dataframe\">\n",
              "  <thead>\n",
              "    <tr style=\"text-align: right;\">\n",
              "      <th></th>\n",
              "      <th></th>\n",
              "      <th></th>\n",
              "      <th>value</th>\n",
              "    </tr>\n",
              "    <tr>\n",
              "      <th>hour</th>\n",
              "      <th>minute</th>\n",
              "      <th>second</th>\n",
              "      <th></th>\n",
              "    </tr>\n",
              "  </thead>\n",
              "  <tbody>\n",
              "    <tr>\n",
              "      <th>2</th>\n",
              "      <th>43</th>\n",
              "      <th>35</th>\n",
              "      <td>0.999544</td>\n",
              "    </tr>\n",
              "    <tr>\n",
              "      <th>4</th>\n",
              "      <th>13</th>\n",
              "      <th>8</th>\n",
              "      <td>0.997685</td>\n",
              "    </tr>\n",
              "    <tr>\n",
              "      <th>1</th>\n",
              "      <th>44</th>\n",
              "      <th>5</th>\n",
              "      <td>0.999127</td>\n",
              "    </tr>\n",
              "    <tr>\n",
              "      <th>3</th>\n",
              "      <th>31</th>\n",
              "      <th>6</th>\n",
              "      <td>0.998985</td>\n",
              "    </tr>\n",
              "    <tr>\n",
              "      <th>9</th>\n",
              "      <th>49</th>\n",
              "      <th>13</th>\n",
              "      <td>0.994060</td>\n",
              "    </tr>\n",
              "  </tbody>\n",
              "</table>\n",
              "</div>"
            ],
            "text/plain": [
              "                       value\n",
              "hour minute second          \n",
              "2    43     35      0.999544\n",
              "4    13     8       0.997685\n",
              "1    44     5       0.999127\n",
              "3    31     6       0.998985\n",
              "9    49     13      0.994060"
            ]
          },
          "metadata": {
            "tags": []
          },
          "execution_count": 55
        }
      ]
    },
    {
      "cell_type": "markdown",
      "metadata": {
        "id": "qrGKbgoEXMbq"
      },
      "source": [
        "While the results may vary slightly, it should be clear that GPU acceleration can make a significant difference. We can get much faster results with the same code!"
      ]
    },
    {
      "cell_type": "markdown",
      "metadata": {
        "id": "FG6ChZNfXMbq"
      },
      "source": [
        "## Exercise 7\n",
        "\n",
        "Play around with some more pandas and cuDF operations and compare the performance between them. What operations can you find that gives the highest performance ratio? \n",
        "\n",
        "You can start a cell with `%%time` to time the cell, or with `%%timeit`, which runs the cell multiple times and gives an average. `%%timeit` gives a more accurate benchmark but takes longer to run."
      ]
    },
    {
      "cell_type": "code",
      "metadata": {
        "id": "2LEm8KYHXMbr"
      },
      "source": [
        ""
      ],
      "execution_count": null,
      "outputs": []
    }
  ]
}